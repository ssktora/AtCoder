{
 "cells": [
  {
   "cell_type": "code",
   "execution_count": 2,
   "metadata": {},
   "outputs": [
    {
     "name": "stdout",
     "output_type": "stream",
     "text": [
      "3 4\n",
      "No\n"
     ]
    }
   ],
   "source": [
    "a, b = map(int, input().split())\n",
    "if a+1 == b and a != 3 and a!= 6 and a!= 9:\n",
    "    print(\"Yes\")\n",
    "else:\n",
    "    print(\"No\")"
   ]
  },
  {
   "cell_type": "code",
   "execution_count": 15,
   "metadata": {
    "scrolled": true
   },
   "outputs": [
    {
     "name": "stdout",
     "output_type": "stream",
     "text": [
      "4\n",
      "0101\n",
      "1101\n",
      "1111\n",
      "0000\n",
      "[[0, 0, 0, 0], [0, 0, 0, 0], [0, 0, 0, 0], [0, 0, 0, 0]]\n",
      "a\n",
      "[['1', 0, 0, 0], [0, 0, 0, 0], [0, 0, 0, 0], [0, 0, 0, 0]]\n",
      "a\n",
      "[['1', '0', 0, 0], [0, 0, 0, 0], [0, 0, 0, 0], [0, 0, 0, 0]]\n",
      "a\n",
      "[['1', '0', '1', 0], [0, 0, 0, 0], [0, 0, 0, 0], [0, 0, 0, 0]]\n",
      "a\n",
      "[['1', '0', '1', '0'], [0, 0, 0, 0], [0, 0, 0, 0], [0, 0, 0, 0]]\n",
      "c\n",
      "[['1', '0', '1', '0'], ['1', 0, 0, 0], [0, 0, 0, 0], [0, 0, 0, 0]]\n",
      "c\n",
      "[['1', '0', '1', '0'], ['1', '1', 0, 0], [0, 0, 0, 0], [0, 0, 0, 0]]\n",
      "c\n",
      "[['1', '0', '1', '0'], ['1', '1', '0', 0], [0, 0, 0, 0], [0, 0, 0, 0]]\n",
      "c\n",
      "[['1', '0', '1', '0'], ['1', '1', '0', '1'], [0, 0, 0, 0], [0, 0, 0, 0]]\n",
      "c\n",
      "[['1', '0', '1', '0'], ['1', '1', '0', '1'], ['0', 0, 0, 0], [0, 0, 0, 0]]\n",
      "c\n",
      "[['1', '0', '1', '0'], ['1', '1', '0', '1'], ['0', '1', 0, 0], [0, 0, 0, 0]]\n",
      "c\n",
      "[['1', '0', '1', '0'], ['1', '1', '0', '1'], ['0', '1', '1', 0], [0, 0, 0, 0]]\n",
      "c\n",
      "[['1', '0', '1', '0'], ['1', '1', '0', '1'], ['0', '1', '1', '1'], [0, 0, 0, 0]]\n",
      "b\n",
      "[['1', '0', '1', '0'], ['1', '1', '0', '1'], ['0', '1', '1', '1'], ['0', 0, 0, 0]]\n",
      "b\n",
      "[['1', '0', '1', '0'], ['1', '1', '0', '1'], ['0', '1', '1', '1'], ['0', '0', 0, 0]]\n",
      "b\n",
      "[['1', '0', '1', '0'], ['1', '1', '0', '1'], ['0', '1', '1', '1'], ['0', '0', '0', 0]]\n",
      "b\n",
      "[['1', '0', '1', '0'], ['1', '1', '0', '1'], ['0', '1', '1', '1'], ['0', '0', '0', '1']]\n",
      "-------\n",
      "1010\n",
      "-------\n",
      "1101\n",
      "-------\n",
      "0111\n",
      "-------\n",
      "0001\n"
     ]
    }
   ],
   "source": [
    "n = int(input())\n",
    "S = [list(input()) for _ in range(n)]\n",
    "T = [[0 for _ in range(n)] for _ in range(n)]\n",
    "print(T)\n",
    "for i in range(n):\n",
    "    for j in range(n):\n",
    "        if i == 0:\n",
    "            #print(\"a\")\n",
    "            if j == 0:\n",
    "                T[0][0] = S[1][0]\n",
    "            else:\n",
    "                T[i][j] = S[i][j-1]\n",
    "        elif i == n-1:\n",
    "            #print(\"b\")\n",
    "            if j == n-1:\n",
    "                T[i][j] = S[i-1][j]\n",
    "            else:\n",
    "                T[i][j] = S[i][j+1]\n",
    "        else:\n",
    "            #print(\"c\")\n",
    "            if j == 0:\n",
    "                T[i][j] = S[i+1][0]\n",
    "            elif j == n-1:\n",
    "                T[i][j] = S[i-1][j]\n",
    "            else:\n",
    "                T[i][j] = S[i][j]\n",
    "        #print(T)\n",
    "\n",
    "        \n",
    "for s in T:\n",
    "    s = list(map(str,s))\n",
    "    ans = \"\".join(s)\n",
    "    #print(\"-------\")\n",
    "    print(ans)\n",
    "            "
   ]
  },
  {
   "cell_type": "code",
   "execution_count": 6,
   "metadata": {},
   "outputs": [
    {
     "name": "stdout",
     "output_type": "stream",
     "text": [
      "4 100\n",
      "6 3\n",
      "2 5\n",
      "1 9\n",
      "4 2\n",
      "[[1, 9], [2, 5], [4, 2], [6, 3]]\n",
      "1\n"
     ]
    }
   ],
   "source": [
    "n, k = map(int, input().split())\n",
    "ab = []\n",
    "total = 0\n",
    "for i in range(n):\n",
    "    a,b = map(int,input().split())\n",
    "    ab.append([a,b])\n",
    "    total += b\n",
    "\n",
    "day = 1\n",
    "ab.sort()\n",
    "\n",
    "if total <= k:\n",
    "    print(day)\n",
    "    exit()\n",
    "for i in range(n):\n",
    "    day = ab[i][0] + 1\n",
    "    total -= ab[i][1]\n",
    "    if total <= k:\n",
    "        print(day)\n",
    "        exit()\n",
    "    "
   ]
  },
  {
   "cell_type": "markdown",
   "metadata": {},
   "source": []
  }
 ],
 "metadata": {
  "kernelspec": {
   "display_name": "Python 3",
   "language": "python",
   "name": "python3"
  },
  "language_info": {
   "codemirror_mode": {
    "name": "ipython",
    "version": 3
   },
   "file_extension": ".py",
   "mimetype": "text/x-python",
   "name": "python",
   "nbconvert_exporter": "python",
   "pygments_lexer": "ipython3",
   "version": "3.8.3"
  }
 },
 "nbformat": 4,
 "nbformat_minor": 4
}
