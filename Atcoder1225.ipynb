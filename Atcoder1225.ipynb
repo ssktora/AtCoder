{
 "cells": [
  {
   "cell_type": "code",
   "execution_count": null,
   "metadata": {},
   "outputs": [],
   "source": [
    "S = input()\n",
    "for i in range(len(S)):\n",
    "    if S[i].isupper():\n",
    "        print(i+1)\n",
    "        break"
   ]
  },
  {
   "cell_type": "code",
   "execution_count": null,
   "metadata": {},
   "outputs": [],
   "source": [
    "N = int(input())\n",
    "X = list(map(int, input().split()))\n",
    "X = sorted(X, reverse=True)\n",
    "for _ in range(N):\n",
    "    X.pop(0)\n",
    "for _ in range(N):\n",
    "    X.pop()\n",
    "    \n",
    "ans = sum(X) / len(X)\n",
    "print(ans)"
   ]
  },
  {
   "cell_type": "code",
   "execution_count": null,
   "metadata": {},
   "outputs": [],
   "source": [
    "N = int(input())\n",
    "S = input()\n",
    "visited = set()\n",
    "now = (0,0)\n",
    "check = True\n",
    "for i in range(N):\n",
    "    if now in visited:\n",
    "        print(\"Yes\")\n",
    "        check = False\n",
    "        break\n",
    "    else:\n",
    "        visited.add(now)\n",
    "        x,y = now[0], now[1]\n",
    "        if S[i] == \"R\":\n",
    "            x += 1\n",
    "        elif S[i] == \"L\":\n",
    "            x -= 1\n",
    "        elif S[i] == \"U\":\n",
    "            y += 1\n",
    "        else:\n",
    "            y -= 1\n",
    "        now = (x,y)\n",
    "\n",
    "if check and now in visited:\n",
    "        print(\"Yes\")\n",
    "        check = False\n",
    "if check:\n",
    "    print(\"No\")"
   ]
  },
  {
   "cell_type": "code",
   "execution_count": 1,
   "metadata": {},
   "outputs": [
    {
     "name": "stdout",
     "output_type": "stream",
     "text": [
      "3\n",
      "[[1, 1], [1, 1], [1, 1]]\n"
     ]
    }
   ],
   "source": [
    "N = int(input())\n",
    "dp = [[1,1]]\n",
    "cards = []\n",
    "mod = 998244353\n",
    "A, B = map(int,input().split())\n",
    "cards.append((A,B))\n",
    "for i in range(1,N):\n",
    "    A, B = map(int,input().split())\n",
    "    x = [0,0]\n",
    "    if cards[i-1][0] != A:\n",
    "        x[0] += dp[i-1][0]\n",
    "    \n",
    "    if cards[i-1][1] != A:\n",
    "        x[0] += dp[i-1][1]\n",
    "        \n",
    "    if cards[i-1][0] != B:\n",
    "        x[1] += dp[i-1][0]\n",
    "        \n",
    "    if cards[i-1][1] != B:\n",
    "        x[1] += dp[i-1][1]\n",
    "    x[0] %= mod\n",
    "    x[1] %= mod\n",
    "    cards.append((A,B))\n",
    "    dp.append(x)\n",
    "    \n",
    "\n",
    "        \n",
    "ans = dp[N-1][0] + dp[N-1][1]\n",
    "answer = ans%mod\n",
    "print(answer)\n",
    "    \n",
    "    \n",
    "    "
   ]
  },
  {
   "cell_type": "code",
   "execution_count": null,
   "metadata": {},
   "outputs": [],
   "source": []
  }
 ],
 "metadata": {
  "kernelspec": {
   "display_name": "Python 3",
   "language": "python",
   "name": "python3"
  },
  "language_info": {
   "codemirror_mode": {
    "name": "ipython",
    "version": 3
   },
   "file_extension": ".py",
   "mimetype": "text/x-python",
   "name": "python",
   "nbconvert_exporter": "python",
   "pygments_lexer": "ipython3",
   "version": "3.8.3"
  }
 },
 "nbformat": 4,
 "nbformat_minor": 4
}
