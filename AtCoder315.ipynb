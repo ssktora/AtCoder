{
 "cells": [
  {
   "cell_type": "code",
   "execution_count": 13,
   "metadata": {},
   "outputs": [
    {
     "name": "stdout",
     "output_type": "stream",
     "text": [
      "aaaabbbbcccc\n",
      "bbbbcccc\n"
     ]
    }
   ],
   "source": [
    "S = list(input())\n",
    "i_list = []\n",
    "for i in range(len(S)):\n",
    "    s = S[i]\n",
    "    if s == \"a\" or s == \"e\" or s == \"i\" or s == \"o\" or s == \"u\":\n",
    "        i_list.append(i)\n",
    "for i in i_list:\n",
    "    S[i] = \"1\"\n",
    "for i in range(len(i_list)):\n",
    "    S.remove(\"1\")\n",
    "    \n",
    "print(\"\".join(S))"
   ]
  },
  {
   "cell_type": "code",
   "execution_count": 14,
   "metadata": {},
   "outputs": [
    {
     "name": "stdout",
     "output_type": "stream",
     "text": [
      "12\n",
      "31 28 31 30 31 30 31 31 30 31 30 31\n",
      "7 2.0\n"
     ]
    }
   ],
   "source": [
    "m = int(input())\n",
    "d_list = list(map(int, input().split()))\n",
    "year = sum(d_list)\n",
    "half = (sum(d_list)+1) / 2\n",
    "check = 0\n",
    "for i in range(len(d_list)):\n",
    "    if check < half:\n",
    "        check += d_list[i]\n",
    "        if check >= half:\n",
    "            check -= d_list[i]\n",
    "            a = i+1\n",
    "            break\n",
    "            \n",
    "b = int(half - check)\n",
    "print(a, b)"
   ]
  },
  {
   "cell_type": "code",
   "execution_count": 16,
   "metadata": {},
   "outputs": [
    {
     "name": "stdout",
     "output_type": "stream",
     "text": [
      "4\n",
      "1 4\n",
      "2 10\n",
      "2 8\n",
      "3 6\n",
      "[(2, 10), (2, 8), (3, 6), (1, 4)]\n",
      "16\n"
     ]
    }
   ],
   "source": [
    "n = int(input())\n",
    "ice = []\n",
    "check = False\n",
    "f_list = []\n",
    "for i in range(n):\n",
    "    f, s = map(int, input().split())\n",
    "    if f not in f_list:\n",
    "        f_list.append(f)\n",
    "    ice.append((f,s))\n",
    "    \n",
    "if len(f_list) >= 2:\n",
    "    check = True\n",
    "ice.sort(key=lambda x: x[1], reverse=True)  \n",
    "\n",
    "if check:\n",
    "    if ice[0][0] != ice[1][0]:\n",
    "        ans = ice[0][1] + ice[1][1]\n",
    "    else:\n",
    "        a = ice[0][1] + (ice[1][1]/2)\n",
    "        i = 2\n",
    "        while True:\n",
    "            if ice[0][0] != ice[i][0]:\n",
    "                b = ice[0][1] + ice[i][1]\n",
    "                break\n",
    "            else:\n",
    "                i += 1\n",
    "        if a >= b:\n",
    "            ans = a\n",
    "        else:\n",
    "            ans = b\n",
    "else:\n",
    "    ans = ice[0][1] + (ice[1][1]/2)\n",
    "    \n",
    "print(ans)\n",
    "    "
   ]
  },
  {
   "cell_type": "code",
   "execution_count": 18,
   "metadata": {},
   "outputs": [
    {
     "name": "stdout",
     "output_type": "stream",
     "text": [
      "4\n",
      "1 4\n",
      "2 10\n",
      "2 8\n",
      "3 6\n",
      "defaultdict(<class 'list'>, {1: [4], 2: [10, 8], 3: [6]})\n"
     ]
    }
   ],
   "source": [
    "n = int(input())\n",
    "from collections import defaultdict\n",
    "\n",
    "# デフォルト値を指定して defaultdict を作成\n",
    "ice = defaultdict(list)  # int() は 0 を返す\n",
    "for i in range(n):\n",
    "    f, s = map(int, input().split())\n",
    "    ice[f].append(s)\n",
    "print(ice)"
   ]
  },
  {
   "cell_type": "code",
   "execution_count": null,
   "metadata": {},
   "outputs": [],
   "source": [
    "n = int(input())\n",
    "ice = []\n",
    "for i in range(n):\n",
    "    f, s = map(int, input().split())\n",
    "    ice.append((f,s))\n",
    "\n",
    "ice.sort(key=lambda x: x[1], reverse=True)  \n",
    "first = ice[0][1]\n",
    "if ice[0][0] != ice[1][0]:\n",
    "    ans = ice[0][1] + ice[1][1]\n",
    "    exit()\n",
    "else:\n",
    "    second = ice[1][1]/2\n",
    "i = 2\n",
    "while True:\n",
    "    if ice[0][0] != ice[i][0]:\n",
    "        if second >= ice[i][1]:\n",
    "            ans = first + second\n",
    "        else:\n",
    "            ans = first + ice[i][1]\n",
    "        break\n",
    "    elif i == len(ice):\n",
    "        ans = first + second\n",
    "        break\n",
    "    else:\n",
    "        i += 1\n",
    "print(ans)\n",
    "    "
   ]
  },
  {
   "cell_type": "code",
   "execution_count": null,
   "metadata": {},
   "outputs": [],
   "source": [
    "n = int(input())\n",
    "ice = []\n",
    "for i in range(n):\n",
    "    f, s = map(int, input().split())\n",
    "    ice.append((f,s))\n",
    "\n",
    "ice.sort(key=lambda x: x[1], reverse=True)  \n",
    "first = ice[0][1]\n",
    "second = []\n",
    "for i in range(1, len(ice)):\n",
    "    if ice[0][0] != ice[i][0]:\n",
    "        second.append(ice[i][1])\n",
    "    else:\n",
    "        second.append(ice[i][1]/2)\n",
    "second.sort(reverse=True)\n",
    "ans = first + second[0]\n",
    "print(ans)"
   ]
  }
 ],
 "metadata": {
  "kernelspec": {
   "display_name": "Python 3",
   "language": "python",
   "name": "python3"
  },
  "language_info": {
   "codemirror_mode": {
    "name": "ipython",
    "version": 3
   },
   "file_extension": ".py",
   "mimetype": "text/x-python",
   "name": "python",
   "nbconvert_exporter": "python",
   "pygments_lexer": "ipython3",
   "version": "3.8.3"
  }
 },
 "nbformat": 4,
 "nbformat_minor": 4
}
