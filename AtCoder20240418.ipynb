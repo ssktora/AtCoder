{
 "cells": [
  {
   "cell_type": "code",
   "execution_count": null,
   "metadata": {},
   "outputs": [],
   "source": [
    "A, B = map(int, input().split())\n",
    "if A >= 13:\n",
    "    print(B)\n",
    "elif 6 <= A <= 12:\n",
    "    print(B/2)\n",
    "else:\n",
    "    print(0)"
   ]
  },
  {
   "cell_type": "code",
   "execution_count": null,
   "metadata": {},
   "outputs": [],
   "source": [
    "r, D, x = map(int, input().split())\n",
    "for i in range(10):\n",
    "    x = r*x - D\n",
    "    print(x)"
   ]
  },
  {
   "cell_type": "code",
   "execution_count": null,
   "metadata": {},
   "outputs": [],
   "source": [
    "N, M = map(int, input().split())\n",
    "ansl = -1\n",
    "ansr = 1000000000000000\n",
    "for i in range(M):\n",
    "    L, R = map(int, input().split())\n",
    "    if ansl < L:\n",
    "        ansl = L\n",
    "    if ansr > R:\n",
    "        ansr = R\n",
    "if ansr >= ansl:        \n",
    "    print(ansr-ansl+1)\n",
    "else:\n",
    "    print(0)"
   ]
  },
  {
   "cell_type": "code",
   "execution_count": 1,
   "metadata": {},
   "outputs": [
    {
     "name": "stdout",
     "output_type": "stream",
     "text": [
      "3 2\n",
      "5 1 4\n",
      "[1, 4, 5]\n"
     ]
    }
   ],
   "source": [
    "N, M = map(int, input().split())\n",
    "A = list(map(int, input().split()))\n",
    "a_list = []\n",
    "import heapq\n",
    "for a in A:\n",
    "    a_list.append((-a,1))\n",
    "heapq.heapify(a_list)\n",
    "    \n",
    "for j in range(M):\n",
    "    B, C = map(int, input().split())\n",
    "    heapq.heappush(a_list,(-C,B))\n",
    "\n",
    "#print(a_list)\n",
    "ans = 0\n",
    "for i in range(N):\n",
    "    priority, count = heapq.heappop(a_list)\n",
    "    ans += priority\n",
    "    count -= 1\n",
    "    if count >= 1:\n",
    "        heapq.heappush(a_list,(priority,count))\n",
    "        \n",
    "print(-ans)\n",
    "    \n",
    "    \n",
    "    "
   ]
  }
 ],
 "metadata": {
  "kernelspec": {
   "display_name": "Python 3",
   "language": "python",
   "name": "python3"
  },
  "language_info": {
   "codemirror_mode": {
    "name": "ipython",
    "version": 3
   },
   "file_extension": ".py",
   "mimetype": "text/x-python",
   "name": "python",
   "nbconvert_exporter": "python",
   "pygments_lexer": "ipython3",
   "version": "3.8.3"
  }
 },
 "nbformat": 4,
 "nbformat_minor": 4
}
