{
 "cells": [
  {
   "cell_type": "code",
   "execution_count": 1,
   "metadata": {},
   "outputs": [
    {
     "name": "stdout",
     "output_type": "stream",
     "text": [
      "1 3 4\n",
      "(1, 3)\n",
      "(1, 4)\n",
      "(3, 4)\n"
     ]
    }
   ],
   "source": [
    "a_list = list(map(int, input().split()))\n",
    "import itertools\n",
    "ans = 100000000000000\n",
    "for v in itertools.combinations(a_list, 2):\n",
    "    p = v[0]+v[1]\n",
    "    ans = min(ans,p)\n",
    "print(ans)\n",
    "            "
   ]
  },
  {
   "cell_type": "code",
   "execution_count": 5,
   "metadata": {},
   "outputs": [
    {
     "name": "stdout",
     "output_type": "stream",
     "text": [
      "3\n",
      "1 2 3\n",
      "[1]\n",
      "[2, 3]\n",
      "5\n",
      "[1, 2]\n",
      "[3]\n",
      "3\n",
      "0\n"
     ]
    }
   ],
   "source": [
    "N = int(input())\n",
    "w_list = list(map(int, input().split()))\n",
    "ans = 100000000000000000\n",
    "for t in range(1,N):\n",
    "    a = sum(w_list[:t])\n",
    "    b = sum(w_list[t:])\n",
    "#     print(w_list[:t])\n",
    "#     print(w_list[t:])\n",
    "#     print(b)\n",
    "    p = abs(a-b)\n",
    "    ans = min(ans,p)\n",
    "print(ans)"
   ]
  },
  {
   "cell_type": "code",
   "execution_count": 17,
   "metadata": {},
   "outputs": [
    {
     "name": "stdout",
     "output_type": "stream",
     "text": [
      "6 1\n",
      "[0, 0, 0, 0, 0, 0, 0]\n",
      "3\n",
      "2\n",
      "3\n",
      "4\n",
      "5\n",
      "6\n",
      "[1, 1, 2, 0, 2, 2, 4]\n",
      "4\n"
     ]
    }
   ],
   "source": [
    "N, M = map(int, input().split())\n",
    "dp = [0 for _ in range(N+1)]\n",
    "#print(dp)\n",
    "dp[0] = 1\n",
    "a_set = set()\n",
    "for _ in range(M):\n",
    "    a = int(input())\n",
    "    a_set.add(a)\n",
    "if 1 in a_set:\n",
    "    dp[1] = 0\n",
    "else:\n",
    "    dp[1] = 1\n",
    "for i in range(2,N+1):\n",
    "    print(i)\n",
    "    if i in a_set:\n",
    "        dp[i] = 0\n",
    "    else:\n",
    "        dp[i] = dp[i-2]+dp[i-1]\n",
    "#print(dp)\n",
    "print(dp[-1]%1000000007)"
   ]
  },
  {
   "cell_type": "code",
   "execution_count": null,
   "metadata": {},
   "outputs": [
    {
     "name": "stdout",
     "output_type": "stream",
     "text": [
      "4 6\n",
      "#..#..\n",
      ".....#\n",
      "....#.\n",
      "#.#...\n"
     ]
    }
   ],
   "source": [
    "H, W = map(int, input().split())\n",
    "S = [list(input()) for _ in range(H)]\n",
    "ans = 0\n",
    "def is_valid_move(x, y, grid):\n",
    "    # グリッドの範囲を超えていないか、壁や障害物がないかを確認\n",
    "    return 0 <= x < len(grid) and 0 <= y < len(grid[0]) and grid[x][y] != '#'\n",
    "\n",
    "def get_p(current_x, current_y, grid):\n",
    "    directions = [(0, 1), (0, -1), (1, 0), (-1, 0)]  # 北、南、東、西\n",
    "\n",
    "    next_positions = []\n",
    "    p = 0\n",
    "    for dx, dy in directions:\n",
    "        x, y = current_x, current_y\n",
    "        while True:\n",
    "            new_x, new_y = x + dx, y + dy\n",
    "            if is_valid_move(new_x, new_y, grid):\n",
    "                p += 1\n",
    "            else:\n",
    "                break  # 壁や障害物がある場合は現在の位置を追加\n",
    "\n",
    "    return p\n",
    "\n",
    "    \n",
    "for i in range(H):\n",
    "    for j in range(W):\n",
    "        if S[i][j] != \"#\":\n",
    "            start = (i,j)\n",
    "            p = get_p(i,j,S)\n",
    "            ans = max(ans,p)\n",
    "print(ans)"
   ]
  },
  {
   "cell_type": "code",
   "execution_count": 1,
   "metadata": {},
   "outputs": [
    {
     "name": "stdout",
     "output_type": "stream",
     "text": [
      "2 4\n",
      "[[0, 0, 0, 0], [0, 0, 0, 0]]\n"
     ]
    }
   ],
   "source": [
    "H, W = map(int, input().split())\n",
    "S = [list(input()) for _ in range(H)]\n",
    "cnt = [[0 for _ in range(W)] for _ in range(H)]\n",
    "for i in range(H):\n",
    "    done = [False for _ in range(W)]\n",
    "    for j in range(W):\n",
    "        if S[i][j] == \"#\":\n",
    "            continue\n",
    "        if done[j]:\n",
    "            continue\n",
    "        l = 0\n",
    "        while j+l < W:\n",
    "            if S[i][j+l] == \"#\":\n",
    "                break\n",
    "            else:\n",
    "                l += 1\n",
    "        for k in range(l):\n",
    "            cnt[i][j+k] += l\n",
    "            done[j+k] = True\n",
    "\n",
    "for j in range(W):\n",
    "    done = [False for _ in range(H)]\n",
    "    for i in range(H):\n",
    "        if S[i][j] == \"#\":\n",
    "            continue\n",
    "        if done[i]:\n",
    "            continue\n",
    "        l = 0\n",
    "        while i+l < H:\n",
    "            if S[i+l][j] == \"#\":\n",
    "                break\n",
    "            else:\n",
    "                l += 1\n",
    "        for k in range(l):\n",
    "            cnt[i+k][j] += l\n",
    "            done[i+k] = True\n",
    "ans = 0           \n",
    "for i in range(H):\n",
    "    for j in range(W):\n",
    "        p = cnt[i][j]-1\n",
    "        ans = max(ans,p)\n",
    "\n",
    "print(ans)"
   ]
  },
  {
   "cell_type": "code",
   "execution_count": null,
   "metadata": {},
   "outputs": [],
   "source": []
  }
 ],
 "metadata": {
  "kernelspec": {
   "display_name": "Python 3",
   "language": "python",
   "name": "python3"
  },
  "language_info": {
   "codemirror_mode": {
    "name": "ipython",
    "version": 3
   },
   "file_extension": ".py",
   "mimetype": "text/x-python",
   "name": "python",
   "nbconvert_exporter": "python",
   "pygments_lexer": "ipython3",
   "version": "3.8.3"
  }
 },
 "nbformat": 4,
 "nbformat_minor": 4
}
