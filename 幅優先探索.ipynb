{
 "cells": [
  {
   "cell_type": "markdown",
   "metadata": {},
   "source": [
    "幅優先探索はキューを使うことが多い\n",
    "\n",
    "幅優先探索 (BFS):\n",
    "\n",
    "- 最短経路問題: 最短経路を求める際に、BFS は典型的に最適な選択です。グラフのエッジの重みが一様である場合や、最短距離を見つけたい場合に使用します。\n",
    "\n",
    "- 最小手数の迷路問題: 迷路内で最短経路を見つける問題において、BFS は最小のステップで目的地に到達するために適しています。\n",
    "\n",
    "- グラフ内の階層構造: グラフ内の特定の階層のノードを探索する場合、BFS はその階層ごとにノードを訪れるために役立ちます。\n",
    "\n",
    "- 近傍探索: 特定のノードから近傍ノードを探す必要がある場合にも、BFS が有効です。例えば、グラフ内の友達や接触ネットワークを探索する場合です。"
   ]
  },
  {
   "cell_type": "code",
   "execution_count": null,
   "metadata": {},
   "outputs": [],
   "source": [
    "from collections import deque\n",
    "\n",
    "def bfs(graph, start_node):\n",
    "    visited = set()\n",
    "    queue = deque([start_node])\n",
    "    \n",
    "    while queue:\n",
    "        node = queue.popleft()\n",
    "        if node not in visited:\n",
    "            print(node, end=' ')\n",
    "            visited.add(node)\n",
    "            neighbors = graph[node]\n",
    "            for neighbor in neighbors:\n",
    "                if neighbor not in visited:\n",
    "                    queue.append(neighbor)\n",
    "\n",
    "# グラフの隣接リストを定義\n",
    "graph = {\n",
    "    'A': ['B', 'C'],\n",
    "    'B': ['A', 'D', 'E'],\n",
    "    'C': ['A', 'F'],\n",
    "    'D': ['B'],\n",
    "    'E': ['B', 'F'],\n",
    "    'F': ['C', 'E']\n",
    "}\n",
    "\n",
    "start_node = 'A'\n",
    "print(\"BFS traversal starting from node\", start_node)\n",
    "bfs(graph, start_node)"
   ]
  }
 ],
 "metadata": {
  "kernelspec": {
   "display_name": "Python 3",
   "language": "python",
   "name": "python3"
  },
  "language_info": {
   "codemirror_mode": {
    "name": "ipython",
    "version": 3
   },
   "file_extension": ".py",
   "mimetype": "text/x-python",
   "name": "python",
   "nbconvert_exporter": "python",
   "pygments_lexer": "ipython3",
   "version": "3.8.3"
  }
 },
 "nbformat": 4,
 "nbformat_minor": 4
}
