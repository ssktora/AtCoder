{
 "cells": [
  {
   "cell_type": "code",
   "execution_count": 1,
   "metadata": {
    "scrolled": true
   },
   "outputs": [
    {
     "name": "stdout",
     "output_type": "stream",
     "text": [
      "0 1 0 1 2 2 0 0 1\n",
      "1 1 0 0 0 0 1 0\n",
      "5\n"
     ]
    }
   ],
   "source": [
    "A = list(map(int, input().split()))\n",
    "B = list(map(int, input().split()))\n",
    "print(sum(A)-sum(B)+1)"
   ]
  },
  {
   "cell_type": "code",
   "execution_count": null,
   "metadata": {},
   "outputs": [],
   "source": [
    "N = int(input())\n",
    "A = [list(input()) for _ in range(N)]\n",
    "B = [list(input()) for _ in range(N)]\n",
    "for i in range(N):\n",
    "    for j in range(N):\n",
    "        if A[i][j] != B[i][j]:\n",
    "            print(i,j)"
   ]
  },
  {
   "cell_type": "code",
   "execution_count": 21,
   "metadata": {
    "scrolled": false
   },
   "outputs": [
    {
     "name": "stdout",
     "output_type": "stream",
     "text": [
      "7\n",
      "2 1 1 3 5 3 3\n",
      "3\n"
     ]
    }
   ],
   "source": [
    "N = int(input())\n",
    "A = list(map(int, input().split()))\n",
    "def saiki(a_list, n):\n",
    "    if len(a_list) == 0:  \n",
    "        return [n]\n",
    "    elif a_list[-1] != n:\n",
    "        a_list.append(n)\n",
    "        return a_list\n",
    "    else:\n",
    "        b = a_list.pop()\n",
    "        #print(n,b)\n",
    "        n += b\n",
    "        return saiki(a_list,n)\n",
    "    \n",
    "    \n",
    "ans = [2**A[0]]\n",
    "for i in range(1,N):\n",
    "    a = 2**A[i]\n",
    "    #print(ans[-1],a)\n",
    "    if len(ans) == 0:\n",
    "        ans.append(a)\n",
    "    elif ans[-1] != a:\n",
    "        ans.append(a)\n",
    "    else:\n",
    "        ans = saiki(ans,a)\n",
    "    #print(ans)\n",
    "print(len(ans))\n",
    "    \n",
    "        \n",
    "    "
   ]
  },
  {
   "cell_type": "code",
   "execution_count": null,
   "metadata": {},
   "outputs": [],
   "source": [
    "N = int(input())\n",
    "A = list(map(int, input().split()))\n",
    "ans = [A[0]]\n",
    "for i in range(1,N):\n",
    "    a = A[i]\n",
    "    #print(ans[-1],a)\n",
    "    if len(ans) == 0:\n",
    "        ans.append(a)\n",
    "    elif ans[-1] != a:\n",
    "        ans.append(a)\n",
    "    else:\n",
    "        while len(ans) >= 1 and ans[-1] == a:\n",
    "            b = ans.pop()\n",
    "            a += 1\n",
    "        ans.append(a)\n",
    "    #print(ans)\n",
    "print(len(ans))\n"
   ]
  },
  {
   "cell_type": "code",
   "execution_count": null,
   "metadata": {},
   "outputs": [],
   "source": [
    "H, W = map(int,input().split())\n",
    "S = [list(input()) for _ in range(H)]\n",
    "from collections import deque\n",
    "def is_valid_move(x, y, grid):\n",
    "    # グリッドの範囲を超えていないか、壁や障害物がないかを確認\n",
    "    return 0 <= x < len(grid) and 0 <= y < len(grid[0]) and grid[x][y] != '#'\n",
    "    \n",
    "def check(x,y,grid):\n",
    "  return grid[x][y] != \"#\"\n",
    "\n",
    "def find_next_positions(current_x, current_y, grid):\n",
    "    directions = [(0, 1), (0, -1), (1, 0), (-1, 0)]  # 北、南、東、西\n",
    "\n",
    "    next_positions = []\n",
    "    frag = True\n",
    "    for dx, dy in directions:\n",
    "        new_x, new_y = current_x + dx, current_y + dy\n",
    "        if check(new_x,new_y,grid):\n",
    "          frag = False\n",
    "        if is_valid_move(new_x, new_y, grid):\n",
    "            next_positions.append((new_x, new_y))\n",
    "        else:\n",
    "            next_positions.append((current_x, current_y))\n",
    "    if frag:\n",
    "      return next_positions\n",
    "    else:\n",
    "      return []\n",
    "\n",
    "def bfs(S, start_node):\n",
    "    visited = set()\n",
    "    queue = deque([start_node])\n",
    "    \n",
    "    while queue:\n",
    "        node = queue.popleft()\n",
    "        if node not in visited:\n",
    "            visited.add(node)\n",
    "            neighbors = find_next_positions(node[0], node[1], S)\n",
    "            #print(node,neighbors)\n",
    "            for neighbor in neighbors:\n",
    "                if neighbor not in visited:\n",
    "                    queue.append(neighbor)\n",
    "    print(visited)\n",
    "    return len(visited)\n",
    "\n",
    "# ans = 0\n",
    "# for i in range(H):\n",
    "#     for j in range(W):\n",
    "#         p = bfs(S, (i, j))\n",
    "#         ans = max(ans, p)\n",
    "#print(ans)\n",
    "print(bfs(S,(1,2)))"
   ]
  }
 ],
 "metadata": {
  "kernelspec": {
   "display_name": "Python 3",
   "language": "python",
   "name": "python3"
  },
  "language_info": {
   "codemirror_mode": {
    "name": "ipython",
    "version": 3
   },
   "file_extension": ".py",
   "mimetype": "text/x-python",
   "name": "python",
   "nbconvert_exporter": "python",
   "pygments_lexer": "ipython3",
   "version": "3.8.3"
  }
 },
 "nbformat": 4,
 "nbformat_minor": 4
}
