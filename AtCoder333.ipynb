{
 "cells": [
  {
   "cell_type": "code",
   "execution_count": 3,
   "metadata": {},
   "outputs": [
    {
     "name": "stdout",
     "output_type": "stream",
     "text": [
      "9\n",
      "999999999\n"
     ]
    }
   ],
   "source": [
    "N = str(input())\n",
    "ans = \"\"\n",
    "for _ in range((int(N))):\n",
    "    ans += N\n",
    "print(ans)"
   ]
  },
  {
   "cell_type": "code",
   "execution_count": null,
   "metadata": {},
   "outputs": [],
   "source": [
    "S = input()\n",
    "T = input()\n",
    "a_list = [\"AB\", \"BA\", \"BC\", \"CB\", \"CD\", \"DC\", \"DE\", \"ED\", \"EA\", \"AE\"]\n",
    "b_list = [\"AC\", \"AD\", \"BE\", \"BD\", \"CA\", \"CE\", \"DB\",\"DA\", \"EC\", \"EB\"]\n",
    "if (S in a_list and T in a_list) or (S in b_list and T in b_list):\n",
    "    print(\"Yes\")\n",
    "else:\n",
    "    print(\"No\")"
   ]
  },
  {
   "cell_type": "code",
   "execution_count": null,
   "metadata": {},
   "outputs": [],
   "source": [
    "r_list = [1, 11, 111, 1111, 11111, 111111, 1111111, 11111111, 111111111, 1111111111, 11111111111, 111111111111]\n",
    "from itertools import combinations_with_replacement\n",
    "\n",
    "# 3つの要素を選んで足した値をすべて出力\n",
    "a_list = []\n",
    "for combo in combinations_with_replacement(r_list, 3):\n",
    "    total = sum(combo)\n",
    "    a_list.append(total)\n",
    "\n",
    "a_list = sorted(a_list)\n",
    "N = int(input())\n",
    "print(a_list[N-1])\n",
    "    "
   ]
  },
  {
   "cell_type": "code",
   "execution_count": 6,
   "metadata": {},
   "outputs": [
    {
     "name": "stdout",
     "output_type": "stream",
     "text": [
      "9\n",
      "1 2\n",
      "2 3\n",
      "2 4\n",
      "2 5\n",
      "1 6\n",
      "6 7\n",
      "7 8\n",
      "7 9\n",
      "defaultdict(<class 'list'>, {1: [2, 6], 2: [3, 4, 5], 6: [7], 7: [8, 9]})\n"
     ]
    },
    {
     "ename": "NameError",
     "evalue": "name 'step' is not defined",
     "output_type": "error",
     "traceback": [
      "\u001b[1;31m---------------------------------------------------------------------------\u001b[0m",
      "\u001b[1;31mNameError\u001b[0m                                 Traceback (most recent call last)",
      "\u001b[1;32m<ipython-input-6-fe1cd1c90870>\u001b[0m in \u001b[0;36m<module>\u001b[1;34m\u001b[0m\n\u001b[0;32m     30\u001b[0m     \u001b[1;32mreturn\u001b[0m \u001b[1;32mNone\u001b[0m\u001b[1;33m\u001b[0m\u001b[1;33m\u001b[0m\u001b[0m\n\u001b[0;32m     31\u001b[0m \u001b[1;33m\u001b[0m\u001b[0m\n\u001b[1;32m---> 32\u001b[1;33m \u001b[0mresult\u001b[0m \u001b[1;33m=\u001b[0m \u001b[0mbfs\u001b[0m\u001b[1;33m(\u001b[0m\u001b[0mgraph\u001b[0m\u001b[1;33m,\u001b[0m \u001b[1;36m1\u001b[0m\u001b[1;33m)\u001b[0m\u001b[1;33m\u001b[0m\u001b[1;33m\u001b[0m\u001b[0m\n\u001b[0m\u001b[0;32m     33\u001b[0m \u001b[1;33m\u001b[0m\u001b[0m\n\u001b[0;32m     34\u001b[0m \u001b[0mprint\u001b[0m\u001b[1;33m(\u001b[0m\u001b[0mresult\u001b[0m\u001b[1;33m)\u001b[0m\u001b[1;33m\u001b[0m\u001b[1;33m\u001b[0m\u001b[0m\n",
      "\u001b[1;32m<ipython-input-6-fe1cd1c90870>\u001b[0m in \u001b[0;36mbfs\u001b[1;34m(graph, start)\u001b[0m\n\u001b[0;32m     20\u001b[0m             \u001b[1;31m# ゴール（末端）に到達したらステップ数を返す\u001b[0m\u001b[1;33m\u001b[0m\u001b[1;33m\u001b[0m\u001b[1;33m\u001b[0m\u001b[0m\n\u001b[0;32m     21\u001b[0m             \u001b[1;32mif\u001b[0m \u001b[1;32mnot\u001b[0m \u001b[0mgraph\u001b[0m\u001b[1;33m[\u001b[0m\u001b[0mnode\u001b[0m\u001b[1;33m]\u001b[0m\u001b[1;33m:\u001b[0m\u001b[1;33m\u001b[0m\u001b[1;33m\u001b[0m\u001b[0m\n\u001b[1;32m---> 22\u001b[1;33m                 \u001b[0mans\u001b[0m \u001b[1;33m=\u001b[0m \u001b[0mstep\u001b[0m\u001b[1;33m-\u001b[0m\u001b[1;36m1\u001b[0m\u001b[1;33m+\u001b[0m\u001b[0mlen\u001b[0m\u001b[1;33m(\u001b[0m\u001b[0mqueue\u001b[0m\u001b[1;33m)\u001b[0m\u001b[1;33m\u001b[0m\u001b[1;33m\u001b[0m\u001b[0m\n\u001b[0m\u001b[0;32m     23\u001b[0m                 \u001b[1;32mreturn\u001b[0m \u001b[0mans\u001b[0m\u001b[1;33m\u001b[0m\u001b[1;33m\u001b[0m\u001b[0m\n\u001b[0;32m     24\u001b[0m \u001b[1;33m\u001b[0m\u001b[0m\n",
      "\u001b[1;31mNameError\u001b[0m: name 'step' is not defined"
     ]
    }
   ],
   "source": [
    "from collections import defaultdict,deque\n",
    "N = int(input())\n",
    "graph = defaultdict(list)\n",
    "for _ in range(N-1):\n",
    "    u, v = map(int, input().split())\n",
    "    graph[u].append(v)\n",
    "    graph[v].append(u)\n",
    "    \n",
    "print(graph)\n",
    "    \n",
    "def bfs(graph):\n",
    "    answer = 100000000000\n",
    "    ans = 100000000000\n",
    "    for key in graph.keys():\n",
    "        if len(graph[key]) == 1:\n",
    "            ans = 0\n",
    "            visited = set()\n",
    "            queue = deque([(key, 0)])  # ノードとステップ数をキューに格納\n",
    "\n",
    "            while queue:\n",
    "                node, steps = queue.popleft()\n",
    "\n",
    "                if node not in visited:\n",
    "                    visited.add(node)\n",
    "\n",
    "                    # 隣接ノードをキューに追加\n",
    "                    for neighbor in graph[node]:\n",
    "                        queue.append((neighbor, steps + 1))\n",
    "                    ans += len(graph[node])\n",
    "                    # ゴール（末端）に到達したらステップ数を返す\n",
    "                    if node == 1:\n",
    "                        break\n",
    "        answer = min(answer, ans)\n",
    "    return answer\n",
    "\n",
    "\n",
    "if len(graph[1]) == 1:\n",
    "    print(1)\n",
    "else:\n",
    "    result = bfs(graph)\n",
    "    print(result)"
   ]
  },
  {
   "cell_type": "code",
   "execution_count": null,
   "metadata": {},
   "outputs": [],
   "source": []
  }
 ],
 "metadata": {
  "kernelspec": {
   "display_name": "Python 3",
   "language": "python",
   "name": "python3"
  },
  "language_info": {
   "codemirror_mode": {
    "name": "ipython",
    "version": 3
   },
   "file_extension": ".py",
   "mimetype": "text/x-python",
   "name": "python",
   "nbconvert_exporter": "python",
   "pygments_lexer": "ipython3",
   "version": "3.8.3"
  }
 },
 "nbformat": 4,
 "nbformat_minor": 4
}
