{
 "cells": [
  {
   "cell_type": "code",
   "execution_count": 1,
   "metadata": {},
   "outputs": [
    {
     "name": "stdout",
     "output_type": "stream",
     "text": [
      "7\n",
      "ooxooxo\n"
     ]
    }
   ],
   "source": [
    "N = int(input())\n",
    "ans = []\n",
    "for i in range(1, N+1):\n",
    "    if i%3==0:\n",
    "        ans.append(\"x\")\n",
    "    else:\n",
    "        ans.append(\"o\")\n",
    "print(\"\".join(ans))\n"
   ]
  },
  {
   "cell_type": "code",
   "execution_count": 10,
   "metadata": {},
   "outputs": [
    {
     "name": "stdout",
     "output_type": "stream",
     "text": [
      "4\n",
      "[(1, 2), (1, 3), (1, 4), (2, 3), (2, 4), (3, 4)]\n",
      "0 0\n",
      "2 4\n",
      "5 0\n",
      "3 4\n",
      "3\n",
      "3\n",
      "1\n",
      "1\n"
     ]
    }
   ],
   "source": [
    "N = int(input())\n",
    "combinations = []\n",
    "for i in range(1,N*1):\n",
    "    for j in range(i+1,N+1):\n",
    "        combinations.append((i, j))\n",
    "        \n",
    "#print(combinations)\n",
    "points = {}\n",
    "for i in range(1, N+1):\n",
    "    x, y = map(int, input().split())\n",
    "    points[i] = (x,y)\n",
    "\n",
    "from collections import defaultdict\n",
    "ans = defaultdict(dict)\n",
    "for comb in combinations:\n",
    "    p = comb[0]\n",
    "    q = comb[1]\n",
    "    x1 = points[p][0]\n",
    "    y1 = points[p][1]\n",
    "    x2 = points[q][0]\n",
    "    y2 = points[q][1]\n",
    "    d = ((x1-x2)**2 + (y1-y2)**2)**(1/2)\n",
    "    ans[p][q] = d\n",
    "    ans[q][p] = d\n",
    "    \n",
    "for k, a_dic in ans.items():\n",
    "    sorted_dict = dict(sorted(a_dic.items(), key=lambda x: x[1], reverse=True))\n",
    "    ans[k] = sorted_dict\n",
    "    \n",
    "for i, a_dic in ans.items():\n",
    "    for k,b_dic in a_dic.items():\n",
    "        print(k)\n",
    "        break\n",
    "    \n",
    "# print(combinations)"
   ]
  },
  {
   "cell_type": "code",
   "execution_count": 3,
   "metadata": {},
   "outputs": [
    {
     "name": "stdout",
     "output_type": "stream",
     "text": [
      "4\n",
      "100 1\n",
      "20 5\n",
      "30 5\n",
      "40 1\n",
      "40\n"
     ]
    }
   ],
   "source": [
    "N = int(input())\n",
    "ans = {}\n",
    "for i in range(N):\n",
    "    A, C = map(int, input().split())\n",
    "    if C not in ans:\n",
    "        ans[C] = A\n",
    "    else:\n",
    "        if A < ans[C]:\n",
    "            ans[C] = A\n",
    "    \n",
    "            \n",
    "print(max(ans.values()))"
   ]
  },
  {
   "cell_type": "code",
   "execution_count": null,
   "metadata": {},
   "outputs": [],
   "source": [
    "H, W = map(int, input().split())\n",
    "S = [list(input()) for _ in range(H)]\n",
    "N = int(input())\n",
    "kusuri = {}\n",
    "for i in range(N):\n",
    "    r,c,e = map(int, input().split())\n",
    "    kusuri[(r-1,c-1)] = e\n",
    "    \n",
    "def is_valid_move(x, y, grid, energy, kusuri):\n",
    "    if energy >= 2:\n",
    "        return 0 <= x < len(grid) and 0 <= y < len(grid[0]) and grid[x][y] != '#'\n",
    "    else:\n",
    "        return 0 <= x < len(grid) and 0 <= y < len(grid[0]) and grid[x][y] != '#' and (x,y) in kusuri\n",
    "        \n",
    "\n",
    "def find_next_positions(current_x, current_y, grid, energy, kusuri):\n",
    "    directions = [(0, 1), (0, -1), (1, 0), (-1, 0)]  # 北、南、東、西\n",
    "\n",
    "    next_positions = []\n",
    "\n",
    "    for dx, dy in directions:\n",
    "        new_x, new_y = current_x + dx, current_y + dy\n",
    "        #print(new_x, new_y)\n",
    "\n",
    "        if is_valid_move(new_x, new_y, grid, energy, kusuri):\n",
    "            next_positions.append((new_x, new_y))\n",
    "\n",
    "    return next_positions\n",
    "\n",
    "from collections import deque\n",
    "\n",
    "def bfs(S, start_node, goal_node,energy):\n",
    "    visited = set()\n",
    "    queue = deque([start_node])\n",
    "    if start_node in kusuri:\n",
    "        energy = kusuri[start_node]\n",
    "        kusuri.pop(start_node)\n",
    "    else:\n",
    "        return False\n",
    "    frag = True\n",
    "    while queue:\n",
    "        node = queue.popleft()\n",
    "        if node not in visited:\n",
    "            visited.add(node)\n",
    "            if node != start_node:\n",
    "                energy -= 1\n",
    "            if node != start_node and node in kusuri and energy < kusuri[node]:\n",
    "                energy = kusuri[node]\n",
    "            #print(energy)\n",
    "            if node == goal_node:\n",
    "                frag = False\n",
    "                return True\n",
    "            #print(node)\n",
    "            neighbors = find_next_positions(node[0], node[1], S, energy, kusuri)\n",
    "            print(node)\n",
    "            print(neighbors)\n",
    "            for neighbor in neighbors:\n",
    "                if neighbor not in visited:\n",
    "                    queue.append(neighbor)\n",
    "    if frag:\n",
    "        return False\n",
    "\n",
    "for i in range(H):\n",
    "    for j in range(W):\n",
    "        if S[i][j] == \"S\":\n",
    "            start_node = (i,j)\n",
    "        if S[i][j] == \"T\":\n",
    "            goal_node = (i,j)\n",
    "\n",
    "check = bfs(S, start_node, goal_node, 0)\n",
    "if check:\n",
    "    print(\"Yes\")\n",
    "else:\n",
    "    print(\"No\")\n",
    "    \n",
    "    \n"
   ]
  }
 ],
 "metadata": {
  "kernelspec": {
   "display_name": "Python 3",
   "language": "python",
   "name": "python3"
  }
 },
 "nbformat": 4,
 "nbformat_minor": 4
}
