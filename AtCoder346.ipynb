{
 "cells": [
  {
   "cell_type": "code",
   "execution_count": null,
   "metadata": {},
   "outputs": [],
   "source": [
    "N = int(input())\n",
    "A = list(map(int, input().split()))\n",
    "B = []\n",
    "for i in range(1,N):\n",
    "    b = A[i-1]*A[i]\n",
    "    B.append(str(b))\n",
    "    \n",
    "ans = \" \".join(B)\n",
    "print(ans)"
   ]
  },
  {
   "cell_type": "code",
   "execution_count": 18,
   "metadata": {},
   "outputs": [
    {
     "name": "stdout",
     "output_type": "stream",
     "text": [
      "3 4\n",
      "wbwbwwbwbwbwwbwbwwbwbwbwwbwbwwbwbwbwwbwbwwbwbwbwwbwbwwbwbwbwwbwbwwbwbwbwwbwbwwbwbwbwwbwbwwbwbwbwwbwbwwbwbwbwwbwbwwbwbwbwwbwbwwbwbwbwwbwbwwbwbwbwwbwbwwbwbwbwwbwbwwbwbwbwwbwbwwbwbwbwwbwbwwbwbwbwwbwbwwbwbwbwwbwbwwbwbwbwwbwbwwbwbwbwwbwbwwbwbwbw\n",
      "Counter({'w': 140, 'b': 100})\n",
      "No\n"
     ]
    }
   ],
   "source": [
    "W, B = map(int, input().split())\n",
    "from collections import Counter\n",
    "s = \"wbwbwwbwbwbw\"\n",
    "S = \"\"\n",
    "count = Counter(S)\n",
    "while count[\"w\"] < 100 or count[\"b\"] < 100:\n",
    "    S += s\n",
    "    count = Counter(S)\n",
    "\n",
    "frag = True\n",
    "for i in range(len(S)-(W+B)+1):\n",
    "    check = S[i:i+W+B]\n",
    "    p = Counter(check)\n",
    "    if p[\"w\"] == W and p[\"b\"] == B:\n",
    "        print(\"Yes\")\n",
    "        frag = False\n",
    "        break\n",
    "if frag:\n",
    "    print(\"No\")"
   ]
  },
  {
   "cell_type": "code",
   "execution_count": 26,
   "metadata": {},
   "outputs": [
    {
     "name": "stdout",
     "output_type": "stream",
     "text": [
      "1 5\n",
      "5\n",
      "10\n"
     ]
    }
   ],
   "source": [
    "N, K = map(int, input().split())\n",
    "A = list(map(int, input().split()))\n",
    "P = set()\n",
    "for a in A:\n",
    "    if a <= K and a not in P:\n",
    "        P.add(a)\n",
    "P = list(P)\n",
    "P = sorted(P)\n",
    "ans = 0\n",
    "n = 1\n",
    "def sum_range_formula(n, m):\n",
    "    return (m * (m + 1) // 2) - ((n - 1) * n // 2)\n",
    "\n",
    "if len(P) >= 2:\n",
    "    if P[-1] <= K:\n",
    "        ans += sum_range_formula(1, P[0]-1)\n",
    "        for i in range(len(P)-1):\n",
    "            app = sum_range_formula(P[i]+1, P[i+1]-1)\n",
    "            ans += app\n",
    "        app = sum_range_formula(P[-1]+1, K)\n",
    "        ans += app\n",
    "    else:\n",
    "        P = [x for x in P if x <= K]\n",
    "        ans += sum_range_formula(1, P[0]-1)\n",
    "        for i in range(len(P)-1):\n",
    "            app = sum_range_formula(P[i]+1, P[i+1]-1)\n",
    "            ans += app\n",
    "        app = sum_range_formula(P[-1]+1, K)\n",
    "        ans += app\n",
    "elif len(P) == 1:\n",
    "    if P[0] <= K:\n",
    "        app = sum_range_formula(1, P[0]-1)\n",
    "        ans += app\n",
    "        app = sum_range_formula(P[0]+1, K)\n",
    "        ans += app\n",
    "    else:\n",
    "        ans = sum_range_formula(1, K)\n",
    "    \n",
    "else:\n",
    "    ans = sum_range_formula(1, K)\n",
    "\n",
    "print(ans)\n",
    "\n",
    "        \n",
    "    "
   ]
  },
  {
   "cell_type": "code",
   "execution_count": 28,
   "metadata": {},
   "outputs": [
    {
     "name": "stdout",
     "output_type": "stream",
     "text": [
      "5\n",
      "34532\n",
      "4 5 3 5 6\n",
      "[[1000000000000000, 1000000000000000], [1000000000000000, 1000000000000000], [1000000000000000, 1000000000000000], [1000000000000000, 1000000000000000], [1000000000000000, 1000000000000000]]\n"
     ]
    }
   ],
   "source": [
    "N = int(input())\n",
    "S = input()\n",
    "C = list(map(int, input().split()))\n",
    "INF = 1000000000000000\n",
    "dp = [[INF,INF] for _ in range(N+1)]\n",
    "dp[0][0] = 0\n",
    "dp[0][1] = 0\n",
    "for i in range(N):\n",
    "    stay = S\n",
    "    if S[i] == "
   ]
  },
  {
   "cell_type": "code",
   "execution_count": null,
   "metadata": {},
   "outputs": [],
   "source": []
  }
 ],
 "metadata": {
  "kernelspec": {
   "display_name": "Python 3",
   "language": "python",
   "name": "python3"
  },
  "language_info": {
   "codemirror_mode": {
    "name": "ipython",
    "version": 3
   },
   "file_extension": ".py",
   "mimetype": "text/x-python",
   "name": "python",
   "nbconvert_exporter": "python",
   "pygments_lexer": "ipython3",
   "version": "3.8.3"
  }
 },
 "nbformat": 4,
 "nbformat_minor": 4
}
