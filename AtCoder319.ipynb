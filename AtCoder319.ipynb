{
 "cells": [
  {
   "cell_type": "code",
   "execution_count": 1,
   "metadata": {},
   "outputs": [
    {
     "name": "stdout",
     "output_type": "stream",
     "text": [
      "tourist\n",
      "3858\n"
     ]
    }
   ],
   "source": [
    "a_dic = {\"tourist\":3858,\n",
    "\"ksun48\":3679,\n",
    "\"Benq\":3658,\n",
    "\"Um_nik\":3648,\n",
    "\"apiad\":3638,\n",
    "\"Stonefeang\":3630,\n",
    "\"ecnerwala\":3613,\n",
    "\"mnbvmar\":3555,\n",
    "\"newbiedmy\":3516,\n",
    "\"semiexp\":3481\n",
    "}\n",
    "s = input()\n",
    "print(a_dic[s])"
   ]
  },
  {
   "cell_type": "code",
   "execution_count": 5,
   "metadata": {},
   "outputs": [
    {
     "name": "stdout",
     "output_type": "stream",
     "text": [
      "12\n",
      "1-643-2-346-1\n"
     ]
    }
   ],
   "source": [
    "def find_divisors(n):\n",
    "    divisors = []\n",
    "    for i in range(1, n + 1):\n",
    "        if n % i == 0 and 1 <= i <= 9:\n",
    "            divisors.append(i)\n",
    "    return divisors\n",
    "n = int(input())\n",
    "divisors = find_divisors(n)\n",
    "ans = []\n",
    "for i in range(n+1):\n",
    "    for j in range(len(divisors)):\n",
    "        check = True\n",
    "        if i%(n//divisors[j])==0:\n",
    "            check = False\n",
    "            ans.append(divisors[j])\n",
    "            break\n",
    "    if check:\n",
    "        ans.append(\"-\")\n",
    "answer = \"\".join(map(str, ans))\n",
    "print(answer)\n",
    "        \n",
    "    "
   ]
  },
  {
   "cell_type": "code",
   "execution_count": 40,
   "metadata": {},
   "outputs": [
    {
     "name": "stdout",
     "output_type": "stream",
     "text": [
      "3 6 4\n",
      "2 5 4\n",
      "7 8 9\n",
      "362880\n",
      "[['3', '6', '4'], ['2', '5', '4'], ['7', '8', '9']]\n",
      "1\n"
     ]
    }
   ],
   "source": [
    "S = []\n",
    "for i in range(3):\n",
    "    a, b, c = map(int, input().split())\n",
    "    S.append(a)\n",
    "    S.append(b)\n",
    "    S.append(c)\n",
    "\n",
    "from itertools import permutations\n",
    "\n",
    "# 0から8までの数のリスト\n",
    "numbers = [0, 1, 2, 3, 4, 5, 6, 7, 8]\n",
    "\n",
    "# 順列を生成し、それをリストに変換\n",
    "permutations_list = list(permutations(numbers))\n",
    "count = 0\n",
    "for p in permutations_list:\n",
    "    ok = True\n",
    "    def check(i, j, k):\n",
    "        d = []\n",
    "        d.append((p[i],S[i]))\n",
    "        d.append((p[j],S[j]))\n",
    "        d.append((p[k],S[k]))\n",
    "        d = sorted(d, key=lambda x: x[0])\n",
    "        if d[0][1] == d[1][1]:\n",
    "            return False\n",
    "        else:\n",
    "            return ok\n",
    "    ok = check(0,1,2)\n",
    "    ok = check(3,4,5)\n",
    "    ok = check(6,7,8)\n",
    "    ok = check(0,3,6)\n",
    "    ok = check(1,4,7)\n",
    "    ok = check(2,5,8)\n",
    "    ok = check(0,4,8)\n",
    "    ok = check(2,4,6)\n",
    "    if ok:\n",
    "        count += 1\n",
    "        \n",
    "print(count/len(permutations_list))\n",
    "    \n",
    "# if S[0][0] == S[1][0] or S[0][0] == S[2][0] or S[1][0] == S[2][0]:\n",
    "#     count +=1\n",
    "# if S[0][1] == S[1][1] or S[0][1] == S[2][1] or S[1][1] == S[2][1]:\n",
    "#     count +=1\n",
    "# if S[0][2] == S[1][2] or S[0][2] == S[2][2] or S[1][2] == S[2][2]:\n",
    "#     count +=1\n",
    "# if S[0][0] == S[0][1] or S[0][0] == S[0][2] or S[0][1] == S[0][2]:\n",
    "#     count += 1\n",
    "# if S[1][0] == S[1][1] or S[1][0] == S[1][2] or S[1][1] == S[1][2]:\n",
    "#     count += 1\n",
    "# if S[2][0] == S[2][1] or S[2][0] == S[2][2] or S[2][1] == S[2][2]:\n",
    "#     count += 1\n",
    "# if S[0][0] == S[1][1] or S[0][0] == S[2][2] or S[1][1] == S[2][2]:\n",
    "#     count +=1\n",
    "# if S[0][2] == S[1][1] or S[0][2] == S[2][0] or S[1][1] == S[2][0]:\n",
    "#     count += 1\n",
    "# print(S)\n",
    "# if count == 1:\n",
    "#     print(1/3)\n",
    "# elif count == 2:\n",
    "#     print(2/5)\n",
    "# elif count == 3:\n",
    "#     print(3/11)\n",
    "# elif count == 4:\n",
    "#     print(4/13)\n",
    "# elif count == 5:\n",
    "#     print(5/14)\n",
    "# elif count == 6:\n",
    "#     print(6/15)\n",
    "# elif count == 7:\n",
    "#     print(7/16)\n",
    "# else:\n",
    "#     print(1808/362880)\n"
   ]
  },
  {
   "cell_type": "code",
   "execution_count": 6,
   "metadata": {},
   "outputs": [
    {
     "name": "stdout",
     "output_type": "stream",
     "text": [
      "0.10526315789473684\n"
     ]
    }
   ],
   "source": [
    "print(2/19)"
   ]
  },
  {
   "cell_type": "code",
   "execution_count": 9,
   "metadata": {},
   "outputs": [
    {
     "name": "stdout",
     "output_type": "stream",
     "text": [
      "120960.0\n"
     ]
    }
   ],
   "source": [
    "print(362880/3)"
   ]
  },
  {
   "cell_type": "code",
   "execution_count": 10,
   "metadata": {},
   "outputs": [
    {
     "name": "stdout",
     "output_type": "stream",
     "text": [
      "145152.0\n"
     ]
    }
   ],
   "source": [
    "print((362880*2)/5)"
   ]
  },
  {
   "cell_type": "code",
   "execution_count": 35,
   "metadata": {},
   "outputs": [
    {
     "name": "stdout",
     "output_type": "stream",
     "text": [
      "0.0049823633156966494\n"
     ]
    }
   ],
   "source": [
    "print(1808/362880)"
   ]
  },
  {
   "cell_type": "code",
   "execution_count": 36,
   "metadata": {},
   "outputs": [
    {
     "name": "stdout",
     "output_type": "stream",
     "text": [
      "0.03777684914333473\n"
     ]
    }
   ],
   "source": [
    "print(1808*8/382880)"
   ]
  },
  {
   "cell_type": "code",
   "execution_count": null,
   "metadata": {},
   "outputs": [],
   "source": []
  }
 ],
 "metadata": {
  "kernelspec": {
   "display_name": "Python 3",
   "language": "python",
   "name": "python3"
  },
  "language_info": {
   "codemirror_mode": {
    "name": "ipython",
    "version": 3
   },
   "file_extension": ".py",
   "mimetype": "text/x-python",
   "name": "python",
   "nbconvert_exporter": "python",
   "pygments_lexer": "ipython3",
   "version": "3.8.3"
  }
 },
 "nbformat": 4,
 "nbformat_minor": 4
}
