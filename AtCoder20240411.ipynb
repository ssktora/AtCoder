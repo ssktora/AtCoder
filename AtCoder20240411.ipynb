{
 "cells": [
  {
   "cell_type": "code",
   "execution_count": 3,
   "metadata": {},
   "outputs": [
    {
     "name": "stdout",
     "output_type": "stream",
     "text": [
      "3 1\n",
      "ABC\n",
      "aBC\n"
     ]
    }
   ],
   "source": [
    "N, K = map(int, input().split())\n",
    "S = input()\n",
    "S =  S[:K-1] + S[K-1].lower() + S[K:]\n",
    "print(S)"
   ]
  },
  {
   "cell_type": "code",
   "execution_count": 4,
   "metadata": {},
   "outputs": [
    {
     "name": "stdout",
     "output_type": "stream",
     "text": [
      "0112\n",
      "01\n",
      "12\n"
     ]
    }
   ],
   "source": [
    "S = input()\n",
    "A = S[:2]\n",
    "B = S[2:]\n",
    "MM_list = [\"01\", \"02\", \"03\", \"04\", \"05\", \"06\", \"07\", \"08\", \"09\", \"10\", \"11\", \"12\"]\n",
    "if A in MM_list and B in MM_list:\n",
    "    print(\"AMBIGUOUS\")\n",
    "elif B in MM_list:\n",
    "    print(\"YYMM\")\n",
    "elif A in MM_list:\n",
    "    print(\"MMYY\")\n",
    "else:\n",
    "    print(\"NA\")"
   ]
  },
  {
   "cell_type": "code",
   "execution_count": 11,
   "metadata": {},
   "outputs": [
    {
     "name": "stdout",
     "output_type": "stream",
     "text": [
      "100000 5\n",
      "[2.32192809]\n",
      "[1.32192809]\n",
      "[0.73696559]\n",
      "[0.32192809]\n",
      "0.9999737499980839\n"
     ]
    }
   ],
   "source": [
    "N, K = map(int, input().split())\n",
    "from scipy.optimize import fsolve\n",
    "import math\n",
    "ans = 0\n",
    "for n in range(1, N+1):\n",
    "    if n < K:\n",
    "        a = 1\n",
    "        while True:\n",
    "            if n*2**a >= K: \n",
    "                ans += (1/N)*(1/2)**a\n",
    "                break\n",
    "            else:\n",
    "                a += 1\n",
    "    else:\n",
    "        ans += (1/N)\n",
    "print(ans)\n",
    "    "
   ]
  },
  {
   "cell_type": "code",
   "execution_count": null,
   "metadata": {},
   "outputs": [],
   "source": [
    "N = int(input())\n"
   ]
  }
 ],
 "metadata": {
  "kernelspec": {
   "display_name": "Python 3",
   "language": "python",
   "name": "python3"
  },
  "language_info": {
   "codemirror_mode": {
    "name": "ipython",
    "version": 3
   },
   "file_extension": ".py",
   "mimetype": "text/x-python",
   "name": "python",
   "nbconvert_exporter": "python",
   "pygments_lexer": "ipython3",
   "version": "3.8.3"
  }
 },
 "nbformat": 4,
 "nbformat_minor": 4
}
