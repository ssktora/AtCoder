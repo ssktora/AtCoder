{
 "cells": [
  {
   "cell_type": "markdown",
   "metadata": {},
   "source": [
    "# 優先度付きキュー\n",
    "https://qiita.com/ell/items/fe52a9eb9499b7060ed6\n"
   ]
  },
  {
   "cell_type": "code",
   "execution_count": 2,
   "metadata": {},
   "outputs": [
    {
     "name": "stdout",
     "output_type": "stream",
     "text": [
      "<class 'list'>\n",
      "<class 'list'>\n"
     ]
    }
   ],
   "source": [
    "import heapq\n",
    "a = [1, 6, 8, 0, -1]\n",
    "print(type(a))  # <class 'list'>\n",
    "\n",
    "heapq.heapify(a)\n",
    "print(type(a))  # <class 'list'>"
   ]
  },
  {
   "cell_type": "code",
   "execution_count": 3,
   "metadata": {},
   "outputs": [
    {
     "name": "stdout",
     "output_type": "stream",
     "text": [
      "[-1, 0, 8, 1, 6]\n",
      "-1\n",
      "[0, 1, 8, 6]\n",
      "[-2, 0, 8, 6, 1]\n"
     ]
    }
   ],
   "source": [
    "import heapq  # heapqライブラリのimport\n",
    "\n",
    "a = [1, 6, 8, 0, -1]\n",
    "heapq.heapify(a)  # リストを優先度付きキューへ\n",
    "print(a)\n",
    "# 出力: [-1, 0, 8, 1, 6] (優先度付きキューとなった a)\n",
    "\n",
    "print(heapq.heappop(a))  # 最小値の取り出し\n",
    "# 出力: -1 (a の最小値)\n",
    "print(a)\n",
    "# 出力: [0, 1, 8, 6] (最小値を取り出した後の a)\n",
    "\n",
    "heapq.heappush(a, -2)  # 要素の挿入\n",
    "print(a)\n",
    "# 出力: [-2, 0, 1, 8, 6]  (-2 を挿入後の a)"
   ]
  },
  {
   "cell_type": "code",
   "execution_count": null,
   "metadata": {},
   "outputs": [],
   "source": []
  }
 ],
 "metadata": {
  "kernelspec": {
   "display_name": "Python 3",
   "language": "python",
   "name": "python3"
  },
  "language_info": {
   "codemirror_mode": {
    "name": "ipython",
    "version": 3
   },
   "file_extension": ".py",
   "mimetype": "text/x-python",
   "name": "python",
   "nbconvert_exporter": "python",
   "pygments_lexer": "ipython3",
   "version": "3.8.3"
  }
 },
 "nbformat": 4,
 "nbformat_minor": 4
}
