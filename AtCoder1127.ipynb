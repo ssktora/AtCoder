{
 "cells": [
  {
   "cell_type": "code",
   "execution_count": 6,
   "metadata": {
    "scrolled": true
   },
   "outputs": [
    {
     "name": "stdout",
     "output_type": "stream",
     "text": [
      "314 100000\n"
     ]
    },
    {
     "ename": "RecursionError",
     "evalue": "maximum recursion depth exceeded while getting the str of an object",
     "output_type": "error",
     "traceback": [
      "\u001b[1;31m---------------------------------------------------------------------------\u001b[0m",
      "\u001b[1;31mRecursionError\u001b[0m                            Traceback (most recent call last)",
      "\u001b[1;32m<ipython-input-6-057079d20766>\u001b[0m in \u001b[0;36m<module>\u001b[1;34m\u001b[0m\n\u001b[0;32m     26\u001b[0m         \u001b[1;32mreturn\u001b[0m \u001b[0msaiki\u001b[0m\u001b[1;33m(\u001b[0m\u001b[0mf\u001b[0m\u001b[1;33m,\u001b[0m\u001b[0mcount\u001b[0m\u001b[1;33m)\u001b[0m\u001b[1;33m\u001b[0m\u001b[1;33m\u001b[0m\u001b[0m\n\u001b[0;32m     27\u001b[0m \u001b[1;33m\u001b[0m\u001b[0m\n\u001b[1;32m---> 28\u001b[1;33m \u001b[0mprint\u001b[0m\u001b[1;33m(\u001b[0m\u001b[0msaiki\u001b[0m\u001b[1;33m(\u001b[0m\u001b[0mN\u001b[0m\u001b[1;33m,\u001b[0m\u001b[1;36m0\u001b[0m\u001b[1;33m)\u001b[0m\u001b[1;33m)\u001b[0m\u001b[1;33m\u001b[0m\u001b[1;33m\u001b[0m\u001b[0m\n\u001b[0m",
      "\u001b[1;32m<ipython-input-6-057079d20766>\u001b[0m in \u001b[0;36msaiki\u001b[1;34m(n, count)\u001b[0m\n\u001b[0;32m     24\u001b[0m         \u001b[0mf\u001b[0m \u001b[1;33m=\u001b[0m \u001b[0mg1\u001b[0m\u001b[1;33m-\u001b[0m\u001b[0mg2\u001b[0m\u001b[1;33m\u001b[0m\u001b[1;33m\u001b[0m\u001b[0m\n\u001b[0;32m     25\u001b[0m         \u001b[0mcount\u001b[0m \u001b[1;33m+=\u001b[0m \u001b[1;36m1\u001b[0m\u001b[1;33m\u001b[0m\u001b[1;33m\u001b[0m\u001b[0m\n\u001b[1;32m---> 26\u001b[1;33m         \u001b[1;32mreturn\u001b[0m \u001b[0msaiki\u001b[0m\u001b[1;33m(\u001b[0m\u001b[0mf\u001b[0m\u001b[1;33m,\u001b[0m\u001b[0mcount\u001b[0m\u001b[1;33m)\u001b[0m\u001b[1;33m\u001b[0m\u001b[1;33m\u001b[0m\u001b[0m\n\u001b[0m\u001b[0;32m     27\u001b[0m \u001b[1;33m\u001b[0m\u001b[0m\n\u001b[0;32m     28\u001b[0m \u001b[0mprint\u001b[0m\u001b[1;33m(\u001b[0m\u001b[0msaiki\u001b[0m\u001b[1;33m(\u001b[0m\u001b[0mN\u001b[0m\u001b[1;33m,\u001b[0m\u001b[1;36m0\u001b[0m\u001b[1;33m)\u001b[0m\u001b[1;33m)\u001b[0m\u001b[1;33m\u001b[0m\u001b[1;33m\u001b[0m\u001b[0m\n",
      "... last 1 frames repeated, from the frame below ...\n",
      "\u001b[1;32m<ipython-input-6-057079d20766>\u001b[0m in \u001b[0;36msaiki\u001b[1;34m(n, count)\u001b[0m\n\u001b[0;32m     24\u001b[0m         \u001b[0mf\u001b[0m \u001b[1;33m=\u001b[0m \u001b[0mg1\u001b[0m\u001b[1;33m-\u001b[0m\u001b[0mg2\u001b[0m\u001b[1;33m\u001b[0m\u001b[1;33m\u001b[0m\u001b[0m\n\u001b[0;32m     25\u001b[0m         \u001b[0mcount\u001b[0m \u001b[1;33m+=\u001b[0m \u001b[1;36m1\u001b[0m\u001b[1;33m\u001b[0m\u001b[1;33m\u001b[0m\u001b[0m\n\u001b[1;32m---> 26\u001b[1;33m         \u001b[1;32mreturn\u001b[0m \u001b[0msaiki\u001b[0m\u001b[1;33m(\u001b[0m\u001b[0mf\u001b[0m\u001b[1;33m,\u001b[0m\u001b[0mcount\u001b[0m\u001b[1;33m)\u001b[0m\u001b[1;33m\u001b[0m\u001b[1;33m\u001b[0m\u001b[0m\n\u001b[0m\u001b[0;32m     27\u001b[0m \u001b[1;33m\u001b[0m\u001b[0m\n\u001b[0;32m     28\u001b[0m \u001b[0mprint\u001b[0m\u001b[1;33m(\u001b[0m\u001b[0msaiki\u001b[0m\u001b[1;33m(\u001b[0m\u001b[0mN\u001b[0m\u001b[1;33m,\u001b[0m\u001b[1;36m0\u001b[0m\u001b[1;33m)\u001b[0m\u001b[1;33m)\u001b[0m\u001b[1;33m\u001b[0m\u001b[1;33m\u001b[0m\u001b[0m\n",
      "\u001b[1;31mRecursionError\u001b[0m: maximum recursion depth exceeded while getting the str of an object"
     ]
    }
   ],
   "source": [
    "N, K = map(int, input().split())\n",
    "def saiki(n,count):\n",
    "    if count == K:\n",
    "        return n\n",
    "    else:\n",
    "        # 1. 整数を文字列に変換\n",
    "        number_str_g1 = str(n)\n",
    "        # 2. 文字列を各桁ごとに分割し、数字の配列にする\n",
    "        digits_g1 = [int(digit) for digit in number_str_g1]\n",
    "        # 3. 数字の配列を大きい順にソート\n",
    "        sorted_digits_g1 = sorted(digits_g1, reverse=True)\n",
    "        # 4. ソートされた数字の配列を結合して新しい整数を作成\n",
    "        g1 = int(\"\".join(map(str, sorted_digits_g1)))\n",
    "        \n",
    "        # 1. 整数を文字列に変換\n",
    "        number_str_g2 = str(n)\n",
    "        # 2. 文字列を各桁ごとに分割し、数字の配列にする\n",
    "        digits_g2 = [int(digit) for digit in number_str_g2]\n",
    "        # 3. 数字の配列を大きい順にソート\n",
    "        sorted_digits_g2 = sorted(digits_g2)\n",
    "        # 4. ソートされた数字の配列を結合して新しい整数を作成\n",
    "        g2 = int(\"\".join(map(str, sorted_digits_g2)))\n",
    "        \n",
    "        f = g1-g2\n",
    "        count += 1\n",
    "        return saiki(f,count)\n",
    "    \n",
    "print(saiki(N,0))\n"
   ]
  },
  {
   "cell_type": "code",
   "execution_count": 1,
   "metadata": {},
   "outputs": [
    {
     "name": "stdout",
     "output_type": "stream",
     "text": [
      "431\n"
     ]
    }
   ],
   "source": [
    "number = 314\n",
    "\n",
    "# 1. 整数を文字列に変換\n",
    "number_str = str(number)\n",
    "\n",
    "# 2. 文字列を各桁ごとに分割し、数字の配列にする\n",
    "digits = [int(digit) for digit in number_str]\n",
    "\n",
    "# 3. 数字の配列を大きい順にソート\n",
    "sorted_digits = sorted(digits, reverse=True)\n",
    "\n",
    "# 4. ソートされた数字の配列を結合して新しい整数を作成\n",
    "result = int(\"\".join(map(str, sorted_digits)))\n",
    "\n",
    "print(result)"
   ]
  },
  {
   "cell_type": "code",
   "execution_count": 7,
   "metadata": {},
   "outputs": [
    {
     "name": "stdout",
     "output_type": "stream",
     "text": [
      "314 2\n",
      "693\n"
     ]
    }
   ],
   "source": [
    "def g1(n):\n",
    "    # 1. 整数を文字列に変換\n",
    "    number_str = str(n)\n",
    "\n",
    "    # 2. 文字列を各桁ごとに分割し、数字の配列にする\n",
    "    digits = [int(digit) for digit in number_str]\n",
    "\n",
    "    # 3. 数字の配列を大きい順にソート\n",
    "    sorted_digits = sorted(digits, reverse=True)\n",
    "\n",
    "    # 4. ソートされた数字の配列を結合して新しい整数を作成\n",
    "    result = int(\"\".join(map(str, sorted_digits)))\n",
    "    \n",
    "    return result\n",
    "    \n",
    "def g2(n):\n",
    "    # 1. 整数を文字列に変換\n",
    "    number_str = str(n)\n",
    "\n",
    "    # 2. 文字列を各桁ごとに分割し、数字の配列にする\n",
    "    digits = [int(digit) for digit in number_str]\n",
    "\n",
    "    # 3. 数字の配列を大きい順にソート\n",
    "    sorted_digits = sorted(digits)\n",
    "\n",
    "    # 4. ソートされた数字の配列を結合して新しい整数を作成\n",
    "    result = int(\"\".join(map(str, sorted_digits)))\n",
    "    \n",
    "    return result\n",
    "    \n",
    "def f(n):\n",
    "    return g1(n) - g2(n)\n",
    "\n",
    "N, K = map(int, input().split())\n",
    "for _ in range(K):\n",
    "    N = f(N)\n",
    "print(N)"
   ]
  },
  {
   "cell_type": "code",
   "execution_count": 11,
   "metadata": {},
   "outputs": [
    {
     "name": "stdout",
     "output_type": "stream",
     "text": [
      "3\n",
      "2 2 2\n",
      "3\n"
     ]
    }
   ],
   "source": [
    "N = int(input())\n",
    "a_list = list(map(int, input().split()))\n",
    "p = 1\n",
    "ans = 0\n",
    "for a in a_list:\n",
    "    if a == p:\n",
    "        p += 1\n",
    "        ans += 1\n",
    "if ans != 0:\n",
    "    print(N-ans)\n",
    "else:\n",
    "    print(-1)"
   ]
  },
  {
   "cell_type": "code",
   "execution_count": null,
   "metadata": {},
   "outputs": [],
   "source": [
    "A, B, C, X, Y = map(int, input().split())\n",
    "def cost(A,B,C,X,Y):\n",
    "    ans = 10000000000000000\n",
    "    for ab in range(20000):\n",
    "        sm = ab*C\n",
    "        x = X - ab//2\n",
    "        y = Y - ab//2\n",
    "        if x > 0:\n",
    "            sm += A*x\n",
    "        if y > 0:\n",
    "            sm += B*y\n",
    "            \n",
    "        ans = min(ans,sm)\n",
    "    return ans\n",
    "print(cost(A,B,C,X,Y))"
   ]
  }
 ],
 "metadata": {
  "kernelspec": {
   "display_name": "Python 3",
   "language": "python",
   "name": "python3"
  },
  "language_info": {
   "codemirror_mode": {
    "name": "ipython",
    "version": 3
   },
   "file_extension": ".py",
   "mimetype": "text/x-python",
   "name": "python",
   "nbconvert_exporter": "python",
   "pygments_lexer": "ipython3",
   "version": "3.8.3"
  }
 },
 "nbformat": 4,
 "nbformat_minor": 4
}
