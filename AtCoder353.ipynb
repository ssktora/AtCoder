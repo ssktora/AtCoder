{
 "cells": [
  {
   "cell_type": "code",
   "execution_count": null,
   "metadata": {},
   "outputs": [],
   "source": [
    "N = int(input())\n",
    "H = list(map(int, input().split()))\n",
    "first = H[0]\n",
    "ans = -1\n",
    "for i in range(1,N):\n",
    "    if H[i] > first:\n",
    "        ans = i+1\n",
    "        break\n",
    "print(ans)\n",
    "    "
   ]
  },
  {
   "cell_type": "code",
   "execution_count": null,
   "metadata": {},
   "outputs": [],
   "source": [
    "N, K = map(int, input().split())\n",
    "A = list(map(int, input().split()))\n",
    "ans = 0\n",
    "k = K\n",
    "while True:\n",
    "    if k < A[0]:\n",
    "        ans += 1\n",
    "        k = K\n",
    "    else:\n",
    "        first_element = A.pop(0)\n",
    "        k -= first_element\n",
    "    if len(A) == 0:\n",
    "        ans += 1\n",
    "        break\n",
    "\n",
    "print(ans)"
   ]
  },
  {
   "cell_type": "code",
   "execution_count": null,
   "metadata": {},
   "outputs": [],
   "source": [
    "N = int(input())\n",
    "A = list(map(int, input().split()))\n",
    "def calculate_f(x, y):\n",
    "    return (x + y) % (10**8)\n",
    "\n",
    "total_sum = 0\n",
    "\n",
    "# 各要素A_iについて、その後ろの要素A_jとのf(A_i, A_j)の合計を計算\n",
    "for i in range(N):\n",
    "    current_sum = 0\n",
    "    x = A[i]\n",
    "    # A_iの後ろの要素A_jについて計算\n",
    "    for j in range(i + 1, N):\n",
    "        y = A[j]\n",
    "        # f(A_i, A_j)を計算し、current_sumに加算\n",
    "        current_sum += calculate_f(x, y)\n",
    "    # 合計をtotal_sumに加算\n",
    "    total_sum += current_sum\n",
    "\n",
    "print(total_sum)\n"
   ]
  },
  {
   "cell_type": "code",
   "execution_count": 1,
   "metadata": {},
   "outputs": [
    {
     "name": "stdout",
     "output_type": "stream",
     "text": [
      "4\n",
      "2 5 3 7\n",
      "[2, 3, 5, 7]\n"
     ]
    }
   ],
   "source": [
    "N = int(input())\n",
    "A = list(map(int, input().split()))\n",
    "A = sorted(A)\n",
    "#print(A)\n",
    "ans = 0\n",
    "for i in range(N):\n",
    "    ans += A[i]*(N-1)\n",
    "j = N-1\n",
    "for i in range(N):\n",
    "    while j >= 0 and A[i]+A[j]>=10**8:\n",
    "      j -= 1\n",
    "    ans -=(N-max(i,j)-1)*(10**8)\n",
    "print(ans)\n",
    "\n"
   ]
  },
  {
   "cell_type": "code",
   "execution_count": null,
   "metadata": {},
   "outputs": [],
   "source": []
  }
 ],
 "metadata": {
  "kernelspec": {
   "display_name": "Python 3",
   "language": "python",
   "name": "python3"
  },
  "language_info": {
   "codemirror_mode": {
    "name": "ipython",
    "version": 3
   },
   "file_extension": ".py",
   "mimetype": "text/x-python",
   "name": "python",
   "nbconvert_exporter": "python",
   "pygments_lexer": "ipython3",
   "version": "3.8.3"
  }
 },
 "nbformat": 4,
 "nbformat_minor": 4
}
