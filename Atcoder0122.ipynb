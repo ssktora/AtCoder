{
 "cells": [
  {
   "cell_type": "code",
   "execution_count": 1,
   "metadata": {},
   "outputs": [
    {
     "name": "stdout",
     "output_type": "stream",
     "text": [
      "123\n",
      "666\n"
     ]
    }
   ],
   "source": [
    "abc = input()\n",
    "n1 = int(abc[0] + abc[1] + abc[2])\n",
    "n2 = int(abc[1] + abc[2] + abc[0])\n",
    "n3 = int(abc[2] + abc[0] + abc[1])\n",
    "print(n1+n2+n3)"
   ]
  },
  {
   "cell_type": "code",
   "execution_count": null,
   "metadata": {},
   "outputs": [],
   "source": [
    "N = int(input())\n",
    "H = list(map(int, input().split()))\n",
    "ans = H[0]\n",
    "for i in range(N-1):\n",
    "    if H[i] < H[i+1]:\n",
    "        ans = H[i+1]\n",
    "    else:\n",
    "        break\n",
    "print(ans)\n",
    "    "
   ]
  },
  {
   "cell_type": "code",
   "execution_count": 5,
   "metadata": {},
   "outputs": [
    {
     "name": "stdout",
     "output_type": "stream",
     "text": [
      "6 8\n",
      "1 1 2 3 1 2\n",
      "defaultdict(<class 'list'>, {1: [1, 2, 5], 2: [3, 6], 3: [4]})\n"
     ]
    }
   ],
   "source": [
    "N, Q = map(int, input().split())\n",
    "a = list(map(int, input().split()))\n",
    "from collections import defaultdict\n",
    "dic_a = defaultdict(list)\n",
    "for i in range(len(a)):\n",
    "    dic_a[a[i]].append(i+1)\n",
    "#dic_a = dict(sorted(dic_a.items(), key=lambda item: item[1]))\n",
    "print(dic_a)\n",
    "    \n",
    "for _ in range(Q):\n",
    "    x, k = map(int, input().split())\n",
    "    try:\n",
    "        print(dic_a[x][k-1])\n",
    "    except:\n",
    "        print(-1)\n",
    "    "
   ]
  },
  {
   "cell_type": "code",
   "execution_count": null,
   "metadata": {},
   "outputs": [],
   "source": [
    "a, N = map(int, input().split())\n",
    "from collections import deque\n",
    "M = 1\n",
    "while M < N:\n",
    "    M *= 10\n",
    "    \n",
    "d = [-1] * M\n",
    "d[1] = 0\n",
    "Q = deque()\n",
    "Q.append(1)\n",
    "\n",
    "while len(Q):\n",
    "    c = Q.popleft()\n",
    "    dc = d[c]\n",
    "    \n",
    "    op1 = a*c\n",
    "    if op1 < M and d[op1] == -1:\n",
    "        Q.append(op1)\n",
    "        d[op1] = dc+1\n",
    "    if c >= 10 and c%10 != 0:\n",
    "        c = str(c)\n",
    "        op2 = int(c[-1]+c[0:-1])\n",
    "        if op2 < M and d[op2] == -1:\n",
    "            Q.append(op2)\n",
    "            d[op2] = dc+1\n",
    "            \n",
    "print(d[N])"
   ]
  },
  {
   "cell_type": "code",
   "execution_count": 6,
   "metadata": {},
   "outputs": [
    {
     "name": "stdout",
     "output_type": "stream",
     "text": [
      "eabcd\n"
     ]
    }
   ],
   "source": [
    "c = \"abcde\"\n",
    "op2 = c[-1]+c[0:-1]\n",
    "print(op2)"
   ]
  },
  {
   "cell_type": "code",
   "execution_count": null,
   "metadata": {},
   "outputs": [],
   "source": []
  }
 ],
 "metadata": {
  "kernelspec": {
   "display_name": "Python 3",
   "language": "python",
   "name": "python3"
  },
  "language_info": {
   "codemirror_mode": {
    "name": "ipython",
    "version": 3
   },
   "file_extension": ".py",
   "mimetype": "text/x-python",
   "name": "python",
   "nbconvert_exporter": "python",
   "pygments_lexer": "ipython3",
   "version": "3.8.3"
  }
 },
 "nbformat": 4,
 "nbformat_minor": 4
}
