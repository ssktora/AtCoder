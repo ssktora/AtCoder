{
 "cells": [
  {
   "cell_type": "code",
   "execution_count": 7,
   "metadata": {},
   "outputs": [
    {
     "name": "stdout",
     "output_type": "stream",
     "text": [
      "2 2\n",
      "1 2\n",
      "1 2\n",
      "2\n",
      "2\n"
     ]
    }
   ],
   "source": [
    "n, m = map(int, input().split())\n",
    "from collections import defaultdict\n",
    "road = [0 for i in range(n)]\n",
    "for i in range(m):\n",
    "    a, b = map(int, input().split())\n",
    "    road[a-1] += 1\n",
    "    road[b-1] += 1\n",
    "    \n",
    "for v in road.values():\n",
    "    print(v)\n",
    "    \n",
    "    "
   ]
  },
  {
   "cell_type": "code",
   "execution_count": null,
   "metadata": {},
   "outputs": [],
   "source": [
    "n, m = map(int, input().split())\n",
    "from collections import defaultdict\n",
    "G = defaultdict(list)\n",
    "for i in range(m):\n",
    "    a, b = map(int, input().split())\n",
    "    G[a].append(b)\n",
    "    G[b].append(a)\n",
    "    \n",
    "S = set()\n",
    "for i in G[1]:\n",
    "    S.add(i)\n",
    "    for j in G[i]:\n",
    "        S.add(j)\n",
    "        \n",
    "if n in S:\n",
    "    print(\"POSSIBLE\")\n",
    "else:\n",
    "    print(\"INPOSSIBLE\")"
   ]
  },
  {
   "cell_type": "code",
   "execution_count": null,
   "metadata": {},
   "outputs": [],
   "source": [
    "n = int(input())\n",
    "c1 = [0]*n\n",
    "c2 = [0]*n\n",
    "for i in range(n):\n",
    "    c, p = map(int, input().split())\n",
    "    if c == 1:\n",
    "        c1[i] = p\n",
    "    else:\n",
    "        c2[i] = p\n",
    "\n",
    "s1 = [0]*(n+1)\n",
    "s2 = [0]*(n+1)\n",
    "\n",
    "for i in range(n):\n",
    "    s1[i+1] = s1[i]+c1[i]\n",
    "    s2[i+1] = s2[i]+c2[i]\n",
    "    \n",
    "q = int(input())\n",
    "for _ in range(q):\n",
    "    l, r = map(int(), input().split())\n",
    "    sum1 = s1[r] - s1[l-1]\n",
    "    sum2 = s2[r] - s2[l-1]\n",
    "    print(sum1, sum2)"
   ]
  }
 ],
 "metadata": {
  "kernelspec": {
   "display_name": "Python 3",
   "language": "python",
   "name": "python3"
  },
  "language_info": {
   "codemirror_mode": {
    "name": "ipython",
    "version": 3
   },
   "file_extension": ".py",
   "mimetype": "text/x-python",
   "name": "python",
   "nbconvert_exporter": "python",
   "pygments_lexer": "ipython3",
   "version": "3.8.3"
  }
 },
 "nbformat": 4,
 "nbformat_minor": 4
}
