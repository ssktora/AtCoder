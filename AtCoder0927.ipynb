{
 "cells": [
  {
   "cell_type": "code",
   "execution_count": null,
   "metadata": {},
   "outputs": [],
   "source": [
    "n = int(input())\n",
    "a_set = set()\n",
    "for _ in range(n):\n",
    "    s = input()\n",
    "    a_set.add(s)\n",
    "print(len(a_set))"
   ]
  },
  {
   "cell_type": "code",
   "execution_count": 2,
   "metadata": {},
   "outputs": [
    {
     "name": "stdout",
     "output_type": "stream",
     "text": [
      "6 5\n",
      "8 6 9 1 2 1\n",
      "1 3\n",
      "4 2\n",
      "4 3\n",
      "4 6\n",
      "4 6\n",
      "{1: 3, 3: 4, 4: 6, 2: 4, 6: 4}\n"
     ]
    }
   ],
   "source": [
    "n, m  = map(int, input().split())\n",
    "H = list(map(int, input().split()))\n",
    "roads = [[] for _ in range(n)]\n",
    "for _ in range(m):\n",
    "    a, b = map(int, input().split())\n",
    "    a -= 1\n",
    "    b -= 1\n",
    "    roads[a].append(b)\n",
    "    roads[b].append(a)\n",
    "ans = 0\n",
    "for f in range(n):\n",
    "    ok = all(H[f] > H[to] for to in roads[f])\n",
    "    if ok:\n",
    "        ans += 1\n",
    "print(ans)\n",
    "#for k, d in"
   ]
  },
  {
   "cell_type": "code",
   "execution_count": null,
   "metadata": {},
   "outputs": [],
   "source": [
    "a, b, c, x, y = map(int, input().split())\n",
    "if a+b < 2*c:\n",
    "    print(a*x+b*y)\n",
    "else:\n",
    "    if x > y:\n",
    "        p = c*(2*x)\n",
    "        q = c*(2*y) + a*(x-y)\n",
    "        if p > q:\n",
    "            print(q)\n",
    "        else:\n",
    "            print(p)\n",
    "    else:\n",
    "        p = c*(2*y)\n",
    "        q = c*(2*x) + a*(y-x)\n",
    "        if p > q:\n",
    "            print(q)\n",
    "        else:\n",
    "            print(p)\n",
    "        "
   ]
  },
  {
   "cell_type": "code",
   "execution_count": null,
   "metadata": {},
   "outputs": [],
   "source": [
    "a, b, c, x, y = map(int, input().split())\n",
    "ans = float(\"inf\")\n",
    "for ab in range(200001):\n",
    "    sm = c * ab\n",
    "    s = x - ab // 2\n",
    "    t = y - ab // 2\n",
    "    if s > 0:\n",
    "        sm += a*s\n",
    "    if t > 0:\n",
    "        sm += b*t\n",
    "    ans = min(ans, sm)\n",
    "    \n",
    "print(ans)"
   ]
  }
 ],
 "metadata": {
  "kernelspec": {
   "display_name": "Python 3",
   "language": "python",
   "name": "python3"
  },
  "language_info": {
   "codemirror_mode": {
    "name": "ipython",
    "version": 3
   },
   "file_extension": ".py",
   "mimetype": "text/x-python",
   "name": "python",
   "nbconvert_exporter": "python",
   "pygments_lexer": "ipython3",
   "version": "3.8.3"
  }
 },
 "nbformat": 4,
 "nbformat_minor": 4
}
