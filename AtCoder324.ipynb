{
 "cells": [
  {
   "cell_type": "code",
   "execution_count": null,
   "metadata": {},
   "outputs": [],
   "source": [
    "n = int(input())\n",
    "A = list(map(int, input().split()))\n",
    "check = A[0]\n",
    "p = True\n",
    "for a in A:\n",
    "    if a != check:\n",
    "        print(\"No\")\n",
    "        p = False\n",
    "        break\n",
    "    else:\n",
    "        check = a\n",
    "if p:\n",
    "    print(\"Yes\")"
   ]
  },
  {
   "cell_type": "code",
   "execution_count": 7,
   "metadata": {},
   "outputs": [
    {
     "name": "stdout",
     "output_type": "stream",
     "text": [
      "34\n",
      "No\n"
     ]
    }
   ],
   "source": [
    "n = int(input())\n",
    "import sympy\n",
    "\n",
    "def prime_factors(n):\n",
    "    factors = sympy.factorint(n)\n",
    "    return factors\n",
    "\n",
    "# 素因数分解を実行\n",
    "factors = prime_factors(n)\n",
    "check = True\n",
    "for k in factors:\n",
    "    if k != 2 and k != 3:\n",
    "        check = False\n",
    "        print(\"No\")\n",
    "        break\n",
    "if check:\n",
    "    print(\"Yes\")"
   ]
  },
  {
   "cell_type": "code",
   "execution_count": null,
   "metadata": {},
   "outputs": [],
   "source": [
    "N, T = map(str, input().split())\n",
    "n = int(N)\n",
    "ans = []\n",
    "for i in range(1, n+1):\n",
    "    s = input()\n",
    "    if s == T:\n",
    "        ans.append(str(i))\n",
    "        continue\n",
    "    a = \"\"\n",
    "    a1 = 0\n",
    "    if len(s) == len(T)-1:\n",
    "        for j in range(len(T)):\n",
    "            if a1 == 0 and j != len(s) and s[j] == T[j]:\n",
    "                #a += s[j]\n",
    "                continue\n",
    "            elif s[j-1] == T[j] and a1 == 1:\n",
    "                #a += s[j-1]\n",
    "                continue\n",
    "            else:\n",
    "                #a += T[j]\n",
    "                a1 += 1\n",
    "        if a1 == 1:\n",
    "            ans.append(str(i))\n",
    "    elif len(s) == len(T)+1:\n",
    "        for j in range(len(s)):\n",
    "            if a1 == 0 and j != len(T) and s[j] == T[j]:\n",
    "                #a += s[j]\n",
    "                continue\n",
    "            elif s[j] == T[j-1] and a1 == 1:\n",
    "                #a += s[j]\n",
    "                continue\n",
    "            else:\n",
    "                a1 += 1\n",
    "        if a1 == 1:\n",
    "            ans.append(str(i))\n",
    "    elif len(s) == len(T):\n",
    "        for j in range(len(s)):\n",
    "            if a1 == 0 and s[j] == T[j]:\n",
    "                #a += s[j]\n",
    "                continue\n",
    "            elif s[j] == T[j] and a1 == 1:\n",
    "                #a += s[j]\n",
    "                continue\n",
    "            else:\n",
    "                #a += T[j]\n",
    "                a1 += 1\n",
    "        if a1 == 1:\n",
    "            ans.append(str(i))\n",
    "print(len(ans))\n",
    "print(\" \".join(ans))\n",
    "        "
   ]
  }
 ],
 "metadata": {
  "kernelspec": {
   "display_name": "Python 3",
   "language": "python",
   "name": "python3"
  },
  "language_info": {
   "codemirror_mode": {
    "name": "ipython",
    "version": 3
   },
   "file_extension": ".py",
   "mimetype": "text/x-python",
   "name": "python",
   "nbconvert_exporter": "python",
   "pygments_lexer": "ipython3",
   "version": "3.8.3"
  }
 },
 "nbformat": 4,
 "nbformat_minor": 4
}
