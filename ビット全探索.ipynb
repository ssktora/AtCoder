{
 "cells": [
  {
   "cell_type": "code",
   "execution_count": null,
   "metadata": {},
   "outputs": [],
   "source": [
    "from itertools import product\n",
    "\n",
    "n = 5  # 要素数を設定\n",
    "\n",
    "# 0と1の組み合わせを生成\n",
    "combinations = list(product([0, 1], repeat=n))\n",
    "\n",
    "# combinationsリストを1の要素の数に基づいて並べ替え\n",
    "sorted_combinations = sorted(combinations, key=lambda x: x.count(1))\n",
    "\n",
    "# 結果の出力\n",
    "for combination in sorted_combinations:\n",
    "    print(combination)"
   ]
  }
 ],
 "metadata": {
  "kernelspec": {
   "display_name": "Python 3",
   "language": "python",
   "name": "python3"
  },
  "language_info": {
   "codemirror_mode": {
    "name": "ipython",
    "version": 3
   },
   "file_extension": ".py",
   "mimetype": "text/x-python",
   "name": "python",
   "nbconvert_exporter": "python",
   "pygments_lexer": "ipython3",
   "version": "3.8.3"
  }
 },
 "nbformat": 4,
 "nbformat_minor": 4
}
