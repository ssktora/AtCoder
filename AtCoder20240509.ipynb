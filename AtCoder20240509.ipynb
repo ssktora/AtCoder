{
 "cells": [
  {
   "cell_type": "code",
   "execution_count": null,
   "metadata": {},
   "outputs": [],
   "source": [
    "X, A = map(int, input().split())\n",
    "if X < A:\n",
    "    print(0)\n",
    "else:\n",
    "    print(10)"
   ]
  },
  {
   "cell_type": "code",
   "execution_count": 6,
   "metadata": {},
   "outputs": [
    {
     "name": "stdout",
     "output_type": "stream",
     "text": [
      "3 6\n",
      "3 4 5\n",
      "[0, 3, 7, 12]\n",
      "2\n"
     ]
    }
   ],
   "source": [
    "N, X = map(int, input().split())\n",
    "L = list(map(int, input().split()))\n",
    "ans = [0 for _ in range(N+1)]\n",
    "for i in range(N):\n",
    "    ans[i+1] = ans[i]+L[i]\n",
    "#print(ans)\n",
    "answer = 0\n",
    "for n in ans:\n",
    "    if n <= X:\n",
    "        answer += 1\n",
    "print(answer)\n",
    "    "
   ]
  },
  {
   "cell_type": "code",
   "execution_count": null,
   "metadata": {},
   "outputs": [],
   "source": [
    "W, H, x, y = map(int, input().split())\n",
    "check = [(0,0),(W,0),(W,H),(0,H)]\n",
    "if (x,y) not in check:\n",
    "    tate = []\n",
    "    yoko = []\n",
    "    tate.append(x*H)\n",
    "    tate.append((W-x)*H)\n",
    "    yoko.append(y*W)\n",
    "    yoko.append((H-y)*W)\n",
    "    if min(tate) > min(yoko):\n",
    "        print(min(tate), 0)\n",
    "    elif min(tate) == min(yoko):\n",
    "        print(min(tate), 1)\n",
    "    else:\n",
    "        print(min(yoko), 0)\n",
    "else:\n",
    "    print(W*H*(1/2), 1)"
   ]
  },
  {
   "cell_type": "code",
   "execution_count": null,
   "metadata": {},
   "outputs": [],
   "source": [
    "W, H, x, y = map(int, input().split())\n",
    "if W/2 == x and H/2 == y:\n",
    "    print(W*H*(1/2), 1)\n",
    "else:\n",
    "    print(W*H*(1/2), 0)"
   ]
  },
  {
   "cell_type": "code",
   "execution_count": null,
   "metadata": {},
   "outputs": [],
   "source": [
    "N, K = map(int, input().split())\n",
    "a_list = list(map(int, input().split()))\n",
    "\n",
    "ans = 0\n",
    "s = 0\n",
    "j = 0\n",
    "for i in range(N):\n",
    "    while j < N and s+a_list[j] < K:\n",
    "        s += a_list[j]\n",
    "        j += 1\n",
    "    ans += j-i\n",
    "    s -= a_list[i]\n",
    "ans = ((N+1)*N)/2 - ans\n",
    "print(int(ans))\n",
    "    "
   ]
  }
 ],
 "metadata": {
  "kernelspec": {
   "display_name": "Python 3",
   "language": "python",
   "name": "python3"
  },
  "language_info": {
   "codemirror_mode": {
    "name": "ipython",
    "version": 3
   },
   "file_extension": ".py",
   "mimetype": "text/x-python",
   "name": "python",
   "nbconvert_exporter": "python",
   "pygments_lexer": "ipython3",
   "version": "3.8.3"
  }
 },
 "nbformat": 4,
 "nbformat_minor": 4
}
