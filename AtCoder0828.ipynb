{
 "cells": [
  {
   "cell_type": "code",
   "execution_count": null,
   "metadata": {},
   "outputs": [],
   "source": [
    "m, h = map(int, input().split())\n",
    "if h%m==0:\n",
    "    print(\"Yes\")\n",
    "else:\n",
    "    print(\"No\")"
   ]
  },
  {
   "cell_type": "code",
   "execution_count": 1,
   "metadata": {},
   "outputs": [
    {
     "name": "stdout",
     "output_type": "stream",
     "text": [
      "120 150 2\n",
      "[2, 2, 2, 2, 5, 5, 5]\n"
     ]
    }
   ],
   "source": [
    "import math\n",
    "a, b, w_g = map(int, input().split())\n",
    "w = 1000 * w_g\n",
    "\n",
    "upper=int(math.floor(w/a))\n",
    "lower=int(math.ceil(w/b))\n",
    "\n",
    "if lower > upper:\n",
    "    print(\"UNSATISFIABLE\")\n",
    "else:\n",
    "    print(lower, upper)"
   ]
  },
  {
   "cell_type": "code",
   "execution_count": 13,
   "metadata": {},
   "outputs": [
    {
     "name": "stdout",
     "output_type": "stream",
     "text": [
      "2998998999000\n"
     ]
    }
   ],
   "source": [
    "p = ((999999999999 - 10**9 + 1) * 3) + 1998999000\n",
    "print(p)"
   ]
  },
  {
   "cell_type": "code",
   "execution_count": 15,
   "metadata": {},
   "outputs": [
    {
     "name": "stdout",
     "output_type": "stream",
     "text": [
      "333\n",
      "0\n",
      "1998999003\n"
     ]
    }
   ],
   "source": [
    "n = int(input())\n",
    "# ans = 0\n",
    "# for i in range(n):\n",
    "#     m = str(i)\n",
    "#     p = len(m)\n",
    "#     q = p // 3\n",
    "#     print(q)\n",
    "#     ans += q\n",
    "# p = 1000    \n",
    "if n < 1000:\n",
    "    ans = 0\n",
    "elif 10**3 <= n < 10**6:\n",
    "    ans = n - 10**3 + 1\n",
    "elif 10**6 <= n < 10**9:\n",
    "    ans = ((n - 10**6 + 1) * 2) + 999000\n",
    "elif 10**9 <= n < 10**12:\n",
    "    p = ((999999999 - 10**6 + 1) * 2) + 999000\n",
    "    ans = ((n - 10**9 + 1) * 3) + p\n",
    "elif 10**12 <= n < 10**15:\n",
    "    p = ((999999999999 - 10**9 + 1) * 3) + 1998999000\n",
    "    ans = ((n - 10**12 + 1) * 4) + p\n",
    "else:\n",
    "    p = ((999999999999999 - 10**12 + 1) * 4) + 2998998999000\n",
    "    ans = p+5\n",
    "    \n",
    "    \n",
    "\n",
    "print(ans)\n"
   ]
  },
  {
   "cell_type": "code",
   "execution_count": null,
   "metadata": {},
   "outputs": [],
   "source": []
  }
 ],
 "metadata": {
  "kernelspec": {
   "display_name": "Python 3",
   "language": "python",
   "name": "python3"
  },
  "language_info": {
   "codemirror_mode": {
    "name": "ipython",
    "version": 3
   },
   "file_extension": ".py",
   "mimetype": "text/x-python",
   "name": "python",
   "nbconvert_exporter": "python",
   "pygments_lexer": "ipython3",
   "version": "3.8.3"
  }
 },
 "nbformat": 4,
 "nbformat_minor": 4
}
