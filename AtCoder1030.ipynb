{
 "cells": [
  {
   "cell_type": "code",
   "execution_count": 6,
   "metadata": {},
   "outputs": [
    {
     "name": "stdout",
     "output_type": "stream",
     "text": [
      "3 2\n",
      "1 2\n",
      "5 5\n",
      "-2 8\n",
      "4\n",
      "3\n",
      "p 5.0\n",
      "3\n",
      "6\n",
      "p 6.708203932499369\n",
      "7\n",
      "3\n",
      "p 7.615773105863909\n"
     ]
    }
   ],
   "source": [
    "N, D = map(int, input().split())\n",
    "a_list = []\n",
    "for _ in range(N):\n",
    "    X = list(map(int, input().split()))\n",
    "    a_list.append(X)\n",
    "\n",
    "ans = 0    \n",
    "for i in range(N):\n",
    "    for j in range(i+1,N):\n",
    "        p = 0\n",
    "        for k in range(D):\n",
    "            print(abs(a_list[i][k] - a_list[j][k]))\n",
    "            p += abs(a_list[i][k] - a_list[j][k])**2\n",
    "        p = p**(1/2)\n",
    "        if p.is_integer():\n",
    "            ans += 1\n",
    "            \n",
    "print(ans)\n",
    "        "
   ]
  },
  {
   "cell_type": "code",
   "execution_count": 14,
   "metadata": {},
   "outputs": [
    {
     "name": "stdout",
     "output_type": "stream",
     "text": [
      "11\n",
      "(0, 0)\n",
      "0\n",
      "0\n",
      "p 2\n",
      "(0, 1)\n",
      "0\n",
      "1\n",
      "p 1\n",
      "(1, 0)\n",
      "1\n",
      "0\n",
      "p 1\n",
      "(1, 1)\n",
      "1\n",
      "1\n",
      "p 0\n",
      "2\n"
     ]
    }
   ],
   "source": [
    "N = input()\n",
    "n = len(N)\n",
    "# # 0から2^n - 1 までの整数に対してループ\n",
    "# combinations = []\n",
    "# for i in range((2**n)):\n",
    "#     binary_str = format(i, '05b')\n",
    "#     combination = [int(bit) for bit in binary_str]\n",
    "#     combinations.append(combination)\n",
    "\n",
    "# # combinationsリストを1の要素の数に基づいて並べ替え\n",
    "# a_list = sorted(combinations, key=lambda x: x.count(1))\n",
    "\n",
    "# # 結果の出力\n",
    "# for combination in sorted_combinations:\n",
    "#     print(combination)\n",
    "\n",
    "from itertools import product\n",
    "\n",
    "# 0と1の組み合わせを生成\n",
    "combinations = list(product([0, 1], repeat=n))\n",
    "\n",
    "# combinationsリストを1の要素の数に基づいて並べ替え\n",
    "a_list = sorted(combinations, key=lambda x: x.count(1))\n",
    "\n",
    "check = True\n",
    "for i in range(len(a_list)):\n",
    "    p = 0\n",
    "    ans = 0\n",
    "    print(a_list[i])\n",
    "    for j in range(n):\n",
    "        print(a_list[i][j])\n",
    "        if a_list[i][j] == 0:\n",
    "            p += int(N[j])\n",
    "        else:\n",
    "            ans += 1\n",
    "    print(\"p\",p)\n",
    "    if p % 3 == 0:\n",
    "        print(ans)\n",
    "        check = False\n",
    "        break\n",
    "        \n",
    "if check:\n",
    "    print(-1)"
   ]
  },
  {
   "cell_type": "code",
   "execution_count": null,
   "metadata": {},
   "outputs": [],
   "source": [
    "N, M = map(int, input().split())\n",
    "S = []\n",
    "for i in range(M):\n",
    "    c = int(input())\n",
    "    A = set(map(int, input().split()))\n",
    "    S.append(A)\n",
    "    \n",
    "from itertools import product\n",
    "\n",
    "# 0と1の組み合わせを生成\n",
    "a_list = list(product([0, 1], repeat=M))\n",
    "check = set(range(1, N+1))\n",
    "\n",
    "ans = 0\n",
    "for i in range(len(a_list)):\n",
    "    p = set()\n",
    "    for j in range(M):\n",
    "        if a_list[i][j] == 1:\n",
    "            p = p|S[j]\n",
    "    if p == check:\n",
    "        ans += 1\n",
    "print(ans)\n",
    "    "
   ]
  }
 ],
 "metadata": {
  "kernelspec": {
   "display_name": "Python 3",
   "language": "python",
   "name": "python3"
  },
  "language_info": {
   "codemirror_mode": {
    "name": "ipython",
    "version": 3
   },
   "file_extension": ".py",
   "mimetype": "text/x-python",
   "name": "python",
   "nbconvert_exporter": "python",
   "pygments_lexer": "ipython3",
   "version": "3.8.3"
  }
 },
 "nbformat": 4,
 "nbformat_minor": 4
}
