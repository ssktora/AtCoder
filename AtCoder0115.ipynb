{
 "cells": [
  {
   "cell_type": "code",
   "execution_count": null,
   "metadata": {},
   "outputs": [],
   "source": [
    "N, D = map(int, input().split())\n",
    "T = list(map(int, input().split()))\n",
    "pre = T[0]\n",
    "frag = True\n",
    "for i in range(1,len(T)):\n",
    "    now = T[i]\n",
    "    p = now - pre\n",
    "    if p <= D:\n",
    "        print(now)\n",
    "        frag = False\n",
    "        break\n",
    "    else:\n",
    "        pre = now\n",
    "\n",
    "if frag:\n",
    "    print(-1)\n",
    "        \n",
    "        \n",
    "    \n",
    "    "
   ]
  },
  {
   "cell_type": "code",
   "execution_count": null,
   "metadata": {},
   "outputs": [],
   "source": [
    "S = input()\n",
    "B_frag = True\n",
    "R_frag = True\n",
    "for i in range(len(S)):\n",
    "    if S[i] == \"B\" and B_frag:\n",
    "        B1 = i\n",
    "        B_frag = False\n",
    "    elif S[i] == \"B\" and (not B_frag):\n",
    "        B2 = i\n",
    "        \n",
    "    if S[i] == \"R\" and R_frag:\n",
    "        R1 = i\n",
    "        R_frag = False\n",
    "    elif S[i] == \"R\" and (not R_frag):\n",
    "        R2 = i\n",
    "        \n",
    "    if S[i] == \"K\":\n",
    "        K = i\n",
    "        \n",
    "if (B1%2==1 and B2%2==0) or (B1%2==0 and B2%2==1):\n",
    "    flag1 = True\n",
    "    \n",
    "else:\n",
    "    frag1 = False\n",
    "    \n",
    "if R1 < K < R2:\n",
    "    frag2 = True\n",
    "else:\n",
    "    frag2 = False\n",
    "    \n",
    "if frag1 and frag2:\n",
    "    print(\"Yes\")\n",
    "else:\n",
    "    print(\"No\")\n",
    "        \n",
    "    "
   ]
  },
  {
   "cell_type": "code",
   "execution_count": 9,
   "metadata": {},
   "outputs": [
    {
     "name": "stdout",
     "output_type": "stream",
     "text": [
      "2 3\n",
      "TTT\n",
      "T T\n",
      "['P', 'C', 'T']\n",
      "C T\n",
      "['P', 'C', 'T']\n",
      "T.T\n",
      "T .\n",
      "['T', '.', 'T']\n",
      ". T\n",
      "['T', '.', 'T']\n",
      "[['P', 'C', 'T'], ['T', '.', 'T']]\n"
     ]
    }
   ],
   "source": [
    "H, W = map(int, input().split())\n",
    "ans = []\n",
    "#S = [list(input()) for _ in range(H)]\n",
    "for i in range(H):\n",
    "    S = list(input())\n",
    "    pre = S[0]\n",
    "    for j in range(1,len(S)):\n",
    "        now = S[j]\n",
    "        if pre == \"T\" and now == \"T\":\n",
    "            S[j-1] = \"P\"\n",
    "            S[j] = \"C\"\n",
    "            pre = S[j]\n",
    "        else:\n",
    "            pre = S[j]\n",
    "    ans.append(S)\n",
    "    \n",
    "for a in ans:\n",
    "    answer = \"\".join(a)\n",
    "    print(answer)\n",
    "    "
   ]
  },
  {
   "cell_type": "code",
   "execution_count": 26,
   "metadata": {},
   "outputs": [
    {
     "name": "stdout",
     "output_type": "stream",
     "text": [
      "1597 987\n",
      "15\n"
     ]
    }
   ],
   "source": [
    "A, B = map(int,input().split())\n",
    "ans = 0\n",
    "while A!=B:\n",
    "    if A%B!=0 and B%A!=0:\n",
    "        if A > B:\n",
    "            #print(A//B)\n",
    "            ans += A//B\n",
    "            A = A % B\n",
    "\n",
    "        else:\n",
    "            #print(B//A)\n",
    "            ans += B//A\n",
    "            B = B % A\n",
    "    else:\n",
    "        ans += 1\n",
    "        break\n",
    "        \n",
    "#     print(A,B)\n",
    "#     print(\"ans\",ans)\n",
    "\n",
    "    \n",
    "print(ans)"
   ]
  },
  {
   "cell_type": "code",
   "execution_count": 20,
   "metadata": {},
   "outputs": [
    {
     "name": "stdout",
     "output_type": "stream",
     "text": [
      "0\n"
     ]
    }
   ],
   "source": [
    "print(2%1)"
   ]
  },
  {
   "cell_type": "code",
   "execution_count": null,
   "metadata": {},
   "outputs": [],
   "source": []
  }
 ],
 "metadata": {
  "kernelspec": {
   "display_name": "Python 3",
   "language": "python",
   "name": "python3"
  },
  "language_info": {
   "codemirror_mode": {
    "name": "ipython",
    "version": 3
   },
   "file_extension": ".py",
   "mimetype": "text/x-python",
   "name": "python",
   "nbconvert_exporter": "python",
   "pygments_lexer": "ipython3",
   "version": "3.8.3"
  }
 },
 "nbformat": 4,
 "nbformat_minor": 4
}
