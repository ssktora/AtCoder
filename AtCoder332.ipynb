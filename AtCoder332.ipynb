{
 "cells": [
  {
   "cell_type": "code",
   "execution_count": null,
   "metadata": {},
   "outputs": [],
   "source": [
    "N, S, K = map(int, input().split())\n",
    "ans = 0\n",
    "for _ in range(N):\n",
    "    p,q = map(int, input().split())\n",
    "    ans += p*q\n",
    "    \n",
    "if ans >= S:\n",
    "    print(ans)\n",
    "else:\n",
    "    print(ans+K)\n",
    "    "
   ]
  },
  {
   "cell_type": "code",
   "execution_count": null,
   "metadata": {},
   "outputs": [],
   "source": [
    "K, G, M = map(int, input().split())\n",
    "g = 0\n",
    "m = 0\n",
    "for _ in range(K):\n",
    "    if g == G:\n",
    "        g = 0\n",
    "    elif m == 0:\n",
    "        m = M\n",
    "    else:\n",
    "        if m+g >= G:\n",
    "            m -= G-g\n",
    "            g = G\n",
    "        else:\n",
    "            g += m\n",
    "            m = 0\n",
    "\n",
    "print(g, m)\n",
    "            "
   ]
  },
  {
   "cell_type": "code",
   "execution_count": 11,
   "metadata": {},
   "outputs": [
    {
     "name": "stdout",
     "output_type": "stream",
     "text": [
      "3 1\n",
      "222\n",
      "--------------\n",
      "2\n",
      "-1 1\n",
      "2\n",
      "-2 1\n",
      "2\n",
      "-3 1\n",
      "0\n"
     ]
    }
   ],
   "source": [
    "N, M = map(int, input().split())\n",
    "S = input()\n",
    "def check(x):\n",
    "    rogo = x\n",
    "    muji = M\n",
    "    print(\"--------------\")\n",
    "    for i in range(len(S)):\n",
    "        if muji <= 0 and rogo <= 0 and S[i] != \"0\":\n",
    "                return False\n",
    "        if S[i] == \"0\":\n",
    "            rogo = x\n",
    "            muji = M\n",
    "        elif S[i] == \"1\":\n",
    "            if muji >= rogo:\n",
    "                \n",
    "                muji -= 1\n",
    "            else:\n",
    "                rogo -= 1\n",
    "        elif S[i] == \"2\":\n",
    "            if rogo <= 0:\n",
    "                return False\n",
    "            else:\n",
    "                rogo -= 1\n",
    "        \n",
    "        print(S[i])\n",
    "        print(rogo,muji)\n",
    "    \n",
    "    return True\n",
    "\n",
    "for ans in range(N+1):\n",
    "    if check(ans):\n",
    "        print(ans)\n",
    "        break\n",
    "        "
   ]
  },
  {
   "cell_type": "code",
   "execution_count": null,
   "metadata": {},
   "outputs": [],
   "source": [
    "N, M = map(int, input().split())\n",
    "S = input()\n",
    "count_ones = S.count('1')\n",
    "import itertools\n",
    "# 'a'と'b'の組み合わせを生成する\n",
    "combinations = itertools.product('ab', repeat=count_ones)\n",
    "# 生成された組み合わせをリストに変換\n",
    "result = [''.join(combination) for combination in combinations]\n",
    "rogo = 0\n",
    "muji = 0\n",
    "ans = 1000000000000\n",
    "print(\"--------------\")\n",
    "for p in range(len(result)):\n",
    "    n = 0\n",
    "    for i in range(len(S)):\n",
    "        if S[i] == \"0\":\n",
    "            rogo = 0\n",
    "            muji = 0\n",
    "        elif S[i] == \"1\":\n",
    "            if result[p][n] == \"a\":\n",
    "                rogo += 1\n",
    "                n += 1\n",
    "            else:\n",
    "                muji += 1\n",
    "                n += 1\n",
    "        elif S[i] == \"2\":\n",
    "            rogo += 1\n",
    "    ans = min(ans,rogo)\n",
    "\n",
    "print(ans)"
   ]
  },
  {
   "cell_type": "code",
   "execution_count": null,
   "metadata": {},
   "outputs": [],
   "source": [
    "N, M = map(int, input().split())\n",
    "S = input()\n",
    "one = 0\n",
    "two = 0\n",
    "ans = 0\n",
    "for i in range(len(S)):\n",
    "    if S[i] == \"0\":\n",
    "        p = (one + two) - min(M,one)\n",
    "        ans = max(ans,p)\n",
    "        one = 0\n",
    "        two = 0\n",
    "    elif S[i] == \"1\":\n",
    "        one += 1\n",
    "    else:\n",
    "        two += 1\n",
    "p = (one + two) - min(M,one)\n",
    "ans = max(ans,p)\n",
    "        \n",
    "print(ans)"
   ]
  }
 ],
 "metadata": {
  "kernelspec": {
   "display_name": "Python 3",
   "language": "python",
   "name": "python3"
  },
  "language_info": {
   "codemirror_mode": {
    "name": "ipython",
    "version": 3
   },
   "file_extension": ".py",
   "mimetype": "text/x-python",
   "name": "python",
   "nbconvert_exporter": "python",
   "pygments_lexer": "ipython3",
   "version": "3.8.3"
  }
 },
 "nbformat": 4,
 "nbformat_minor": 4
}
