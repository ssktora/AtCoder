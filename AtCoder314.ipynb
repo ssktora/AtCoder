{
 "cells": [
  {
   "cell_type": "code",
   "execution_count": 3,
   "metadata": {},
   "outputs": [
    {
     "name": "stdout",
     "output_type": "stream",
     "text": [
      "32\n",
      "3.14159265358979323846264338327950\n"
     ]
    }
   ],
   "source": [
    "n = int(input())\n",
    "s = \"3.1415926535897932384626433832795028841971693993751058209749445923078164062862089986280348253421170679\"\n",
    "print(s[:n+2])"
   ]
  },
  {
   "cell_type": "code",
   "execution_count": null,
   "metadata": {},
   "outputs": [],
   "source": [
    "n = int(input())\n",
    "c_list = []\n",
    "bet = []\n",
    "for _ in range(n):\n",
    "    c = int(input())\n",
    "    c_list.append(c)\n",
    "    a_list = [*map(int, input().split())]\n",
    "    bet.append(a_list)\n",
    "    \n",
    "x = int(input())\n",
    "num = []\n",
    "i_list = []\n",
    "for i in range(len(bet)):\n",
    "    if x in bet[i]:\n",
    "        num.append(len(bet[i]))\n",
    "        i_list.append(i)\n",
    "if len(num) != 0:\n",
    "    p = min(num)\n",
    "    ans = []\n",
    "    ans_n = 0\n",
    "    for j in range(len(num)):\n",
    "        if num[j] == p:\n",
    "            ans_n += 1\n",
    "            ans.append(i_list[j]+1)\n",
    "    print(ans_n)\n",
    "    result = \" \".join(map(str, ans))\n",
    "    print(result)\n",
    "else:\n",
    "    print(0)\n",
    "        \n",
    "        \n",
    "        \n",
    "        \n",
    "    "
   ]
  },
  {
   "cell_type": "code",
   "execution_count": 13,
   "metadata": {},
   "outputs": [
    {
     "name": "stdout",
     "output_type": "stream",
     "text": [
      "8 3\n",
      "apzbqrcs\n",
      "1 2 3 1 2 2 1 2\n",
      "[[0, 3, 6], [1, 4, 5, 7], [2]]\n",
      "['a', 'b', 'c']\n",
      "cpzaqrbs\n",
      "['p', 'q', 'r', 's']\n",
      "cszapqbr\n",
      "['z']\n",
      "cszapqbr\n",
      "['c', 's', 'z', 'a', 'p', 'q', 'b', 'r']\n"
     ]
    }
   ],
   "source": [
    "n, m = map(int, input().split())\n",
    "s = list(input())\n",
    "c_list = list(map(int, input().split()))\n",
    "color = [[] for _ in range(m)]\n",
    "\n",
    "def shift(s, i_list):\n",
    "    moji = []\n",
    "    for j in range(len(i_list)):\n",
    "        moji.append(s[i_list[j]])\n",
    "    #print(moji)\n",
    "#         if j == 0:\n",
    "#             continue\n",
    "#         elif j != len(i_list)-1:\n",
    "#             s[i_list[j]] = s[i_list[j-1]]\n",
    "#         else:\n",
    "#             break\n",
    "    for k in range(len(moji)):\n",
    "        if k == 0:\n",
    "            s[i_list[k]] = moji[-1]\n",
    "        else:\n",
    "            s[i_list[k]] = moji[k-1]\n",
    "    return s\n",
    "            \n",
    "for i in range(len(c_list)):\n",
    "    color[c_list[i]-1].append(i)\n",
    "#print(color)\n",
    "for i in range(m):\n",
    "    s = shift(s, color[i])\n",
    "    #print(\"\".join(s))\n",
    "print(\"\".join(s))    \n",
    "    "
   ]
  },
  {
   "cell_type": "code",
   "execution_count": null,
   "metadata": {},
   "outputs": [],
   "source": [
    "n = int(input())\n",
    "s = list(input())\n",
    "q = int(input())\n",
    "for i in range(q):\n",
    "    t, x, c = map(str, input().split(\" \"))\n",
    "    t = int(t)  # 1文字目をtに代入\n",
    "    x = int(x)  # 3文字目をxに代入 \n",
    "    if t == 1:\n",
    "        s[x-1] = c\n",
    "    elif t == 2:\n",
    "        new_S = []\n",
    "        for item in s:\n",
    "            new_S.append(item.lower())\n",
    "        s = new_S\n",
    "    else:\n",
    "        new_S = []\n",
    "        for item in s:\n",
    "            new_S.append(item.upper())\n",
    "        s = new_S\n",
    "print(\"\".join(s))\n",
    "        "
   ]
  },
  {
   "cell_type": "code",
   "execution_count": 16,
   "metadata": {},
   "outputs": [
    {
     "name": "stdout",
     "output_type": "stream",
     "text": [
      "7\n",
      "AtCoder\n",
      "5\n",
      "1 4 i\n",
      "3 0 a\n",
      "1 5 b\n",
      "2 0 a\n",
      "1 4 Y\n",
      "['A', 't', 'C', 'o', 'd', 'e', 'r']\n",
      "['A', 't', 'C', 'i', 'd', 'e', 'r']\n",
      "['A', 't', 'C', 'i', 'd', 'e', 'r']\n",
      "['A', 't', 'C', 'i', 'b', 'e', 'r']\n",
      "['A', 't', 'C', 'i', 'b', 'e', 'r']\n",
      "AtCYber\n"
     ]
    }
   ],
   "source": [
    "input()\n",
    "S=list(input())\n",
    "Q=int(input())\n",
    "query=[input().split() for _ in range(Q)]\n",
    "last = -1\n",
    "for i, (t,_,_) in enumerate(query):\n",
    "    if t == \"2\" or t == \"3\":\n",
    "        last = i\n",
    "\n",
    "\n",
    "for i, (t,x,c) in enumerate(query):\n",
    "    print(S)\n",
    "    if t == \"1\":\n",
    "        S[int(x)-1] = c\n",
    "    elif t == \"2\":\n",
    "        if i == last:\n",
    "            S = list(\"\".join(S).lower())\n",
    "    else:\n",
    "        if i == last:\n",
    "            S = list(\"\".join(S).upper())\n",
    "            \n",
    "print(\"\".join(S))"
   ]
  },
  {
   "cell_type": "code",
   "execution_count": null,
   "metadata": {},
   "outputs": [],
   "source": []
  }
 ],
 "metadata": {
  "kernelspec": {
   "display_name": "Python 3",
   "language": "python",
   "name": "python3"
  },
  "language_info": {
   "codemirror_mode": {
    "name": "ipython",
    "version": 3
   },
   "file_extension": ".py",
   "mimetype": "text/x-python",
   "name": "python",
   "nbconvert_exporter": "python",
   "pygments_lexer": "ipython3",
   "version": "3.8.3"
  }
 },
 "nbformat": 4,
 "nbformat_minor": 4
}
