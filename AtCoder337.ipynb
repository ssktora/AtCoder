{
 "cells": [
  {
   "cell_type": "code",
   "execution_count": null,
   "metadata": {},
   "outputs": [],
   "source": [
    "N = int(input())\n",
    "A = 0\n",
    "B = 0\n",
    "for _ in range(N):\n",
    "    a, b = map(int, input().split())\n",
    "    A += a\n",
    "    B += b\n",
    "    \n",
    "if A > B:\n",
    "    print(\"Takahashi\")\n",
    "elif A < B:\n",
    "    print(\"Aoki\")\n",
    "else:\n",
    "    print(\"Draw\")\n",
    "    "
   ]
  },
  {
   "cell_type": "code",
   "execution_count": null,
   "metadata": {},
   "outputs": [],
   "source": [
    "S = input()\n",
    "A = \"\"\n",
    "B = \"\"\n",
    "C = \"\"\n",
    "for i in range(len(S)):\n",
    "    if S[i] == \"A\":\n",
    "        A += S[i]\n",
    "    elif S[i] == \"B\":\n",
    "        B += S[i]\n",
    "    else:\n",
    "        C += S[i]\n",
    "        \n",
    "ans = A + B + C\n",
    "if ans == S:\n",
    "    print(\"Yes\")\n",
    "else:\n",
    "    print(\"No\")"
   ]
  },
  {
   "cell_type": "code",
   "execution_count": 2,
   "metadata": {
    "scrolled": true
   },
   "outputs": [
    {
     "name": "stdout",
     "output_type": "stream",
     "text": [
      "6\n",
      "4 1 -1 5 3 2\n",
      "defaultdict(None, {4: 1, 1: 2, -1: 3, 5: 4, 3: 5, 2: 6})\n",
      "3 5 4 1 2 6\n"
     ]
    }
   ],
   "source": [
    "N = int(input())\n",
    "A = list(map(int, input().split()))\n",
    "from collections import defaultdict\n",
    "ans = defaultdict()\n",
    "answer = []\n",
    "for i in range(1,N+1):\n",
    "    ans[A[i-1]] = i\n",
    "#print(ans)\n",
    "\n",
    "prev = -1\n",
    "for _ in range(N):\n",
    "    answer.append(ans[prev])\n",
    "    prev = ans[prev]\n",
    "    \n",
    "\n",
    "print(' '.join(map(str, answer)))\n",
    "\n",
    "\n",
    "    \n",
    "    "
   ]
  },
  {
   "cell_type": "code",
   "execution_count": 4,
   "metadata": {},
   "outputs": [
    {
     "name": "stdout",
     "output_type": "stream",
     "text": [
      "[0, 1, 0]\n"
     ]
    }
   ],
   "source": [
    "dot = [0, 1, 0, 1, 1, 0, 0]\n",
    "print(dot[0:3])"
   ]
  },
  {
   "cell_type": "code",
   "execution_count": null,
   "metadata": {},
   "outputs": [],
   "source": [
    "H, W, K = map(int, input().split())\n",
    "S = [list(input()) for _ in range(H)]\n",
    "INF = 100000000000000\n",
    "def caluculate(a_list):\n",
    "    p_ans = INF\n",
    "    xs = 0\n",
    "    es = 0\n",
    "    for i in range(len(a_list)):\n",
    "        if a_list[i] == \"x\":\n",
    "            xs += 1\n",
    "        if a_list[i] == \".\":\n",
    "            es += 1\n",
    "        if i >= K:\n",
    "            if a_list[i-K] == \"x\":\n",
    "                xs -= 1\n",
    "            if a_list[i-K] == \".\":\n",
    "                es -= 1\n",
    "        if i >= K-1:\n",
    "            if xs == 0:\n",
    "                p_ans = min(p_ans,es)\n",
    "    \n",
    "    return p_ans\n",
    "\n",
    "def transpose(matrix):\n",
    "    return list(map(list, zip(*matrix)))\n",
    "\n",
    "\n",
    "ans = INF\n",
    "for i in range(H):\n",
    "    a_list = S[i]\n",
    "    p_ans = caluculate(a_list)\n",
    "    ans = min(ans,p_ans)\n",
    "\n",
    "S = transpose(S)\n",
    "for i in range(W):\n",
    "    a_list = S[i]\n",
    "    p_ans = caluculate(a_list)\n",
    "    ans = min(ans,p_ans)\n",
    "\n",
    "if ans != INF:\n",
    "    print(ans)\n",
    "else:\n",
    "    print(-1)\n",
    "    \n",
    "    \n",
    "        \n",
    "    \n",
    "        \n",
    "    "
   ]
  }
 ],
 "metadata": {
  "kernelspec": {
   "display_name": "Python 3",
   "language": "python",
   "name": "python3"
  },
  "language_info": {
   "codemirror_mode": {
    "name": "ipython",
    "version": 3
   },
   "file_extension": ".py",
   "mimetype": "text/x-python",
   "name": "python",
   "nbconvert_exporter": "python",
   "pygments_lexer": "ipython3",
   "version": "3.8.3"
  }
 },
 "nbformat": 4,
 "nbformat_minor": 4
}
