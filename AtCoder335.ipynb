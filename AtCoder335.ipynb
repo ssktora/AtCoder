{
 "cells": [
  {
   "cell_type": "code",
   "execution_count": null,
   "metadata": {},
   "outputs": [],
   "source": [
    "S = input()\n",
    "S = S[:-1]\n",
    "ans = S + \"4\"\n",
    "print(ans)"
   ]
  },
  {
   "cell_type": "code",
   "execution_count": 2,
   "metadata": {},
   "outputs": [
    {
     "name": "stdout",
     "output_type": "stream",
     "text": [
      "3\n",
      "0 0 0\n",
      "0 0 1\n",
      "0 0 2\n",
      "0 0 3\n",
      "0 1 0\n",
      "0 1 1\n",
      "0 1 2\n",
      "0 2 0\n",
      "0 2 1\n",
      "0 3 0\n",
      "1 0 0\n",
      "1 0 1\n",
      "1 0 2\n",
      "1 1 0\n",
      "1 1 1\n",
      "1 2 0\n",
      "2 0 0\n",
      "2 0 1\n",
      "2 1 0\n",
      "3 0 0\n"
     ]
    }
   ],
   "source": [
    "N = int(input())\n",
    "for i in range(N+1):\n",
    "    for j in range(N+1):\n",
    "        for k in range(N+1):\n",
    "            if i+j+k<=N:\n",
    "                print(f\"{i} {j} {k}\")"
   ]
  },
  {
   "cell_type": "code",
   "execution_count": null,
   "metadata": {},
   "outputs": [],
   "source": [
    "N, Q = map(int, input().split())\n",
    "rireki = [(i, 0) for i in range(N, 0, -1)]\n",
    "for _ in range(Q):\n",
    "    a, b = input().split()\n",
    "    if int(a) == 1:\n",
    "        p = rireki[-1]\n",
    "        x = p[0]\n",
    "        y = p[1]\n",
    "        if b == \"U\":\n",
    "            y += 1\n",
    "        elif b == \"D\":\n",
    "            y -= 1\n",
    "        elif b == \"R\":\n",
    "            x += 1\n",
    "        elif b == \"L\":\n",
    "            x -= 1\n",
    "        rireki.append((x,y))\n",
    "    else:\n",
    "        p = rireki[-int(b)]\n",
    "        x = p[0]\n",
    "        y = p[1]\n",
    "        print(x, y)"
   ]
  },
  {
   "cell_type": "code",
   "execution_count": 20,
   "metadata": {
    "scrolled": true
   },
   "outputs": [
    {
     "name": "stdout",
     "output_type": "stream",
     "text": [
      "7\n",
      "  13 14 15 16 17 18 19\n",
      "  12 33 34 35 36 37 20\n",
      "  11 32 45 46 47 38 21\n",
      "  10 31 44 T 48 39 22\n",
      "  9 30 43 42 41 40 23\n",
      "  8 29 28 27 26 25 24\n",
      "  7 6 5 4 3 2 1\n",
      "               \n"
     ]
    }
   ],
   "source": [
    "def generate_spiral_instructions(size):\n",
    "    instructions = []\n",
    "    x, y = 0, 0\n",
    "    steps = 1\n",
    "    direction = 0  # 0: right, 1: down, 2: left, 3: up\n",
    "\n",
    "    for _ in range(size):\n",
    "        for _ in range(2):\n",
    "            for _ in range(steps):\n",
    "                if direction == 0:\n",
    "                    instructions.append(\"right\")\n",
    "                    x += 1\n",
    "                elif direction == 1:\n",
    "                    instructions.append(\"down\")\n",
    "                    y += 1\n",
    "                elif direction == 2:\n",
    "                    instructions.append(\"left\")\n",
    "                    x -= 1\n",
    "                elif direction == 3:\n",
    "                    instructions.append(\"up\")\n",
    "                    y -= 1\n",
    "\n",
    "            direction = (direction + 1) % 4\n",
    "\n",
    "        steps += 1\n",
    "\n",
    "    return instructions\n",
    "\n",
    "N = int(input())\n",
    "keiro = generate_spiral_instructions(N)\n",
    "keiro = keiro[1:-(N+1)]\n",
    "x = (N+1)//2\n",
    "y = (N+1)//2\n",
    "dic = {\"T\":(x,y), (N**2)-1:(x+1,y)}\n",
    "m = 0\n",
    "for n in range((N**2)-2,0,-1):\n",
    "    p = dic[n+1]\n",
    "    x = p[0]\n",
    "    y = p[1]\n",
    "    direction = keiro[m]\n",
    "    if direction == \"left\":\n",
    "        dic[n] = (x-1,y)\n",
    "    elif direction == \"right\":\n",
    "        dic[n] = (x+1,y)\n",
    "    elif direction == \"up\":\n",
    "        dic[n] = (x,y-1)\n",
    "    elif direction == \"down\":\n",
    "        dic[n] = (x,y+1)\n",
    "    m += 1\n",
    "    \n",
    "def print_grid(coordinates):\n",
    "    # グリッドのサイズを計算\n",
    "    max_x = max(coord[0] for coord in coordinates.values())\n",
    "    max_y = max(coord[1] for coord in coordinates.values())\n",
    "\n",
    "    # グリッドを初期化\n",
    "    grid = [[' ' for _ in range(max_x + 1)] for _ in range(max_y + 1)]\n",
    "\n",
    "    # 座標に数字または文字を配置\n",
    "    for key, (x, y) in coordinates.items():\n",
    "        grid[y][x] = str(key) if isinstance(key, int) else key\n",
    "\n",
    "    # グリッドを出力\n",
    "    for row in reversed(grid):  # 上から下へ表示するために行を反転\n",
    "        print(' '.join(map(str, row)))\n",
    "\n",
    "# グリッドの出力\n",
    "print_grid(dic)"
   ]
  },
  {
   "cell_type": "code",
   "execution_count": 11,
   "metadata": {
    "scrolled": true
   },
   "outputs": [
    {
     "name": "stdout",
     "output_type": "stream",
     "text": [
      "['right', 'down', 'left', 'left', 'up', 'up', 'right', 'right']\n",
      "12\n"
     ]
    }
   ],
   "source": [
    "def generate_spiral_instructions(size):\n",
    "    instructions = []\n",
    "    x, y = 0, 0\n",
    "    steps = 1\n",
    "    direction = 0  # 0: right, 1: down, 2: left, 3: up\n",
    "\n",
    "    for _ in range(size):\n",
    "        for _ in range(2):\n",
    "            for _ in range(steps):\n",
    "                if direction == 0:\n",
    "                    instructions.append(\"right\")\n",
    "                    x += 1\n",
    "                elif direction == 1:\n",
    "                    instructions.append(\"down\")\n",
    "                    y += 1\n",
    "                elif direction == 2:\n",
    "                    instructions.append(\"left\")\n",
    "                    x -= 1\n",
    "                elif direction == 3:\n",
    "                    instructions.append(\"up\")\n",
    "                    y -= 1\n",
    "\n",
    "            direction = (direction + 1) % 4\n",
    "\n",
    "        steps += 1\n",
    "\n",
    "    return instructions\n",
    "\n",
    "# サイズを指定してらせん状の移動リストを生成\n",
    "size = 3\n",
    "spiral_instructions = generate_spiral_instructions(size)\n",
    "\n",
    "# 結果の表示\n",
    "print(spiral_instructions[:-(size+1)])\n",
    "print(len(spiral_instructions))"
   ]
  },
  {
   "cell_type": "code",
   "execution_count": null,
   "metadata": {},
   "outputs": [],
   "source": []
  }
 ],
 "metadata": {
  "kernelspec": {
   "display_name": "Python 3",
   "language": "python",
   "name": "python3"
  },
  "language_info": {
   "codemirror_mode": {
    "name": "ipython",
    "version": 3
   },
   "file_extension": ".py",
   "mimetype": "text/x-python",
   "name": "python",
   "nbconvert_exporter": "python",
   "pygments_lexer": "ipython3",
   "version": "3.8.3"
  }
 },
 "nbformat": 4,
 "nbformat_minor": 4
}
