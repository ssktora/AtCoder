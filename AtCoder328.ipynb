{
 "cells": [
  {
   "cell_type": "code",
   "execution_count": null,
   "metadata": {},
   "outputs": [],
   "source": [
    "n, x = map(int, input().split())\n",
    "S = list(map(int, input().split()))\n",
    "ans = 0\n",
    "for s in S:\n",
    "    if s <= x:\n",
    "        ans += s\n",
    "print(ans)"
   ]
  },
  {
   "cell_type": "code",
   "execution_count": null,
   "metadata": {},
   "outputs": [],
   "source": [
    "n = int(input())\n",
    "D = list(map(int, input().split()))\n",
    "ans = 0\n",
    "for i in range(1, n+1):\n",
    "    if i <= 9:\n",
    "        if D[i-1] >= i:\n",
    "            ans += 1\n",
    "        if D[i-1] >= (10*i)+i:\n",
    "            ans += 1\n",
    "    if i == 11:\n",
    "        if D[i-1] >= 1:\n",
    "            ans += 1\n",
    "        if D[i-1] >= 11:\n",
    "            ans += 1\n",
    "    if i == 22:\n",
    "        if D[i-1] >= 2:\n",
    "            ans += 1\n",
    "        if D[i-1] >= 22:\n",
    "            ans += 1\n",
    "    if i == 33:\n",
    "        if D[i-1] >= 3:\n",
    "            ans += 1\n",
    "        if D[i-1] >= 33:\n",
    "            ans += 1\n",
    "    if i == 44:\n",
    "        if D[i-1] >= 4:\n",
    "            ans += 1\n",
    "        if D[i-1] >= 44:\n",
    "            ans += 1\n",
    "    if i == 55:\n",
    "        if D[i-1] >= 5:\n",
    "            ans += 1\n",
    "        if D[i-1] >= 55:\n",
    "            ans += 1\n",
    "    if i == 66:\n",
    "        if D[i-1] >= 6:\n",
    "            ans += 1\n",
    "        if D[i-1] >= 66:\n",
    "            ans += 1\n",
    "    if i == 77:\n",
    "        if D[i-1] >= 7:\n",
    "            ans += 1\n",
    "        if D[i-1] >= 77:\n",
    "            ans += 1\n",
    "    if i == 88:\n",
    "        if D[i-1] >= 8:\n",
    "            ans += 1\n",
    "        if D[i-1] >= 88:\n",
    "            ans += 1\n",
    "    if i == 99:\n",
    "        if D[i-1] >= 9:\n",
    "            ans += 1\n",
    "        if D[i-1] >= 99:\n",
    "            ans += 1\n",
    "            \n",
    "print(ans)"
   ]
  },
  {
   "cell_type": "code",
   "execution_count": 8,
   "metadata": {},
   "outputs": [
    {
     "name": "stdout",
     "output_type": "stream",
     "text": [
      "5 1\n",
      "aaaaa\n",
      "1 5\n",
      "4\n"
     ]
    }
   ],
   "source": [
    "n, q = map(int, input().split())\n",
    "S = input()\n",
    "a_list = []\n",
    "k = S[0]\n",
    "for i in range(1,n):\n",
    "    if k == S[i]:\n",
    "        a_list.append(1)\n",
    "    else:\n",
    "        a_list.append(0)\n",
    "        k = S[i]\n",
    "\n",
    "\n",
    "for i in range(q):\n",
    "    l, r = map(int, input().split())\n",
    "    P = a_list[l-1:r-1]\n",
    "    ans = sum(P)\n",
    "    print(ans)"
   ]
  },
  {
   "cell_type": "code",
   "execution_count": 13,
   "metadata": {},
   "outputs": [
    {
     "name": "stdout",
     "output_type": "stream",
     "text": [
      "5 1\n",
      "aaaaa\n",
      "[0, 1, 2, 3, 4]\n",
      "1 5\n",
      "3\n"
     ]
    }
   ],
   "source": [
    "n, q = map(int, input().split())\n",
    "S = input()\n",
    "a_list = [0] * (n)\n",
    "k = S[0]\n",
    "for i in range(1,n):\n",
    "    if k == S[i]:\n",
    "        a_list[i] = a_list[i-1]+1\n",
    "    else:\n",
    "        a_list[i] = a_list[i-1]\n",
    "        k = S[i]\n",
    "       \n",
    "for i in range(q):\n",
    "    l, r = map(int, input().split())\n",
    "    ans = a_list[r-1]-a_list[l-1]\n",
    "    print(ans)"
   ]
  },
  {
   "cell_type": "code",
   "execution_count": 18,
   "metadata": {},
   "outputs": [
    {
     "name": "stdout",
     "output_type": "stream",
     "text": [
      "cde\n"
     ]
    }
   ],
   "source": [
    "S = \"abcde\"\n",
    "print(S[2:])"
   ]
  },
  {
   "cell_type": "code",
   "execution_count": null,
   "metadata": {},
   "outputs": [],
   "source": [
    "def saiki(S):\n",
    "    for i in range(2,len(S)):\n",
    "        if S[i-2] == \"A\" and S[i-1] == \"B\" and S[i] == \"C\":\n",
    "            p = S[:i-2] + S[i+1:]\n",
    "            return saiki(p)\n",
    "        if i == len(S)-1 and not(S[i-2] == \"A\" and S[i-1] == \"B\" and S[i] == \"C\"):\n",
    "            return S\n",
    "        \n",
    "S = input()\n",
    "ans = saiki(S)\n",
    "if ans != None:\n",
    "    print(ans)\n",
    "else:\n",
    "    print(\"\")"
   ]
  },
  {
   "cell_type": "code",
   "execution_count": 3,
   "metadata": {},
   "outputs": [
    {
     "name": "stdout",
     "output_type": "stream",
     "text": [
      "BAABCBCCABCAC\n",
      "BCAC\n"
     ]
    }
   ],
   "source": [
    "S = input()\n",
    "from collections import deque\n",
    "stack = deque()\n",
    "for s in S:\n",
    "    if len(stack) < 2:\n",
    "        stack.append(s)\n",
    "    else:\n",
    "        stack.append(s)\n",
    "        if stack[-3] == \"A\" and stack[-2] == \"B\" and stack[-1] == \"C\":\n",
    "            stack.pop()\n",
    "            stack.pop()\n",
    "            stack.pop()\n",
    "print(\"\".join(stack))\n",
    "        \n",
    "        "
   ]
  },
  {
   "cell_type": "code",
   "execution_count": null,
   "metadata": {},
   "outputs": [],
   "source": []
  }
 ],
 "metadata": {
  "kernelspec": {
   "display_name": "Python 3",
   "language": "python",
   "name": "python3"
  },
  "language_info": {
   "codemirror_mode": {
    "name": "ipython",
    "version": 3
   },
   "file_extension": ".py",
   "mimetype": "text/x-python",
   "name": "python",
   "nbconvert_exporter": "python",
   "pygments_lexer": "ipython3",
   "version": "3.8.3"
  }
 },
 "nbformat": 4,
 "nbformat_minor": 4
}
