{
 "cells": [
  {
   "cell_type": "code",
   "execution_count": 4,
   "metadata": {},
   "outputs": [
    {
     "name": "stdout",
     "output_type": "stream",
     "text": [
      "||xyz\n",
      "xyz\n"
     ]
    }
   ],
   "source": [
    "S = input().split(\"|\")\n",
    "ans = S[0]+S[2]\n",
    "print(ans)"
   ]
  },
  {
   "cell_type": "code",
   "execution_count": 7,
   "metadata": {},
   "outputs": [
    {
     "name": "stdout",
     "output_type": "stream",
     "text": [
      "3\n",
      "2\n",
      "1\n",
      "0\n",
      "\n",
      "3\n",
      "0\n",
      "2\n",
      "1\n",
      "1\n",
      "2\n",
      "0\n",
      "3\n"
     ]
    }
   ],
   "source": [
    "ans = []\n",
    "while True:\n",
    "    try:\n",
    "        n = int(input())\n",
    "        ans.append(n)\n",
    "    except:\n",
    "        break\n",
    "        \n",
    "for i in range(len(ans)-1,-1,-1):\n",
    "    print(ans[i])\n",
    "    \n",
    "    \n",
    "        "
   ]
  },
  {
   "cell_type": "code",
   "execution_count": null,
   "metadata": {},
   "outputs": [],
   "source": [
    "N = int(input())\n",
    "A = list(map(int, input().split()))\n",
    "A_set = set(A)\n",
    "M = int(input())\n",
    "B = list(map(int, input().split()))\n",
    "B_set = set(B)\n",
    "L = int(input())\n",
    "C = list(map(int, input().split()))\n",
    "C_set = set(C)\n",
    "Q = int(input())\n",
    "X = list(map(int, input().split()))\n",
    "\n",
    "ans_set = set()\n",
    "for a in A:\n",
    "    for b in B:\n",
    "        for c in C:\n",
    "            ans_set.add(a+b+c)\n",
    "for x in X:\n",
    "    if x in ans_set:\n",
    "        print(\"Yes\")\n",
    "    else:\n",
    "        print(\"No\")\n",
    "            \n",
    "        "
   ]
  },
  {
   "cell_type": "code",
   "execution_count": null,
   "metadata": {},
   "outputs": [],
   "source": [
    "T = input()\n",
    "N = int(input())\n",
    "S = \"\"\n",
    "dp = []\n",
    "def is_prefix_match(s, t):\n",
    "    n = len(s)\n",
    "    return s == t[:n]\n",
    "for i in range(N):\n",
    "    if i == 0:\n",
    "        P = input().split(\" \")\n",
    "        A = int(P[0])\n",
    "        S_list = []\n",
    "        for j in range(1,A+1):\n",
    "            S_list.append(P[j])\n",
    "        dic = {\"\":0}\n",
    "        for s in S_list:\n",
    "            if is_prefix_match(s, T):\n",
    "                dic[s] = 1\n",
    "        dp.append(dic)\n",
    "        #print(dp)\n",
    "    else:\n",
    "        P = input().split(\" \")\n",
    "        A = int(P[0])\n",
    "        S_list = []\n",
    "        for j in range(1,A+1):\n",
    "            S_list.append(P[j])\n",
    "        p_dic = dp[i-1]\n",
    "        dic = p_dic.copy()\n",
    "        for ps, cost in p_dic.items():\n",
    "            for s in S_list:\n",
    "                if ps+s not in dic and is_prefix_match(ps+s, T):\n",
    "                    dic[ps+s] = cost+1\n",
    "                elif ps+s in dic and dic[ps+s] > cost+1:\n",
    "                    dic[ps+s] = cost+1\n",
    "        dp.append(dic)\n",
    "        #print(dp)\n",
    "a_dic = dp[-1]\n",
    "if T in a_dic:\n",
    "    print(a_dic[T])\n",
    "else:\n",
    "    print(-1)"
   ]
  },
  {
   "cell_type": "code",
   "execution_count": null,
   "metadata": {},
   "outputs": [],
   "source": [
    "T = input()\n",
    "N = int(input())\n",
    "dp = [[INF for _ in range()]]"
   ]
  }
 ],
 "metadata": {
  "kernelspec": {
   "display_name": "Python 3",
   "language": "python",
   "name": "python3"
  },
  "language_info": {
   "codemirror_mode": {
    "name": "ipython",
    "version": 3
   },
   "file_extension": ".py",
   "mimetype": "text/x-python",
   "name": "python",
   "nbconvert_exporter": "python",
   "pygments_lexer": "ipython3",
   "version": "3.8.3"
  }
 },
 "nbformat": 4,
 "nbformat_minor": 4
}
