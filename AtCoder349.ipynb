{
 "cells": [
  {
   "cell_type": "code",
   "execution_count": 1,
   "metadata": {},
   "outputs": [
    {
     "name": "stdout",
     "output_type": "stream",
     "text": [
      "4\n",
      "1 -2 -1\n",
      "-2\n",
      "2\n"
     ]
    }
   ],
   "source": [
    "N = int(input())\n",
    "A = list(map(int, input().split()))\n",
    "all_a = sum(A)\n",
    "print(-all_a)\n"
   ]
  },
  {
   "cell_type": "code",
   "execution_count": null,
   "metadata": {},
   "outputs": [],
   "source": [
    "S = input()\n",
    "from collections import defaultdict\n",
    "a_dic = defaultdict(int)\n",
    "for i in range(len(S)):\n",
    "    a_dic[S[i]] += 1\n",
    "\n",
    "frag = True\n",
    "for i in range(1,len(S)+1):\n",
    "    p = [key for key, value in a_dic.items() if value == i]\n",
    "    if len(p) == 0 or len(p) == 2:\n",
    "        continue\n",
    "    else:\n",
    "        frag = False\n",
    "        break\n",
    "\n",
    "if frag:\n",
    "    print(\"Yes\")\n",
    "else:\n",
    "    print(\"No\")\n",
    "    "
   ]
  },
  {
   "cell_type": "code",
   "execution_count": null,
   "metadata": {},
   "outputs": [],
   "source": [
    "S = input()\n",
    "T = input()\n",
    "\n",
    "t = T[0].lower()\n",
    "frag1 = False\n",
    "frag2 = False\n",
    "frag3 = False\n",
    "n = 1\n",
    "for i in range(len(S)):\n",
    "    s = S[i]\n",
    "    if s == t and n == 1:\n",
    "        t = T[1].lower()\n",
    "        frag1 = True\n",
    "        n = 2\n",
    "    elif s == t and n == 2:\n",
    "        t = T[2].lower()\n",
    "        frag2 = True\n",
    "        n = 3\n",
    "    elif s == t and n == 3:\n",
    "        frag3 = True\n",
    "        break\n",
    "\n",
    "if frag1 and frag2 and frag3:\n",
    "    print(\"Yes\")\n",
    "elif frag1 and frag2 and T[2] == \"X\":\n",
    "    print(\"Yes\")\n",
    "else:\n",
    "    print(\"No\")\n",
    "        \n"
   ]
  },
  {
   "cell_type": "code",
   "execution_count": null,
   "metadata": {},
   "outputs": [],
   "source": [
    "L, R = map(int, input().split())\n",
    "S = []\n",
    "for i in range(L, R+1):\n",
    "    S.append(i)\n",
    "    "
   ]
  }
 ],
 "metadata": {
  "kernelspec": {
   "display_name": "Python 3",
   "language": "python",
   "name": "python3"
  },
  "language_info": {
   "codemirror_mode": {
    "name": "ipython",
    "version": 3
   },
   "file_extension": ".py",
   "mimetype": "text/x-python",
   "name": "python",
   "nbconvert_exporter": "python",
   "pygments_lexer": "ipython3",
   "version": "3.8.3"
  }
 },
 "nbformat": 4,
 "nbformat_minor": 4
}
