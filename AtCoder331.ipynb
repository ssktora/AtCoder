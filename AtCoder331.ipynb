{
 "cells": [
  {
   "cell_type": "code",
   "execution_count": null,
   "metadata": {},
   "outputs": [],
   "source": [
    "M, D = map(int, input().split())\n",
    "y, m, d = map(int, input().split())\n",
    "if m == M and d == D:\n",
    "    print(y+1, 1, 1)\n",
    "elif d == D:\n",
    "    print(y, m+1, 1)\n",
    "else:\n",
    "    print(y, m, d+1)"
   ]
  },
  {
   "cell_type": "code",
   "execution_count": 40,
   "metadata": {
    "scrolled": false
   },
   "outputs": [
    {
     "name": "stdout",
     "output_type": "stream",
     "text": [
      "16 120 150 200\n",
      "[inf, inf, inf, inf, inf, inf, 120, inf, 150, inf, inf, inf, 200, inf, inf, inf, 300]\n",
      "300\n"
     ]
    }
   ],
   "source": [
    "N, S, M, L = map(int,input().split())\n",
    "def min_amount_for_eggs(eggs, target_count):\n",
    "    # 無限大を表す値\n",
    "    INF = float('inf')\n",
    "    if N <= 12:\n",
    "        ans = min(S,M,L)\n",
    "    \n",
    "    else:\n",
    "\n",
    "        # dp[i]は卵の個数がiになるための最小金額\n",
    "        dp = [INF] * (target_count + 1)\n",
    "\n",
    "        dp[6] = S\n",
    "        dp[8] = M\n",
    "        dp[12] = L\n",
    "\n",
    "       \n",
    "        # 動的計画法の更新\n",
    "        for n, egg in eggs.items():\n",
    "            for count in range(n, target_count + 1, n):\n",
    "                dp[count] = min(dp[count], dp[count - n] + egg)\n",
    "        #print(dp)\n",
    "\n",
    "#         if dp[target_count] != INF:\n",
    "#             ans = dp[target_count]\n",
    "        \n",
    "        X = True\n",
    "        Y = True\n",
    "        Z = True\n",
    "        for i in range(N-5, N+1):\n",
    "            if dp[i] != INF:\n",
    "                x = dp[i] + eggs[6]\n",
    "                X = False\n",
    "                break\n",
    "        if X:\n",
    "            x = INF\n",
    "\n",
    "        for i in range(N-7,N+1):\n",
    "            if dp[i] != INF:\n",
    "                y = dp[i] + eggs[8]\n",
    "                Y = False\n",
    "                break\n",
    "        if Y:\n",
    "            y = INF\n",
    "        for i in range(N-11,N+1):\n",
    "            if dp[i] != INF:\n",
    "                z = dp[i] + eggs[12]\n",
    "                Z = False\n",
    "                break\n",
    "        if Z:\n",
    "            z = INF\n",
    "        ans = min(x,y,z,dp[target_count])\n",
    "\n",
    "    # 結果はdp[target_count]\n",
    "    return ans\n",
    "\n",
    "\n",
    "eggs = {6:S, 8:M, 12:L}\n",
    "target_count = N\n",
    "result = min_amount_for_eggs(eggs, target_count)\n",
    "print(result)"
   ]
  },
  {
   "cell_type": "code",
   "execution_count": 42,
   "metadata": {},
   "outputs": [
    {
     "name": "stdout",
     "output_type": "stream",
     "text": [
      "16 120 150 200\n",
      "300\n"
     ]
    }
   ],
   "source": [
    "N, S, M, L = map(int,input().split())\n",
    "ans = 1000000000000\n",
    "for i in range(N+1):\n",
    "    for j in range(N+1):\n",
    "        for k in range(N+1):\n",
    "            if 6*i+8*j+12*k < N:\n",
    "                continue\n",
    "            else:\n",
    "                p = S*i+M*j+L*k\n",
    "                ans = min(ans,p)\n",
    "                \n",
    "print(ans)"
   ]
  },
  {
   "cell_type": "code",
   "execution_count": 51,
   "metadata": {},
   "outputs": [
    {
     "name": "stdout",
     "output_type": "stream",
     "text": [
      "5\n",
      "1 4 1 4 2\n",
      "4 [1, 3]\n",
      "2 [4]\n",
      "1 [0, 2]\n",
      "10 0 10 0 8\n"
     ]
    }
   ],
   "source": [
    "N = int(input())\n",
    "A = list(map(int, input().split()))\n",
    "from collections import defaultdict\n",
    "\n",
    "my_dict = defaultdict(list)\n",
    "\n",
    "for i in range(len(A)):\n",
    "    my_dict[A[i]].append(i)\n",
    "\n",
    "now = 0\n",
    "ans = [0]*N\n",
    "for key, value in sorted(my_dict.items())[::-1]:\n",
    "    for i in value:\n",
    "        ans[i] = now\n",
    "    now += key*len(value)\n",
    "    \n",
    "print(*ans)\n"
   ]
  },
  {
   "cell_type": "code",
   "execution_count": null,
   "metadata": {},
   "outputs": [],
   "source": []
  }
 ],
 "metadata": {
  "kernelspec": {
   "display_name": "Python 3",
   "language": "python",
   "name": "python3"
  },
  "language_info": {
   "codemirror_mode": {
    "name": "ipython",
    "version": 3
   },
   "file_extension": ".py",
   "mimetype": "text/x-python",
   "name": "python",
   "nbconvert_exporter": "python",
   "pygments_lexer": "ipython3",
   "version": "3.8.3"
  }
 },
 "nbformat": 4,
 "nbformat_minor": 4
}
