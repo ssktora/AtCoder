{
 "cells": [
  {
   "cell_type": "code",
   "execution_count": 1,
   "metadata": {},
   "outputs": [
    {
     "name": "stdout",
     "output_type": "stream",
     "text": [
      "5 2\n",
      "2 5 6 7 10\n",
      "1.0 3.0 5.0\n"
     ]
    }
   ],
   "source": [
    "N, K = map(int, input().split())\n",
    "A = list(map(int, input().split()))\n",
    "ans = []\n",
    "for a in A:\n",
    "    if a % K == 0:\n",
    "        p = a/K\n",
    "        p = str(p)\n",
    "        ans.append(p)\n",
    "        \n",
    "print(\" \".join(ans))"
   ]
  },
  {
   "cell_type": "code",
   "execution_count": 5,
   "metadata": {},
   "outputs": [
    {
     "name": "stdout",
     "output_type": "stream",
     "text": [
      "yay\n",
      "{'', 'a', 'yay', 'ya', 'y', 'ay'}\n"
     ]
    }
   ],
   "source": [
    "S = input()\n",
    "ans = set()\n",
    "for i in range(len(S)):\n",
    "    for j in range(len(S)+1):\n",
    "        p = S[i:i+j]\n",
    "        ans.add(p)\n",
    "        \n",
    "print(ans)"
   ]
  },
  {
   "cell_type": "code",
   "execution_count": 18,
   "metadata": {},
   "outputs": [
    {
     "name": "stdout",
     "output_type": "stream",
     "text": [
      "3 3 4\n",
      "1 2 9\n",
      "[2, 3, 3]\n",
      "[1, 2, 2]\n",
      "Yes\n"
     ]
    }
   ],
   "source": [
    "import math\n",
    "\n",
    "N, A, B = map(int, input().split())\n",
    "D = list(map(int, input().split()))\n",
    "a_list = []\n",
    "for i in range(N):\n",
    "    a_list.append(D[i]%(A+B))\n",
    "#print(a_list)\n",
    "min_list = []\n",
    "n = min(a_list)-1\n",
    "for a in a_list:\n",
    "    min_list.append(a-n)\n",
    "max_list = []\n",
    "n = min(a_list)- (A-1)\n",
    "for a in a_list:\n",
    "    max_list.append(a-n)\n",
    "\n",
    "#print(max_list)\n",
    "#print(min_list)\n",
    "if max(min_list) <= A and min(min_list) >= 1:\n",
    "    print(\"Yes\")\n",
    "elif max(max_list) <= A and  min(max_list) >= 1:\n",
    "    print(\"Yes\")\n",
    "else:\n",
    "    print(\"No\")\n",
    "    "
   ]
  },
  {
   "cell_type": "code",
   "execution_count": 13,
   "metadata": {},
   "outputs": [
    {
     "name": "stdout",
     "output_type": "stream",
     "text": [
      "0\n"
     ]
    }
   ],
   "source": [
    "print(5%5)"
   ]
  },
  {
   "cell_type": "code",
   "execution_count": null,
   "metadata": {},
   "outputs": [],
   "source": []
  }
 ],
 "metadata": {
  "kernelspec": {
   "display_name": "Python 3",
   "language": "python",
   "name": "python3"
  },
  "language_info": {
   "codemirror_mode": {
    "name": "ipython",
    "version": 3
   },
   "file_extension": ".py",
   "mimetype": "text/x-python",
   "name": "python",
   "nbconvert_exporter": "python",
   "pygments_lexer": "ipython3",
   "version": "3.8.3"
  }
 },
 "nbformat": 4,
 "nbformat_minor": 4
}
