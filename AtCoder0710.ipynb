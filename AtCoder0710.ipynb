{
 "cells": [
  {
   "cell_type": "code",
   "execution_count": null,
   "metadata": {},
   "outputs": [],
   "source": [
    "n, w = map(int, input().split())\n",
    "print(w//n)"
   ]
  },
  {
   "cell_type": "code",
   "execution_count": 4,
   "metadata": {},
   "outputs": [
    {
     "name": "stdout",
     "output_type": "stream",
     "text": [
      "2 3\n",
      "2 2 3\n",
      "3 2 2\n",
      "Counter({'2': 2, '3': 1})\n",
      "Counter({'2': 2, '3': 1})\n"
     ]
    }
   ],
   "source": [
    "import collections\n",
    "h, w = map(int, input().split())\n",
    "S = [list(input().split()) for _ in range(h)]\n",
    "ans = 100000000000000000000\n",
    "for i in range(h):\n",
    "    for j in range(w):\n",
    "        if int(S[i][j]) < ans:\n",
    "            ans = int(S[i][j])\n",
    "result = 0\n",
    "for i in range(h):\n",
    "    for j in range(w):\n",
    "        result += (int(S[i][j])-ans)\n",
    "print(result)\n",
    "        \n",
    "        "
   ]
  },
  {
   "cell_type": "code",
   "execution_count": 3,
   "metadata": {},
   "outputs": [
    {
     "name": "stdout",
     "output_type": "stream",
     "text": [
      "20\n",
      "17\n"
     ]
    }
   ],
   "source": [
    "n = int(input())\n",
    "set10 = set()\n",
    "set8 = set()\n",
    "for i in range(1, n+1):\n",
    "    if \"7\" in str(i):\n",
    "        set10.add(i)\n",
    "    n8 = format(i, 'o')\n",
    "    if \"7\" in n8:\n",
    "        set8.add(i)\n",
    "ans_set = set10 | set8\n",
    "print(n-len(ans_set))"
   ]
  },
  {
   "cell_type": "code",
   "execution_count": 13,
   "metadata": {},
   "outputs": [
    {
     "name": "stdout",
     "output_type": "stream",
     "text": [
      "3\n",
      "5 1 2\n",
      "8\n"
     ]
    }
   ],
   "source": [
    "n = int(input())\n",
    "t = 0\n",
    "a_list = [*map(int, input().split())]\n",
    "a_list = sorted(a_list, reverse=True)\n",
    "a = 0\n",
    "b = 0\n",
    "for i in range(n):\n",
    "    a += a_list[i]*(n-1)\n",
    "    b += a_list[i]*t\n",
    "    n -= 1\n",
    "    t += 1\n",
    "    \n",
    "print(a-b)\n",
    "        "
   ]
  },
  {
   "cell_type": "code",
   "execution_count": null,
   "metadata": {},
   "outputs": [],
   "source": []
  }
 ],
 "metadata": {
  "kernelspec": {
   "display_name": "Python 3",
   "language": "python",
   "name": "python3"
  },
  "language_info": {
   "codemirror_mode": {
    "name": "ipython",
    "version": 3
   },
   "file_extension": ".py",
   "mimetype": "text/x-python",
   "name": "python",
   "nbconvert_exporter": "python",
   "pygments_lexer": "ipython3",
   "version": "3.8.3"
  }
 },
 "nbformat": 4,
 "nbformat_minor": 4
}
