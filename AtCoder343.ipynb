{
 "cells": [
  {
   "cell_type": "code",
   "execution_count": 3,
   "metadata": {},
   "outputs": [
    {
     "name": "stdout",
     "output_type": "stream",
     "text": [
      "0 1\n",
      "2\n"
     ]
    }
   ],
   "source": [
    "A,B = map(int,input().split())\n",
    "num_list = [1,2,3,4,5,6,7,8,9]\n",
    "for n in num_list:\n",
    "    if n!=A+B:\n",
    "        print(n)\n",
    "        break"
   ]
  },
  {
   "cell_type": "code",
   "execution_count": null,
   "metadata": {},
   "outputs": [],
   "source": [
    "N = int(input())\n",
    "from collections import defaultdict\n",
    "a_dic = defaultdict(list)\n",
    "for i in range(N):\n",
    "    a_list = list(map(int, input().split()))\n",
    "    for j in range(N):\n",
    "        if a_list[j] == 1:\n",
    "            a_dic[i+1].append(str(j+1))\n",
    "for i in range(N):\n",
    "    ans = \" \".join(a_dic[i+1])\n",
    "    print(ans)"
   ]
  },
  {
   "cell_type": "code",
   "execution_count": 19,
   "metadata": {},
   "outputs": [
    {
     "name": "stdout",
     "output_type": "stream",
     "text": [
      "1331399339931330\n",
      "1033394994933301\n"
     ]
    }
   ],
   "source": [
    "N = int(input())\n",
    "if N >= 1331399339931331:\n",
    "    print(1331399339931331)\n",
    "else:\n",
    "    n_list = []\n",
    "    for i in range(1,1000001):\n",
    "        n_list.append(i**3)\n",
    "    ans_list = []\n",
    "    for n in n_list:\n",
    "        S = str(n)\n",
    "        frag = True\n",
    "        for i in range(len(S)//2):\n",
    "            if S[i] != S[-(i+1)]:\n",
    "                frag = False\n",
    "        if frag:\n",
    "            ans_list.append(n)\n",
    "\n",
    "    pre = ans_list[0]\n",
    "    for i in range(1,len(ans_list)):\n",
    "        now = ans_list[i]\n",
    "        if now > N:\n",
    "            ans = pre\n",
    "            break\n",
    "        pre = now      \n",
    "    print(ans)"
   ]
  },
  {
   "cell_type": "code",
   "execution_count": 6,
   "metadata": {},
   "outputs": [
    {
     "name": "stdout",
     "output_type": "stream",
     "text": [
      "2\n",
      "5\n"
     ]
    }
   ],
   "source": [
    "S = \"2345\"\n",
    "i=0\n",
    "print(S[i])\n",
    "print(S[-(i+1)])"
   ]
  },
  {
   "cell_type": "code",
   "execution_count": null,
   "metadata": {},
   "outputs": [],
   "source": [
    "N,T = map(int, input().split())\n",
    "score = [0]*N\n",
    "ans = 1\n",
    "d_list = []\n",
    "a_list = [0]\n",
    "for i in range(T):\n",
    "    A, B = map(int,input().split())\n",
    "    score[A-1] += B\n",
    "    if B not in d_list:\n",
    "        # 適切な挿入位置を取得\n",
    "        index = bisect.bisect_left(a_list, score[A-1])\n",
    "        # 新しい数値を挿入\n",
    "        a_list.insert(index, score[A-1])\n",
    "\n",
    "        print(sorted_list)\n",
    "        \n",
    "    "
   ]
  },
  {
   "cell_type": "code",
   "execution_count": null,
   "metadata": {},
   "outputs": [],
   "source": [
    "N,T = map(int, input().split())\n",
    "a_dic = {0:N}\n",
    "score = {}\n",
    "for i in range(N):\n",
    "  score[i] = 0\n",
    "for i in range(T):\n",
    "    A, B = map(int,input().split())\n",
    "    a_dic[score[A-1]] -= 1\n",
    "    if a_dic[score[A-1]] == 0:\n",
    "        del a_dic[score[A-1]]\n",
    "    score[A-1] += B\n",
    "    if score[A-1] in a_dic:\n",
    "        a_dic[score[A-1]] += 1\n",
    "    else:\n",
    "        a_dic[score[A-1]] = 1\n",
    "    #print(a_dic)\n",
    "    print(len(a_dic))\n"
   ]
  }
 ],
 "metadata": {
  "kernelspec": {
   "display_name": "Python 3",
   "language": "python",
   "name": "python3"
  },
  "language_info": {
   "codemirror_mode": {
    "name": "ipython",
    "version": 3
   },
   "file_extension": ".py",
   "mimetype": "text/x-python",
   "name": "python",
   "nbconvert_exporter": "python",
   "pygments_lexer": "ipython3",
   "version": "3.8.3"
  }
 },
 "nbformat": 4,
 "nbformat_minor": 4
}
