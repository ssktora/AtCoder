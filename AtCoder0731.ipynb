{
 "cells": [
  {
   "cell_type": "code",
   "execution_count": null,
   "metadata": {},
   "outputs": [],
   "source": [
    "n = int(input())\n",
    "if n%2 == 0:\n",
    "    print(\"White\")\n",
    "else:\n",
    "    print(\"Black\")"
   ]
  },
  {
   "cell_type": "code",
   "execution_count": 13,
   "metadata": {},
   "outputs": [
    {
     "name": "stdout",
     "output_type": "stream",
     "text": [
      "2\n",
      "1 3\n",
      "3 5\n",
      "18.0\n"
     ]
    }
   ],
   "source": [
    "n = int(input())\n",
    "ans = 0\n",
    "for i in range(n):\n",
    "    a, b = map(int, input().split())\n",
    "    if a != 1:\n",
    "        d = ((b*(b+1))/2) - (((a-1)*a)/2)\n",
    "    else:\n",
    "        d = ((b*(b+1))/2)\n",
    "    ans += d\n",
    "print(ans)\n"
   ]
  },
  {
   "cell_type": "code",
   "execution_count": 8,
   "metadata": {},
   "outputs": [
    {
     "name": "stdout",
     "output_type": "stream",
     "text": [
      "4\n",
      "2 3\n",
      "4 6\n",
      "6 8\n",
      "3 5\n",
      "Yes\n"
     ]
    }
   ],
   "source": [
    "n = int(input())\n",
    "p = []\n",
    "for i in range(n):\n",
    "    x, y = map(int, input().split())\n",
    "    p.append((x, y))\n",
    "\n",
    "for i in range(n):\n",
    "    for j in range(i):\n",
    "        for k in range(j):\n",
    "            x1, y1 = p[i]\n",
    "            x2, y2 = p[j]\n",
    "            x3, y3 = p[k]\n",
    "            x1 -= x3\n",
    "            x2 -= x3\n",
    "            y1 -= y3\n",
    "            y2 -= y3\n",
    "            if y1*x2 == y2*x1:\n",
    "                print(\"Yes\")\n",
    "                exit()\n",
    "print(\"No\")\n",
    "    "
   ]
  },
  {
   "cell_type": "code",
   "execution_count": 7,
   "metadata": {},
   "outputs": [
    {
     "name": "stdout",
     "output_type": "stream",
     "text": [
      "{(4, 6), (7, 8), (2, 7), (5, 8)}\n",
      "[((4, 6), (7, 8), (2, 7)), ((4, 6), (7, 8), (5, 8)), ((4, 6), (2, 7), (5, 8)), ((7, 8), (2, 7), (5, 8))]\n"
     ]
    }
   ],
   "source": [
    "from itertools import combinations\n",
    "\n",
    "def enumerate_combinations(sets):\n",
    "    return list(combinations(sets, 3))\n",
    "\n",
    "points_list = [(2, 7), (7, 8), (4, 6), (2, 7), (5, 8)]\n",
    "points_set = set(points_list)\n",
    "combinations_list = enumerate_combinations(points_set)\n",
    "print(combinations_list)"
   ]
  },
  {
   "cell_type": "code",
   "execution_count": 11,
   "metadata": {},
   "outputs": [
    {
     "name": "stdout",
     "output_type": "stream",
     "text": [
      "8\n",
      "0 1\n",
      "0 2\n",
      "0 3\n",
      "0 4\n",
      "0 5\n",
      "1 2\n",
      "1 3\n",
      "1 4\n",
      "[(0, 1), (0, 2), (0, 3), (0, 4), (0, 5), (1, 2), (1, 3), (1, 4)]\n"
     ]
    }
   ],
   "source": [
    "n = int(input())\n",
    "p = [tuple(map(int, input().split())) for i in range(n)]\n",
    "print(p)"
   ]
  },
  {
   "cell_type": "code",
   "execution_count": 10,
   "metadata": {},
   "outputs": [
    {
     "name": "stdout",
     "output_type": "stream",
     "text": [
      "2 1 0\n",
      "3 1 0\n",
      "3 2 0\n",
      "3 2 1\n",
      "4 1 0\n",
      "4 2 0\n",
      "4 2 1\n",
      "4 3 0\n",
      "4 3 1\n",
      "4 3 2\n",
      "5 1 0\n",
      "5 2 0\n",
      "5 2 1\n",
      "5 3 0\n",
      "5 3 1\n",
      "5 3 2\n",
      "5 4 0\n",
      "5 4 1\n",
      "5 4 2\n",
      "5 4 3\n",
      "6 1 0\n",
      "6 2 0\n",
      "6 2 1\n",
      "6 3 0\n",
      "6 3 1\n",
      "6 3 2\n",
      "6 4 0\n",
      "6 4 1\n",
      "6 4 2\n",
      "6 4 3\n",
      "6 5 0\n",
      "6 5 1\n",
      "6 5 2\n",
      "6 5 3\n",
      "6 5 4\n",
      "7 1 0\n",
      "7 2 0\n",
      "7 2 1\n",
      "7 3 0\n",
      "7 3 1\n",
      "7 3 2\n",
      "7 4 0\n",
      "7 4 1\n",
      "7 4 2\n",
      "7 4 3\n",
      "7 5 0\n",
      "7 5 1\n",
      "7 5 2\n",
      "7 5 3\n",
      "7 5 4\n",
      "7 6 0\n",
      "7 6 1\n",
      "7 6 2\n",
      "7 6 3\n",
      "7 6 4\n",
      "7 6 5\n"
     ]
    }
   ],
   "source": [
    "n = 8\n",
    "for i in range(n):\n",
    "    for j in range(i):\n",
    "        for k in range(j):\n",
    "            print(i,j,k)"
   ]
  },
  {
   "cell_type": "code",
   "execution_count": null,
   "metadata": {},
   "outputs": [],
   "source": []
  }
 ],
 "metadata": {
  "kernelspec": {
   "display_name": "Python 3",
   "language": "python",
   "name": "python3"
  },
  "language_info": {
   "codemirror_mode": {
    "name": "ipython",
    "version": 3
   },
   "file_extension": ".py",
   "mimetype": "text/x-python",
   "name": "python",
   "nbconvert_exporter": "python",
   "pygments_lexer": "ipython3",
   "version": "3.8.3"
  }
 },
 "nbformat": 4,
 "nbformat_minor": 4
}
