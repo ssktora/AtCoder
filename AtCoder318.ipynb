{
 "cells": [
  {
   "cell_type": "code",
   "execution_count": null,
   "metadata": {},
   "outputs": [],
   "source": [
    "n, m , p = map(int, input().split())\n",
    "ans = n//p\n",
    "if n%p >= m:\n",
    "    ans += 1\n",
    "print(ans)"
   ]
  },
  {
   "cell_type": "code",
   "execution_count": 1,
   "metadata": {},
   "outputs": [
    {
     "name": "stdout",
     "output_type": "stream",
     "text": [
      "2\n",
      "3\n",
      "4\n"
     ]
    }
   ],
   "source": [
    "for i in range(2, 5):\n",
    "    print(i)"
   ]
  },
  {
   "cell_type": "code",
   "execution_count": 5,
   "metadata": {},
   "outputs": [
    {
     "name": "stdout",
     "output_type": "stream",
     "text": [
      "3\n",
      "2 4 5 3\n",
      "3 5 7 6\n",
      "4 5  7 9\n",
      "2\n"
     ]
    }
   ],
   "source": [
    "n = int(input())\n",
    "d_set = set()\n",
    "for _ in range(n):\n",
    "    a, b, c, d = map(int, input().split())\n",
    "    for x in range(a,b):\n",
    "        for y in range(c, d):\n",
    "            d_set.add((x,y))\n",
    "print(len(d_set))\n"
   ]
  },
  {
   "cell_type": "code",
   "execution_count": 10,
   "metadata": {},
   "outputs": [
    {
     "name": "stdout",
     "output_type": "stream",
     "text": [
      "200000 100000 100\n"
     ]
    },
    {
     "ename": "KeyboardInterrupt",
     "evalue": "Interrupted by user",
     "output_type": "error",
     "traceback": [
      "\u001b[1;31m---------------------------------------------------------------------------\u001b[0m",
      "\u001b[1;31mKeyboardInterrupt\u001b[0m                         Traceback (most recent call last)",
      "\u001b[1;32m<ipython-input-10-1bc63c814705>\u001b[0m in \u001b[0;36m<module>\u001b[1;34m\u001b[0m\n\u001b[0;32m      1\u001b[0m \u001b[0mn\u001b[0m\u001b[1;33m,\u001b[0m \u001b[0md\u001b[0m\u001b[1;33m,\u001b[0m \u001b[0mp\u001b[0m \u001b[1;33m=\u001b[0m \u001b[0mmap\u001b[0m\u001b[1;33m(\u001b[0m\u001b[0mint\u001b[0m\u001b[1;33m,\u001b[0m \u001b[0minput\u001b[0m\u001b[1;33m(\u001b[0m\u001b[1;33m)\u001b[0m\u001b[1;33m.\u001b[0m\u001b[0msplit\u001b[0m\u001b[1;33m(\u001b[0m\u001b[1;33m)\u001b[0m\u001b[1;33m)\u001b[0m\u001b[1;33m\u001b[0m\u001b[1;33m\u001b[0m\u001b[0m\n\u001b[1;32m----> 2\u001b[1;33m \u001b[0mf_list\u001b[0m \u001b[1;33m=\u001b[0m \u001b[0mlist\u001b[0m\u001b[1;33m(\u001b[0m\u001b[0mmap\u001b[0m\u001b[1;33m(\u001b[0m\u001b[0mint\u001b[0m\u001b[1;33m,\u001b[0m \u001b[0minput\u001b[0m\u001b[1;33m(\u001b[0m\u001b[1;33m)\u001b[0m\u001b[1;33m.\u001b[0m\u001b[0msplit\u001b[0m\u001b[1;33m(\u001b[0m\u001b[1;33m)\u001b[0m\u001b[1;33m)\u001b[0m\u001b[1;33m)\u001b[0m\u001b[1;33m\u001b[0m\u001b[1;33m\u001b[0m\u001b[0m\n\u001b[0m\u001b[0;32m      3\u001b[0m \u001b[0mans\u001b[0m \u001b[1;33m=\u001b[0m \u001b[1;36m0\u001b[0m\u001b[1;33m\u001b[0m\u001b[1;33m\u001b[0m\u001b[0m\n\u001b[0;32m      4\u001b[0m \u001b[0mf_list\u001b[0m \u001b[1;33m=\u001b[0m \u001b[0msorted\u001b[0m\u001b[1;33m(\u001b[0m\u001b[0mf_list\u001b[0m\u001b[1;33m,\u001b[0m \u001b[0mreverse\u001b[0m\u001b[1;33m=\u001b[0m\u001b[1;32mTrue\u001b[0m\u001b[1;33m)\u001b[0m\u001b[1;33m\u001b[0m\u001b[1;33m\u001b[0m\u001b[0m\n\u001b[0;32m      5\u001b[0m \u001b[1;32mwhile\u001b[0m \u001b[1;32mTrue\u001b[0m\u001b[1;33m:\u001b[0m\u001b[1;33m\u001b[0m\u001b[1;33m\u001b[0m\u001b[0m\n",
      "\u001b[1;32mC:\\ProgramData\\Anaconda3\\lib\\site-packages\\ipykernel\\kernelbase.py\u001b[0m in \u001b[0;36mraw_input\u001b[1;34m(self, prompt)\u001b[0m\n\u001b[0;32m    858\u001b[0m                 \u001b[1;34m\"raw_input was called, but this frontend does not support input requests.\"\u001b[0m\u001b[1;33m\u001b[0m\u001b[1;33m\u001b[0m\u001b[0m\n\u001b[0;32m    859\u001b[0m             )\n\u001b[1;32m--> 860\u001b[1;33m         return self._input_request(str(prompt),\n\u001b[0m\u001b[0;32m    861\u001b[0m             \u001b[0mself\u001b[0m\u001b[1;33m.\u001b[0m\u001b[0m_parent_ident\u001b[0m\u001b[1;33m,\u001b[0m\u001b[1;33m\u001b[0m\u001b[1;33m\u001b[0m\u001b[0m\n\u001b[0;32m    862\u001b[0m             \u001b[0mself\u001b[0m\u001b[1;33m.\u001b[0m\u001b[0m_parent_header\u001b[0m\u001b[1;33m,\u001b[0m\u001b[1;33m\u001b[0m\u001b[1;33m\u001b[0m\u001b[0m\n",
      "\u001b[1;32mC:\\ProgramData\\Anaconda3\\lib\\site-packages\\ipykernel\\kernelbase.py\u001b[0m in \u001b[0;36m_input_request\u001b[1;34m(self, prompt, ident, parent, password)\u001b[0m\n\u001b[0;32m    902\u001b[0m             \u001b[1;32mexcept\u001b[0m \u001b[0mKeyboardInterrupt\u001b[0m\u001b[1;33m:\u001b[0m\u001b[1;33m\u001b[0m\u001b[1;33m\u001b[0m\u001b[0m\n\u001b[0;32m    903\u001b[0m                 \u001b[1;31m# re-raise KeyboardInterrupt, to truncate traceback\u001b[0m\u001b[1;33m\u001b[0m\u001b[1;33m\u001b[0m\u001b[1;33m\u001b[0m\u001b[0m\n\u001b[1;32m--> 904\u001b[1;33m                 \u001b[1;32mraise\u001b[0m \u001b[0mKeyboardInterrupt\u001b[0m\u001b[1;33m(\u001b[0m\u001b[1;34m\"Interrupted by user\"\u001b[0m\u001b[1;33m)\u001b[0m \u001b[1;32mfrom\u001b[0m \u001b[1;32mNone\u001b[0m\u001b[1;33m\u001b[0m\u001b[1;33m\u001b[0m\u001b[0m\n\u001b[0m\u001b[0;32m    905\u001b[0m             \u001b[1;32mexcept\u001b[0m \u001b[0mException\u001b[0m \u001b[1;32mas\u001b[0m \u001b[0me\u001b[0m\u001b[1;33m:\u001b[0m\u001b[1;33m\u001b[0m\u001b[1;33m\u001b[0m\u001b[0m\n\u001b[0;32m    906\u001b[0m                 \u001b[0mself\u001b[0m\u001b[1;33m.\u001b[0m\u001b[0mlog\u001b[0m\u001b[1;33m.\u001b[0m\u001b[0mwarning\u001b[0m\u001b[1;33m(\u001b[0m\u001b[1;34m\"Invalid Message:\"\u001b[0m\u001b[1;33m,\u001b[0m \u001b[0mexc_info\u001b[0m\u001b[1;33m=\u001b[0m\u001b[1;32mTrue\u001b[0m\u001b[1;33m)\u001b[0m\u001b[1;33m\u001b[0m\u001b[1;33m\u001b[0m\u001b[0m\n",
      "\u001b[1;31mKeyboardInterrupt\u001b[0m: Interrupted by user"
     ]
    }
   ],
   "source": [
    "n, d, p = map(int, input().split())\n",
    "f_list = list(map(int, input().split()))\n",
    "ans = 0\n",
    "f_list = sorted(f_list, reverse=True)\n",
    "while True:\n",
    "    if len(f_list) > d:\n",
    "        if sum(f_list[:d]) > p:\n",
    "            ans += p\n",
    "            del f_list[:d]\n",
    "        else:\n",
    "            ans += sum(f_list)\n",
    "            break\n",
    "    else:\n",
    "        if sum(f_list) > p:\n",
    "            ans += p\n",
    "            break\n",
    "        else:\n",
    "            ans += sum(f_list)\n",
    "            break\n",
    "print(ans)\n"
   ]
  },
  {
   "cell_type": "code",
   "execution_count": 23,
   "metadata": {
    "scrolled": true
   },
   "outputs": [
    {
     "name": "stdout",
     "output_type": "stream",
     "text": [
      "8 3 1000000000\n",
      "1000000000 1000000000 1000000000 1000000000 1000000000 1000000000 1000000000 1000000000\n",
      "-------------\n",
      "0\n",
      "[1000000000, 1000000000, 1000000000, 1000000000, 1000000000, 1000000000, 1000000000, 1000000000]\n",
      "0\n",
      "0\n",
      "a\n",
      "-------------\n",
      "0\n",
      "[1000000000, 1000000000, 1000000000, 1000000000, 1000000000, 1000000000, 1000000000]\n",
      "1000000000\n",
      "1\n",
      "a\n",
      "-------------\n",
      "0\n",
      "[1000000000, 1000000000, 1000000000, 1000000000, 1000000000, 1000000000]\n",
      "2000000000\n",
      "2\n",
      "a\n",
      "-------------\n",
      "0\n",
      "[1000000000, 1000000000, 1000000000, 1000000000, 1000000000]\n",
      "3000000000\n",
      "3\n",
      "a\n",
      "-------------\n",
      "1000000000\n",
      "[1000000000, 1000000000, 1000000000, 1000000000, 1000000000]\n",
      "0\n",
      "0\n",
      "a\n",
      "-------------\n",
      "1000000000\n",
      "[1000000000, 1000000000, 1000000000, 1000000000]\n",
      "1000000000\n",
      "1\n",
      "a\n",
      "-------------\n",
      "1000000000\n",
      "[1000000000, 1000000000, 1000000000]\n",
      "2000000000\n",
      "2\n",
      "a\n",
      "-------------\n",
      "1000000000\n",
      "[1000000000, 1000000000]\n",
      "3000000000\n",
      "3\n",
      "b\n",
      "2000000000\n"
     ]
    }
   ],
   "source": [
    "n, d, p = map(int, input().split())\n",
    "f_list = list(map(int, input().split()))\n",
    "ans = 0\n",
    "f_list = sorted(f_list, reverse=True)\n",
    "point = 0\n",
    "check = 0\n",
    "while True:\n",
    "#     print(\"-------------\")\n",
    "#     print(ans)\n",
    "#     print(f_list)\n",
    "#     print(point)\n",
    "#     print(check)\n",
    "    if len(f_list) >= d:\n",
    "        #print(\"a\")\n",
    "        if d > check:\n",
    "            point += f_list[0]\n",
    "            check += 1\n",
    "            f_list = f_list[1:]\n",
    "        else:\n",
    "            if point > p:\n",
    "                ans += p\n",
    "                point = 0\n",
    "                check = 0\n",
    "            else:\n",
    "                ans += point\n",
    "                point = 0\n",
    "                check = 0\n",
    "    else:\n",
    "        if check == d:\n",
    "            if point > p:\n",
    "                ans += p\n",
    "                point = 0\n",
    "                check = 0\n",
    "            else:\n",
    "                ans += point\n",
    "                point = 0\n",
    "                check = 0\n",
    "            \n",
    "        if sum(f_list) > p:\n",
    "            ans += p\n",
    "            break\n",
    "        else:\n",
    "            ans += sum(f_list) + point\n",
    "            break\n",
    "        \n",
    "print(ans)"
   ]
  },
  {
   "cell_type": "code",
   "execution_count": 3,
   "metadata": {},
   "outputs": [
    {
     "name": "stdout",
     "output_type": "stream",
     "text": [
      "5 2 10\n",
      "7 1 6 3 6\n",
      "[0, 1, 4, 10, 16, 23]\n",
      "20\n"
     ]
    }
   ],
   "source": [
    "n, d, p = map(int, input().split())\n",
    "f_list = list(map(int, input().split()))\n",
    "f_list = sorted(f_list)\n",
    "sum_list = [0 for _ in range(n+1)]\n",
    "for i in range(n):\n",
    "    sum_list[i+1] = sum_list[i] + f_list[i]\n",
    "print(sum_list)\n",
    "t = 10000000000\n",
    "ans = 0\n",
    "while True:\n",
    "    r = max(0,n-ans*d)\n",
    "    now = sum_list[r] + p*ans\n",
    "    t = min(t, now)\n",
    "    ans += 1\n",
    "    if r == 0:\n",
    "        break\n",
    "print(t)\n",
    "# for ans in range(n+1):\n",
    "#     if ans > n//2:\n",
    "#         print(sum_list[-1])\n",
    "#         break\n",
    "#     else:\n",
    "#         print(d, ans)\n",
    "#         check = sum_list[-(d*ans)-1] + ans*p\n",
    "#         if t > check:\n",
    "#             t = check\n",
    "#         else:\n",
    "#             print(t)\n",
    "#             break"
   ]
  },
  {
   "cell_type": "code",
   "execution_count": 5,
   "metadata": {},
   "outputs": [
    {
     "name": "stdout",
     "output_type": "stream",
     "text": [
      "5 2 10\n",
      "7 1 3 6 6\n",
      "[1, 4, 10, 16, 23]\n",
      "0\n",
      "1\n",
      "2\n",
      "20\n"
     ]
    }
   ],
   "source": [
    "n, d, p = map(int, input().split())\n",
    "f = list(map(int, input().split()))\n",
    "\n",
    "f.sort()\n",
    "s = [0] * n\n",
    "s[0] = f[0]\n",
    "\n",
    "for i in range(n - 1):\n",
    "    s[i + 1] = s[i] + f[i + 1]\n",
    "print(s)\n",
    "\n",
    "k = (n + d - 1) // d\n",
    "ans = p * k\n",
    "\n",
    "for i in range(k):\n",
    "    print(i)\n",
    "    ans = min(ans, s[n - 1 - (i * d)] + (p * i))\n",
    "\n",
    "print(ans)\n",
    "\n",
    "\n",
    "\n",
    "\n",
    "\n",
    "\n"
   ]
  },
  {
   "cell_type": "code",
   "execution_count": null,
   "metadata": {},
   "outputs": [],
   "source": []
  }
 ],
 "metadata": {
  "kernelspec": {
   "display_name": "Python 3",
   "language": "python",
   "name": "python3"
  },
  "language_info": {
   "codemirror_mode": {
    "name": "ipython",
    "version": 3
   },
   "file_extension": ".py",
   "mimetype": "text/x-python",
   "name": "python",
   "nbconvert_exporter": "python",
   "pygments_lexer": "ipython3",
   "version": "3.8.3"
  }
 },
 "nbformat": 4,
 "nbformat_minor": 4
}
