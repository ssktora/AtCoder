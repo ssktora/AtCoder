{
 "cells": [
  {
   "cell_type": "code",
   "execution_count": null,
   "metadata": {},
   "outputs": [],
   "source": [
    "a, b = map(int, input().split())\n",
    "if a == 1:\n",
    "    if b == 2 or b == 3:\n",
    "        print(\"Yes\")\n",
    "    else:\n",
    "        print(\"No\")\n",
    "elif a == 2:\n",
    "    if b == 4 or b == 5:\n",
    "        print(\"Yes\")\n",
    "    else:\n",
    "        print(\"No\")\n",
    "elif a == 3:\n",
    "    if b == 6 or b == 7:\n",
    "        print(\"Yes\")\n",
    "    else:\n",
    "        print(\"No\")\n",
    "elif a == 4:\n",
    "    if b == 8 or b == 9:\n",
    "        print(\"Yes\")\n",
    "    else:\n",
    "        print(\"No\")\n",
    "elif a == 5:\n",
    "    if b == 10 or b == 11:\n",
    "        print(\"Yes\")\n",
    "    else:\n",
    "        print(\"No\")\n",
    "elif a == 6:\n",
    "    if b == 12 or b == 13:\n",
    "        print(\"Yes\")\n",
    "    else:\n",
    "        print(\"No\")\n",
    "elif a == 7:\n",
    "    if b == 14 or b == 15:\n",
    "        print(\"Yes\")\n",
    "    else:\n",
    "        print(\"No\")\n",
    "else:\n",
    "    print(\"No\")"
   ]
  },
  {
   "cell_type": "code",
   "execution_count": 24,
   "metadata": {},
   "outputs": [
    {
     "name": "stdout",
     "output_type": "stream",
     "text": [
      "6\n",
      "abcbac\n",
      "5\n",
      "1\n",
      "2\n",
      "0\n",
      "1\n"
     ]
    }
   ],
   "source": [
    "n = int(input())\n",
    "S = list(input())\n",
    "for i in range(1,n):\n",
    "    count = 0\n",
    "    for j in range(n-i):\n",
    "        if j == 0:\n",
    "            p = 0\n",
    "            q = i\n",
    "            if S[p] == S[q]:\n",
    "                #print(S[p],S[q])\n",
    "                #print(\"a\")\n",
    "                print(count)\n",
    "                break\n",
    "            elif i == n-1:\n",
    "                print(1)\n",
    "                break\n",
    "            else:\n",
    "                #print(S[p],S[q])\n",
    "                #print(\"b\")\n",
    "                count += 1\n",
    "                p += 1\n",
    "                q += 1\n",
    "        elif j == n-i-1:\n",
    "            #print(\"c\")\n",
    "            if i == 1:\n",
    "                print(n-i)\n",
    "                break\n",
    "            else:\n",
    "                print(n-i-1)\n",
    "                break\n",
    "        else:\n",
    "            #print(S[p],S[q])\n",
    "            if S[p] == S[q]:\n",
    "                #print(\"d\")\n",
    "                print(count)\n",
    "                break\n",
    "            else:\n",
    "                #print(\"e\")\n",
    "                count += 1\n",
    "                p += 1\n",
    "                q += 1\n",
    "            \n",
    "                \n",
    "        \n"
   ]
  },
  {
   "cell_type": "code",
   "execution_count": 27,
   "metadata": {},
   "outputs": [
    {
     "name": "stdout",
     "output_type": "stream",
     "text": [
      "6\n",
      "abcbac\n",
      "1 0\n",
      "1 1\n",
      "1 2\n",
      "1 3\n",
      "1 4\n",
      "1 5\n",
      "5\n",
      "2 0\n",
      "2 1\n",
      "1\n",
      "3 0\n",
      "3 1\n",
      "3 2\n",
      "2\n",
      "4 0\n",
      "0\n",
      "5 0\n",
      "5 1\n",
      "1\n"
     ]
    }
   ],
   "source": [
    "n = int(input())\n",
    "S = list(input())\n",
    "for i in range(1,n):\n",
    "    for l in range(n):\n",
    "        if i+l < n:\n",
    "            if S[l] == S[l+i]:\n",
    "                print(l)\n",
    "                break\n",
    "        else:\n",
    "            print(l)\n",
    "            break"
   ]
  },
  {
   "cell_type": "code",
   "execution_count": null,
   "metadata": {},
   "outputs": [],
   "source": []
  }
 ],
 "metadata": {
  "kernelspec": {
   "display_name": "Python 3",
   "language": "python",
   "name": "python3"
  },
  "language_info": {
   "codemirror_mode": {
    "name": "ipython",
    "version": 3
   },
   "file_extension": ".py",
   "mimetype": "text/x-python",
   "name": "python",
   "nbconvert_exporter": "python",
   "pygments_lexer": "ipython3",
   "version": "3.8.3"
  }
 },
 "nbformat": 4,
 "nbformat_minor": 4
}
