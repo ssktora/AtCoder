{
 "cells": [
  {
   "cell_type": "code",
   "execution_count": null,
   "metadata": {},
   "outputs": [],
   "source": [
    "n, m = map(int, input().split())\n",
    "arr = list(map(int, input().split()))\n",
    "def calculate_cumulative_sum(arr):\n",
    "    cumulative_sum = []\n",
    "    total_sum = 0\n",
    "\n",
    "    for element in arr:\n",
    "        total_sum += element\n",
    "        cumulative_sum.append(total_sum)\n",
    "\n",
    "    return cumulative_sum\n",
    "\n",
    "# def binary_search(arr, target):\n",
    "#     left = 0\n",
    "#     right = len(arr) - 1\n",
    "\n",
    "#     while left <= right:\n",
    "#         mid = (left + right) // 2\n",
    "\n",
    "#         # 中央の要素がターゲットと一致した場合\n",
    "#         if arr[mid] == target:\n",
    "#             return mid\n",
    "#         # ターゲットが中央の要素より小さい場合\n",
    "#         elif arr[mid] > target:\n",
    "#             right = mid - 1\n",
    "#         # ターゲットが中央の要素より大きい場合\n",
    "#         else:\n",
    "#             left = mid + 1\n",
    "\n",
    "#     return -1  # 見つからなかった場合\n",
    "\n",
    "arr_sum = [0]\n",
    "p = 0\n",
    "for i in range(1, n+1):\n",
    "    if i in arr:\n",
    "        p += 1\n",
    "        arr_sum.append(p)\n",
    "    else:\n",
    "        arr_sum.append(p)\n",
    "        \n",
    "for i in range(1, n+1):\n",
    "    ok, ng = n, i-1\n",
    "    \n",
    "    while abs(ok-ng) > 1:\n",
    "        mid = (ok+ng) // 2\n",
    "        if arr_sum[mid+1] - arr_sum[i] >= 1:\n",
    "            ok = mid\n",
    "        else:\n",
    "            ng = mid\n",
    "    print(ok-i)\n",
    "    \n",
    "            \n",
    "        \n",
    "    "
   ]
  },
  {
   "cell_type": "code",
   "execution_count": 1,
   "metadata": {},
   "outputs": [
    {
     "name": "stdout",
     "output_type": "stream",
     "text": [
      "1000000\n",
      "1000\n"
     ]
    }
   ],
   "source": [
    "N = int(input())\n",
    "ans = 0\n",
    "i = 1\n",
    "while int(str(i)+str(i)) <= N:\n",
    "    ans += 1\n",
    "    i += 1\n",
    "print(ans-1)\n",
    "    \n",
    " \n",
    "    "
   ]
  },
  {
   "cell_type": "code",
   "execution_count": 13,
   "metadata": {},
   "outputs": [
    {
     "name": "stdout",
     "output_type": "stream",
     "text": [
      "1 3\n",
      "8\n",
      "4 6 9\n",
      "1\n"
     ]
    }
   ],
   "source": [
    "n, m = map(int, input().split())\n",
    "A = list(map(int, input().split()))\n",
    "B = list(map(int, input().split()))\n",
    "A = sorted(A)\n",
    "B = sorted(B)\n",
    "ans = 10000000000000\n",
    "def binary_search_lower(B, m, k):\n",
    "    # 探索範囲\n",
    "    left = 0\n",
    "    right = m\n",
    "    \n",
    "    # 探索範囲を狭めていく\n",
    "    while left < right:\n",
    "        # 探索範囲の中央\n",
    "        mid = (left + right)//2\n",
    "        \n",
    "        if B[mid] < k:\n",
    "            # a[0] ~ a[mid] は k 未満なので調べる必要が無い\n",
    "            left = mid+1\n",
    "        else:\n",
    "            right = mid\n",
    "    return m - right\n",
    "for a in A:\n",
    "    i = binary_search_lower(B, m, a)\n",
    "    if i == 0:\n",
    "        p = a - B[-1]\n",
    "        if ans > p:\n",
    "            ans = p\n",
    "    elif i == m:\n",
    "        p = B[0] - a\n",
    "        if ans > p:\n",
    "            ans = p\n",
    "    else:\n",
    "        p = B[-i] - a\n",
    "        q = a - B[-(i+1)]\n",
    "        if p <= q:\n",
    "            if ans > p:\n",
    "                ans = p\n",
    "        else:\n",
    "            if ans > q:\n",
    "                ans = q\n",
    "print(ans)"
   ]
  },
  {
   "cell_type": "code",
   "execution_count": null,
   "metadata": {},
   "outputs": [],
   "source": [
    "n = int(input())\n",
    "left = 0\n",
    "right = 2*(10**9)\n",
    "while right - left > 1:\n",
    "    mid = (left+right)//2\n",
    "    if mid+(mid+1)/2 <= n+1:\n",
    "        left = mid\n",
    "    else:\n",
    "        right = mid\n",
    "print(1+(n-left))"
   ]
  }
 ],
 "metadata": {
  "kernelspec": {
   "display_name": "Python 3",
   "language": "python",
   "name": "python3"
  },
  "language_info": {
   "codemirror_mode": {
    "name": "ipython",
    "version": 3
   },
   "file_extension": ".py",
   "mimetype": "text/x-python",
   "name": "python",
   "nbconvert_exporter": "python",
   "pygments_lexer": "ipython3",
   "version": "3.8.3"
  }
 },
 "nbformat": 4,
 "nbformat_minor": 4
}
