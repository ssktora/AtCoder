{
 "cells": [
  {
   "cell_type": "code",
   "execution_count": 2,
   "metadata": {},
   "outputs": [
    {
     "name": "stdout",
     "output_type": "stream",
     "text": [
      "-1 -1\n",
      "-1 2\n",
      "3 2\n"
     ]
    },
    {
     "ename": "TypeError",
     "evalue": "cannot unpack non-iterable int object",
     "output_type": "error",
     "traceback": [
      "\u001b[1;31m---------------------------------------------------------------------------\u001b[0m",
      "\u001b[1;31mTypeError\u001b[0m                                 Traceback (most recent call last)",
      "\u001b[1;32m<ipython-input-2-cc718c731e17>\u001b[0m in \u001b[0;36m<module>\u001b[1;34m\u001b[0m\n\u001b[0;32m     10\u001b[0m \u001b[0mylist\u001b[0m \u001b[1;33m=\u001b[0m \u001b[0mcollections\u001b[0m\u001b[1;33m.\u001b[0m\u001b[0mCounter\u001b[0m\u001b[1;33m(\u001b[0m\u001b[0my_list\u001b[0m\u001b[1;33m)\u001b[0m\u001b[1;33m\u001b[0m\u001b[1;33m\u001b[0m\u001b[0m\n\u001b[0;32m     11\u001b[0m \u001b[0mans\u001b[0m \u001b[1;33m=\u001b[0m \u001b[1;33m[\u001b[0m\u001b[1;33m]\u001b[0m\u001b[1;33m\u001b[0m\u001b[1;33m\u001b[0m\u001b[0m\n\u001b[1;32m---> 12\u001b[1;33m \u001b[1;32mfor\u001b[0m \u001b[0mk\u001b[0m\u001b[1;33m,\u001b[0m \u001b[0mv\u001b[0m \u001b[1;32min\u001b[0m \u001b[0mxlist\u001b[0m\u001b[1;33m:\u001b[0m\u001b[1;33m\u001b[0m\u001b[1;33m\u001b[0m\u001b[0m\n\u001b[0m\u001b[0;32m     13\u001b[0m     \u001b[1;32mif\u001b[0m \u001b[0mv\u001b[0m \u001b[1;33m==\u001b[0m \u001b[1;36m1\u001b[0m\u001b[1;33m:\u001b[0m\u001b[1;33m\u001b[0m\u001b[1;33m\u001b[0m\u001b[0m\n\u001b[0;32m     14\u001b[0m         \u001b[0mans\u001b[0m\u001b[1;33m.\u001b[0m\u001b[0mappend\u001b[0m\u001b[1;33m(\u001b[0m\u001b[0mstr\u001b[0m\u001b[1;33m(\u001b[0m\u001b[0mk\u001b[0m\u001b[1;33m)\u001b[0m\u001b[1;33m)\u001b[0m\u001b[1;33m\u001b[0m\u001b[1;33m\u001b[0m\u001b[0m\n",
      "\u001b[1;31mTypeError\u001b[0m: cannot unpack non-iterable int object"
     ]
    }
   ],
   "source": [
    "x_list = []\n",
    "y_list = []\n",
    "for i in range(3):\n",
    "    x, y = map(int, input().split())\n",
    "    x_list.append(x)\n",
    "    y_list.append(y)\n",
    "\n",
    "import collections  #  collectionsライブラリのインポートが必須です。\n",
    "xlist = collections.Counter(x_list)\n",
    "ylist = collections.Counter(y_list)\n",
    "ans = []\n",
    "for k, v in xlist.items():\n",
    "    if v == 1:\n",
    "        ans.append(str(k))\n",
    "for k, v in ylist.items():\n",
    "    if v == 1:\n",
    "        ans.append(str(k))\n",
    "        \n",
    "answer = \" \".join(ans)\n",
    "print(answer)"
   ]
  },
  {
   "cell_type": "code",
   "execution_count": 6,
   "metadata": {},
   "outputs": [
    {
     "name": "stdout",
     "output_type": "stream",
     "text": [
      "3 4\n",
      "0.600000000000000 0.800000000000000\n"
     ]
    }
   ],
   "source": [
    "a, b = map(int, input().split())\n",
    "if b != 0:\n",
    "    import sympy\n",
    "\n",
    "    x = sympy.Symbol('x')\n",
    "    y = sympy.Symbol('y')\n",
    "\n",
    "    equation1 = x**2 + y**2 - 1\n",
    "    equation2 = x/y - a/b\n",
    "\n",
    "    ans = sympy.solve([equation1, equation2])\n",
    "    for d in ans:\n",
    "        if d[x] > 0 and d[y] > 0:\n",
    "            print(d[x], d[y])\n",
    "            break\n",
    "else:\n",
    "    print(a, b)"
   ]
  },
  {
   "cell_type": "code",
   "execution_count": 8,
   "metadata": {},
   "outputs": [
    {
     "name": "stdout",
     "output_type": "stream",
     "text": [
      "3 4\n",
      "0.6 0.8\n"
     ]
    }
   ],
   "source": [
    "a, b = map(int, input().split())\n",
    "r2 = a**2 + b**2\n",
    "r = r2 ** (1/2)\n",
    "x = a/r\n",
    "y = b/r\n",
    "print(x, y)"
   ]
  },
  {
   "cell_type": "code",
   "execution_count": 22,
   "metadata": {},
   "outputs": [
    {
     "name": "stdout",
     "output_type": "stream",
     "text": [
      "20 815 60\n",
      "2066 3193 2325 4030 3725 1669 1969 763 1653 159 5311 5341 4671 2374 4513 285 810 742 2981 202\n",
      "num 34\n",
      "26\n",
      "num 53\n",
      "13\n",
      "num 38\n",
      "45\n",
      "num 67\n",
      "10\n",
      "num 62\n",
      "5\n",
      "num 27\n",
      "49\n",
      "num 32\n",
      "49\n",
      "num 12\n",
      "43\n",
      "num 27\n",
      "33\n",
      "num 2\n",
      "39\n",
      "num 88\n",
      "31\n",
      "num 89\n",
      "1\n",
      "num 77\n",
      "51\n",
      "num 39\n",
      "34\n",
      "num 75\n",
      "13\n",
      "num 4\n",
      "45\n",
      "num 13\n",
      "30\n",
      "num 12\n",
      "22\n",
      "num 49\n",
      "41\n",
      "t\n",
      "0\n",
      "580\n"
     ]
    }
   ],
   "source": [
    "n, k, x = map(int, input().split())\n",
    "a_list = [*map(int, input().split())]\n",
    "\n",
    "sum_list = []\n",
    "r = 0\n",
    "count = 0\n",
    "for i in range(len(a_list)):\n",
    "    if a_list[i] >= x:\n",
    "        if count < k and i != len(a_list)-1:\n",
    "            num = a_list[i]//x\n",
    "            print(\"num\", num)\n",
    "            count += num\n",
    "            d = a_list[i] - num*x\n",
    "        elif count < k and i == len(a_list)-1:\n",
    "            print(\"t\")\n",
    "            num = k - count\n",
    "            d = max(0,a_list[i] - num*x)\n",
    "        print(d)\n",
    "        r += d\n",
    "        sum_list.append(r)\n",
    "    else:\n",
    "        print(d)\n",
    "        r += a_list[i]\n",
    "        sum_list.append(r)\n",
    "    \n",
    "print(sum_list[-1])"
   ]
  },
  {
   "cell_type": "code",
   "execution_count": 34,
   "metadata": {},
   "outputs": [
    {
     "name": "stdout",
     "output_type": "stream",
     "text": [
      "5 4 7\n",
      "8 3 10 5 13\n",
      "[6, 5, 3, 3, 1]\n",
      "[1, 0, 1, 0, 1]\n",
      "12\n"
     ]
    }
   ],
   "source": [
    "n, k, x = map(int, input().split())\n",
    "a_list = [*map(int, input().split())]\n",
    "\n",
    "new_list = []\n",
    "num_list = []\n",
    "\n",
    "for i in range(len(a_list)):\n",
    "    if a_list[i] >= x:\n",
    "        num = a_list[i]//x\n",
    "        num_list.append(num)\n",
    "        p = a_list[i]%x\n",
    "        new_list.append(p)\n",
    "      \n",
    "    else:\n",
    "        num_list.append(0)\n",
    "        new_list.append(a_list[i])\n",
    "\n",
    "sum_a = sum(a_list)\n",
    "sum_num = sum(num_list)\n",
    "new_list.sort(reverse = True)\n",
    "\n",
    "\n",
    "# print(new_list)\n",
    "# print(num_list)\n",
    "# print(sum_a)\n",
    "# print(sum_num)\n",
    "\n",
    "if sum_num > k:\n",
    "    print(sum_a-(sum_num*x))\n",
    "else:\n",
    "    ans = 0\n",
    "    r = k - sum_num\n",
    "    if r <= len(new_list):\n",
    "        for i in range(r):\n",
    "            ans += new_list[i]\n",
    "        print(sum_a-(sum_num*x)-ans)\n",
    "    else:\n",
    "        print(0)\n",
    "\n",
    "    \n",
    "    "
   ]
  },
  {
   "cell_type": "code",
   "execution_count": 33,
   "metadata": {},
   "outputs": [
    {
     "name": "stdout",
     "output_type": "stream",
     "text": [
      "5 4 7\n",
      "8 3 10 5 13\n",
      "[1, 3, 3, 5, 6]\n",
      "12\n"
     ]
    }
   ],
   "source": [
    "n, k, x = map(int, input().split())\n",
    "a = list(map(int, input().split()))\n",
    "\n",
    "ans = sum(a)\n",
    "\n",
    "m = sum(ai // x for ai in a)\n",
    "m = min(m, k)\n",
    "ans -= m * x\n",
    "k -= m\n",
    "\n",
    "a = [ai % x for ai in a]\n",
    "a.sort()\n",
    "\n",
    "for ai in a[::-1]:\n",
    "    if k == 0:\n",
    "        break\n",
    "    ans -= ai\n",
    "    k -= 1\n",
    "\n",
    "print(ans)"
   ]
  },
  {
   "cell_type": "code",
   "execution_count": 39,
   "metadata": {},
   "outputs": [
    {
     "name": "stdout",
     "output_type": "stream",
     "text": [
      "5 4 7\n",
      "8 3 10 5 13\n",
      "[6, 5, 3, 3, 1]\n",
      "12\n"
     ]
    }
   ],
   "source": [
    "n, k, x = map(int, input().split())\n",
    "a = [*map(int, input().split())]\n",
    "ans = sum(a)\n",
    "m = sum(ai // x for ai in a)\n",
    "m = min(m, k)\n",
    "k -= m\n",
    "ans -= m*x\n",
    "\n",
    "a = [ai % x for ai in a]\n",
    "a.sort(reverse=True)\n",
    "\n",
    "\n",
    "for ai in a:\n",
    "    if k == 0:\n",
    "        break\n",
    "    ans -= ai\n",
    "    k -= 1\n",
    "print(ans)"
   ]
  },
  {
   "cell_type": "code",
   "execution_count": null,
   "metadata": {},
   "outputs": [],
   "source": []
  }
 ],
 "metadata": {
  "kernelspec": {
   "display_name": "Python 3",
   "language": "python",
   "name": "python3"
  },
  "language_info": {
   "codemirror_mode": {
    "name": "ipython",
    "version": 3
   },
   "file_extension": ".py",
   "mimetype": "text/x-python",
   "name": "python",
   "nbconvert_exporter": "python",
   "pygments_lexer": "ipython3",
   "version": "3.8.3"
  }
 },
 "nbformat": 4,
 "nbformat_minor": 4
}
