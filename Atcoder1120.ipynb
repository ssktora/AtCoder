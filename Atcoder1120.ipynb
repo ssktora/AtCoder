{
 "cells": [
  {
   "cell_type": "code",
   "execution_count": null,
   "metadata": {},
   "outputs": [],
   "source": [
    "N = int(input())\n",
    "H = list(map(int, input().split()))\n",
    "present = H[-1]\n",
    "check = True\n",
    "for i in range(len(H)-1, 0, -1):\n",
    "    past = H[i]\n",
    "    if past <= present:\n",
    "        check = True\n",
    "        present = past\n",
    "    elif past == present+1 and check:\n",
    "        check = False\n",
    "        present = past\n",
    "    else:\n",
    "        print(\"No\")\n",
    "        exit()\n",
    "print(\"Yes\")\n",
    "        \n",
    "    \n",
    "    \n",
    "    "
   ]
  },
  {
   "cell_type": "code",
   "execution_count": null,
   "metadata": {},
   "outputs": [],
   "source": [
    "N = int(input())\n",
    "H = list(map(int, input().split()))\n",
    "for i in range(len(H)-1, 0, -1):\n",
    "    if H[i] > H[i+1]+1:\n",
    "        print(\"No\")\n",
    "        exit()\n",
    "    elif H[i] == H[i+1]+1:\n",
    "        H[i] -= 1\n",
    "        \n",
    "print(\"Yes\")"
   ]
  },
  {
   "cell_type": "code",
   "execution_count": 8,
   "metadata": {},
   "outputs": [
    {
     "name": "stdout",
     "output_type": "stream",
     "text": [
      "5 3\n",
      "5\n",
      "7\n",
      "5\n",
      "7\n",
      "7\n",
      "[5, 5, 7, 7, 7]\n",
      "7\n",
      "5\n",
      "7\n",
      "5\n",
      "7\n",
      "7\n",
      "0\n"
     ]
    }
   ],
   "source": [
    "N, K = map(int, input().split())\n",
    "H = []\n",
    "for i in range(N):\n",
    "    h = int(input())\n",
    "    H.append(h)\n",
    "    \n",
    "H = sorted(H)\n",
    "ans = 999999999999\n",
    "for i in range(len(H)-K+1):\n",
    "    p = H[i+K-1]-H[i]\n",
    "    if p < ans:\n",
    "        ans = p\n",
    "print(ans)"
   ]
  },
  {
   "cell_type": "code",
   "execution_count": 9,
   "metadata": {},
   "outputs": [
    {
     "name": "stdout",
     "output_type": "stream",
     "text": [
      "4\n",
      "5 3 7 9\n",
      "[9, 7, 5, 3]\n"
     ]
    }
   ],
   "source": [
    "N = int(input())\n",
    "A = list(map(int, input().split()))\n",
    "ans = 0\n",
    "for l in range(len(A)):\n",
    "    x = A[l]\n",
    "    for r in range(l,N):\n",
    "        x = min(x,A[r])\n",
    "        ans = max(ans, x*(r-l+1))\n",
    "        \n",
    "print(ans)\n",
    "        \n",
    "        \n",
    "    "
   ]
  },
  {
   "cell_type": "code",
   "execution_count": null,
   "metadata": {},
   "outputs": [],
   "source": []
  }
 ],
 "metadata": {
  "kernelspec": {
   "display_name": "Python 3",
   "language": "python",
   "name": "python3"
  },
  "language_info": {
   "codemirror_mode": {
    "name": "ipython",
    "version": 3
   },
   "file_extension": ".py",
   "mimetype": "text/x-python",
   "name": "python",
   "nbconvert_exporter": "python",
   "pygments_lexer": "ipython3",
   "version": "3.8.3"
  }
 },
 "nbformat": 4,
 "nbformat_minor": 4
}
