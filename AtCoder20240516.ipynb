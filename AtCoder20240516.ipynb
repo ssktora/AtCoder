{
 "cells": [
  {
   "cell_type": "code",
   "execution_count": null,
   "metadata": {},
   "outputs": [],
   "source": [
    "S = input()\n",
    "pre = S[0]\n",
    "frag = False\n",
    "for i in range(1,len(S)):\n",
    "    if pre == S[i]:\n",
    "        frag = True\n",
    "        print(\"Bad\")\n",
    "        break\n",
    "    else:\n",
    "        pre = S[i]\n",
    "\n",
    "if frag:\n",
    "    print(\"Good\")"
   ]
  },
  {
   "cell_type": "code",
   "execution_count": 1,
   "metadata": {},
   "outputs": [
    {
     "name": "stdout",
     "output_type": "stream",
     "text": [
      "5 2\n",
      "[2, 3, 4, 5, 6]\n"
     ]
    }
   ],
   "source": [
    "N, L = map(int, input().split())\n",
    "apple = [L+i-1 for i in range(1,N+1)]\n",
    "ans = 1000000000000000000\n",
    "for i in range(len(apple)):\n",
    "    p = abs(apple[i])\n",
    "    ans = min(p,ans)\n",
    "print(sum(ans)-p)\n",
    "    "
   ]
  },
  {
   "cell_type": "code",
   "execution_count": null,
   "metadata": {},
   "outputs": [],
   "source": [
    "A, B, C, D = map(int, input().split())\n",
    "import math\n",
    "def lcm(x, y):\n",
    "    return abs(x * y) // math.gcd(x, y)\n",
    "p = lcm(C,D)\n",
    "def f(x):\n",
    "    count = x - x//C - x//D + x//p\n",
    "    return count\n",
    "\n",
    "print(f(B)-f(A-1))"
   ]
  },
  {
   "cell_type": "code",
   "execution_count": null,
   "metadata": {},
   "outputs": [],
   "source": [
    "N = int(input())\n",
    "work_list = []\n",
    "for _ in range(N):\n",
    "    A, B = map(int, input().split())\n",
    "    work_list.append((A,B))\n",
    "time = 0\n",
    "# タプルの2つ目の要素を基準にソート\n",
    "work_list = sorted(work_list, key=lambda x: x[1])\n",
    "frag = True\n",
    "for work in work_list:\n",
    "    a = work[0]\n",
    "    b = work[1]\n",
    "    time += a\n",
    "    if time > b:\n",
    "        frag = False\n",
    "        print(\"No\")\n",
    "        break\n",
    "if frag:\n",
    "    print(\"Yes\")"
   ]
  }
 ],
 "metadata": {
  "kernelspec": {
   "display_name": "Python 3",
   "language": "python",
   "name": "python3"
  },
  "language_info": {
   "codemirror_mode": {
    "name": "ipython",
    "version": 3
   },
   "file_extension": ".py",
   "mimetype": "text/x-python",
   "name": "python",
   "nbconvert_exporter": "python",
   "pygments_lexer": "ipython3",
   "version": "3.8.3"
  }
 },
 "nbformat": 4,
 "nbformat_minor": 4
}
