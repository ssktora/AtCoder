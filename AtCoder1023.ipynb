{
 "cells": [
  {
   "cell_type": "code",
   "execution_count": null,
   "metadata": {},
   "outputs": [],
   "source": [
    "n, x = map(int, input().split())\n",
    "A = [0]+list(map(int, input().split()))\n",
    "B = [False] * (n+1)\n",
    "\n",
    "i = x\n",
    "while not B[i]:\n",
    "    B[i] = True\n",
    "    i = A[i]\n",
    "    \n",
    "ans = sum(B)\n",
    "print(ans)\n"
   ]
  },
  {
   "cell_type": "code",
   "execution_count": 1,
   "metadata": {},
   "outputs": [
    {
     "name": "stdout",
     "output_type": "stream",
     "text": [
      "3 4\n",
      "REY\n",
      "JRU\n",
      "HYE\n",
      "[[False, False, False, False], [False, False, False, False], [False, False, False, False]]\n"
     ]
    }
   ],
   "source": [
    "H, W = map(int, input().split())\n",
    "G = [list(input()) for _ in range(H)]\n",
    "vis = [[False] * W for _ in range(H)]\n",
    "i, j = 0, 0\n",
    "while True:\n",
    "    if vis[i][j]:\n",
    "        print(-1)\n",
    "        exit()\n",
    "    \n",
    "    vis[i][j] = True\n",
    "    if G[i][j] == \"U\" and i != 0:\n",
    "        i -= 1\n",
    "    elif G[i][j] == \"D\" and i+1 != H:\n",
    "        i += 1\n",
    "    elif G[i][j] == \"L\" and j != 0:\n",
    "        j -= 1\n",
    "    elif G[i][j] == \"R\" and j+1 != W:\n",
    "        j += 1\n",
    "    else:\n",
    "        break\n",
    "        \n",
    "print(i+1,j+1)"
   ]
  },
  {
   "cell_type": "code",
   "execution_count": null,
   "metadata": {},
   "outputs": [],
   "source": [
    "n, m = map(int, input().split())\n",
    "def dfs(A):\n",
    "    if len(A) == n:\n",
    "        print(*A)\n",
    "        return\n",
    "    if len(A) == 0:\n",
    "        start = 1\n",
    "    else:\n",
    "        start = A[-1] + 1\n",
    "    \n",
    "    for i in range(start, m+1):\n",
    "        dfs(A+[i])\n",
    "        \n",
    "dfs([])\n",
    "    "
   ]
  },
  {
   "cell_type": "code",
   "execution_count": 4,
   "metadata": {},
   "outputs": [
    {
     "name": "stdout",
     "output_type": "stream",
     "text": [
      "4\n",
      "5\n",
      "0 0\n",
      "1 0\n",
      "2 0\n",
      "3 0\n",
      "4 0\n",
      "5 0\n",
      "6 0\n",
      "7 0\n",
      "8 0\n"
     ]
    }
   ],
   "source": [
    "n = int(input())\n",
    "A = list(map(int, input().split()))\n",
    "A = [x-1 for x in A]\n",
    "ans = [0] * (2*n+1)\n",
    "\n",
    "for i, k in enumerate(ans):\n",
    "    if i >= 1:\n",
    "        ans[i] = ans[A[(i-1)//2]]+1\n",
    "\n",
    "for a in ans:\n",
    "    print(a)\n",
    "  "
   ]
  },
  {
   "cell_type": "code",
   "execution_count": null,
   "metadata": {},
   "outputs": [],
   "source": [
    "from collections import defaultdict, deque\n",
    "n = int(input())\n",
    "gragh = defaultdict(list)\n",
    "for _ in range(n):\n",
    "    a, b = map(int, input().split())\n",
    "    gragh[a].append(b)\n",
    "    gragh[b].append(a)\n",
    "    \n",
    "que = deque()\n",
    "que.append(1)\n",
    "S = {1}\n",
    "while que:\n",
    "    v = que.popleft()\n",
    "    for i in gragh[v]:\n",
    "        if i not in S:\n",
    "            que.append(i)\n",
    "            S.add(i)\n",
    "            \n",
    "print(max(S))"
   ]
  }
 ],
 "metadata": {
  "kernelspec": {
   "display_name": "Python 3",
   "language": "python",
   "name": "python3"
  },
  "language_info": {
   "codemirror_mode": {
    "name": "ipython",
    "version": 3
   },
   "file_extension": ".py",
   "mimetype": "text/x-python",
   "name": "python",
   "nbconvert_exporter": "python",
   "pygments_lexer": "ipython3",
   "version": "3.8.3"
  }
 },
 "nbformat": 4,
 "nbformat_minor": 4
}
