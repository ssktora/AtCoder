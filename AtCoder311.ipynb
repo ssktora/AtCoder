{
 "cells": [
  {
   "cell_type": "code",
   "execution_count": 2,
   "metadata": {},
   "outputs": [
    {
     "name": "stdout",
     "output_type": "stream",
     "text": [
      "5\n",
      "ACABB\n",
      "4\n"
     ]
    }
   ],
   "source": [
    "n = int(input())\n",
    "S = input()\n",
    "frag1 = False\n",
    "frag2 = False\n",
    "frag3 = False\n",
    "ans = 0\n",
    "for s in S:\n",
    "    if s == \"A\":\n",
    "        frag1 = True\n",
    "    if s == \"B\":\n",
    "        frag2 = True\n",
    "    if s == \"C\":\n",
    "        frag3 = True\n",
    "    ans += 1\n",
    "    if frag1 and frag2 and frag3:\n",
    "        print(ans)\n",
    "        break\n",
    "    "
   ]
  },
  {
   "cell_type": "code",
   "execution_count": 6,
   "metadata": {},
   "outputs": [
    {
     "name": "stdout",
     "output_type": "stream",
     "text": [
      "5 15\n",
      "oxooooooooooooo\n",
      "{0, 2, 3, 4, 5, 6, 7, 8, 9, 10, 11, 12, 13, 14}\n",
      "oxooxooooooooox\n",
      "{0, 2, 3, 5, 6, 7, 8, 9, 10, 11, 12, 13}\n",
      "oxoooooooooooox\n",
      "{0, 2, 3, 5, 6, 7, 8, 9, 10, 11, 12, 13}\n",
      "oxxxooooooxooox\n",
      "{0, 5, 6, 7, 8, 9, 11, 12, 13}\n",
      "oxooooooooxooox\n",
      "{0, 5, 6, 7, 8, 9, 11, 12, 13}\n",
      "3\n"
     ]
    }
   ],
   "source": [
    "n, d = map(int, input().split())\n",
    "ans = set()\n",
    "for i in range(n):\n",
    "    S = input()\n",
    "    if i == 0:\n",
    "        ans = set()\n",
    "    else:\n",
    "        test = set()\n",
    "    for j in range(len(S)):\n",
    "        if S[j] == \"o\":\n",
    "            if i == 0:\n",
    "                ans.add(j)\n",
    "            else:\n",
    "                test.add(j)\n",
    "    if i != 0:\n",
    "        ans = ans & test\n",
    "    print(ans)\n",
    "\n",
    "ans = list(ans)\n",
    "result = 0\n",
    "count = 0\n",
    "for i in range(len(ans)):\n",
    "    if i == 0:\n",
    "        count += 1\n",
    "    else:\n",
    "        if ans[i] == ans[i-1] + 1:\n",
    "            count += 1\n",
    "        else:\n",
    "            if count > result:\n",
    "                result = count\n",
    "                count = 1\n",
    "            else:\n",
    "                count = 1\n",
    "    if count > result:\n",
    "        result = count\n",
    "print(result)\n",
    "    \n",
    "        \n",
    "        "
   ]
  },
  {
   "cell_type": "code",
   "execution_count": 39,
   "metadata": {
    "scrolled": true
   },
   "outputs": [
    {
     "name": "stdout",
     "output_type": "stream",
     "text": [
      "11\n",
      "2 3 4 5 6 7 8 9 10 6\n",
      "5\n",
      "6 7 8 9 10\n"
     ]
    }
   ],
   "source": [
    "n = int(input())\n",
    "a_list = [*map(int, input().split())]\n",
    "from collections import defaultdict\n",
    "G = defaultdict()\n",
    "for i in range(len(a_list)):\n",
    "    G[i+1] = a_list[i]\n",
    "\n",
    "#print(G)\n",
    "def move(G, p, ans):\n",
    "    #print(ans)\n",
    "    if p not in ans:\n",
    "        ans.append(p)\n",
    "        p = G[p]\n",
    "        return move(G, p, ans)\n",
    "    else:\n",
    "        p_i = ans.index(p)\n",
    "        ans = ans[p_i:]\n",
    "        return ans\n",
    "\n",
    "\n",
    "for i in range(len(a_list)):\n",
    "    ans = []\n",
    "    p = a_list[i]\n",
    "    result = move(G,p,ans)\n",
    "    if len(result) >= 2:\n",
    "        print(len(result))\n",
    "        result1 = []\n",
    "        for d in result:\n",
    "            result1.append(str(d))\n",
    "        result2 = \" \".join(result1)\n",
    "        print(result2)\n",
    "        break\n",
    "        \n",
    "    \n"
   ]
  },
  {
   "cell_type": "code",
   "execution_count": 2,
   "metadata": {},
   "outputs": [
    {
     "name": "stdout",
     "output_type": "stream",
     "text": [
      "7\n",
      "6 7 2 1 3 4 5\n",
      "{0, 3, 5}\n",
      "0\n",
      "3\n",
      "1 6 4\n"
     ]
    }
   ],
   "source": [
    "n = int(input())\n",
    "a = [*map(int, input().split())]\n",
    "\n",
    "li = set()\n",
    "bf = 0\n",
    "while True:\n",
    "#     print(li)\n",
    "#     print(bf)\n",
    "    li.add(bf)\n",
    "    bf = a[bf] - 1\n",
    "    if bf in li:\n",
    "        st = bf\n",
    "        break\n",
    "print(li)\n",
    "print(st)\n",
    " \n",
    "li = set()\n",
    "ans = []\n",
    "bf = st\n",
    "while True:\n",
    "    li.add(bf)\n",
    "    ans.append(bf+1)\n",
    "    bf = a[bf] - 1\n",
    "    if bf in li:\n",
    "        break\n",
    "print(len(ans))\n",
    "print(*ans)\n"
   ]
  },
  {
   "cell_type": "code",
   "execution_count": 3,
   "metadata": {},
   "outputs": [
    {
     "name": "stdout",
     "output_type": "stream",
     "text": [
      "7\n",
      "6 7 2 1 3 4 5\n",
      "3\n",
      "1 6 4\n"
     ]
    }
   ],
   "source": [
    "n = int(input())\n",
    "a = list(map(int, input().split()))\n",
    "\n",
    "li = set()\n",
    "bf = 0\n",
    "while True:\n",
    "    li.add(bf)\n",
    "    bf = a[bf] - 1\n",
    "    if bf in li:\n",
    "        st = bf\n",
    "        break\n",
    "    \n",
    "li = set()\n",
    "ans = []\n",
    "bf = st\n",
    "while True:\n",
    "    li.add(bf)\n",
    "    ans.append(bf+1)\n",
    "    bf = a[bf] - 1\n",
    "    if bf in li:\n",
    "        break\n",
    "print(len(ans))\n",
    "print(*ans)"
   ]
  },
  {
   "cell_type": "code",
   "execution_count": null,
   "metadata": {},
   "outputs": [],
   "source": []
  }
 ],
 "metadata": {
  "kernelspec": {
   "display_name": "Python 3",
   "language": "python",
   "name": "python3"
  },
  "language_info": {
   "codemirror_mode": {
    "name": "ipython",
    "version": 3
   },
   "file_extension": ".py",
   "mimetype": "text/x-python",
   "name": "python",
   "nbconvert_exporter": "python",
   "pygments_lexer": "ipython3",
   "version": "3.8.3"
  }
 },
 "nbformat": 4,
 "nbformat_minor": 4
}
