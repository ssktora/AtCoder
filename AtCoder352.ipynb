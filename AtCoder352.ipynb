{
 "cells": [
  {
   "cell_type": "code",
   "execution_count": 3,
   "metadata": {},
   "outputs": [
    {
     "name": "stdout",
     "output_type": "stream",
     "text": [
      "10 3 2 9\n",
      "{2}\n"
     ]
    }
   ],
   "source": [
    "N, X, Y, Z = map(int, input().split())\n",
    "ans = set()\n",
    "if Y >= X:\n",
    "    for i in range(X,Y+1):\n",
    "        ans.add(i)\n",
    "else:\n",
    "    for i in range(Y,X):\n",
    "        ans.add(i)\n",
    "if Z in ans:\n",
    "    print(\"Yes\")\n",
    "else:\n",
    "    print(\"No\")"
   ]
  },
  {
   "cell_type": "code",
   "execution_count": null,
   "metadata": {},
   "outputs": [],
   "source": [
    "S = input()\n",
    "T = input()\n",
    "ans = []\n",
    "n = 0\n",
    "frag = False\n",
    "for i in range(len(S)):\n",
    "    while True:\n",
    "        if S[i] == T[n]:\n",
    "            ans.append(str(n+1))\n",
    "            n += 1\n",
    "            break\n",
    "        elif n == len(T):\n",
    "            frag = True\n",
    "            break\n",
    "        else:\n",
    "            n += 1\n",
    "    if frag:\n",
    "        break\n",
    "print(\" \".join(ans))\n",
    "    "
   ]
  },
  {
   "cell_type": "code",
   "execution_count": 14,
   "metadata": {},
   "outputs": [
    {
     "name": "stdout",
     "output_type": "stream",
     "text": [
      "4\n",
      "3 6\n",
      "5 2\n",
      "6 3\n",
      "4 8\n",
      "22\n"
     ]
    }
   ],
   "source": [
    "N = int(input())\n",
    "A_dic = {}\n",
    "B_dic = {}\n",
    "for i in range(N):\n",
    "    A, B = map(int, input().split())\n",
    "    A_dic[i] = A\n",
    "    B_dic[i] = B\n",
    "\n",
    "total = sum(A_dic.values())\n",
    "ans = 0\n",
    "for i in range(len(A_dic)):\n",
    "    p = total - A_dic[i]\n",
    "    p += B_dic[i]\n",
    "    ans = max(ans, p)\n",
    "print(ans)"
   ]
  },
  {
   "cell_type": "code",
   "execution_count": 24,
   "metadata": {},
   "outputs": [
    {
     "name": "stdout",
     "output_type": "stream",
     "text": [
      "4 2\n",
      "2 3 1 4\n",
      "[[(0, 2), (1, 3)], [(0, 2), (2, 1)], [(0, 2), (3, 4)], [(1, 3), (2, 1)], [(1, 3), (3, 4)], [(2, 1), (3, 4)]]\n"
     ]
    }
   ],
   "source": [
    "N, K = map(int, input().split())\n",
    "P = list(map(int, input().split()))\n",
    "from itertools import combinations\n",
    "index = []\n",
    "for i in range(N):\n",
    "    index.append((i,P[i]))\n",
    "#comb_list = [list(comb) for comb in combinations(index, K)]\n",
    "comb_set = list(combinations(index, K))\n",
    "\n",
    "comb_list  = []\n",
    "ans = 1000000000000000\n",
    "for comb in comb_set:\n",
    "    #print(comb)\n",
    "    comb = list(comb)\n",
    "    comb_list.append(comb)\n",
    "print(comb_list)\n",
    "\n",
    "for comb in comb_list:\n",
    "    "
   ]
  },
  {
   "cell_type": "code",
   "execution_count": 15,
   "metadata": {},
   "outputs": [
    {
     "name": "stdout",
     "output_type": "stream",
     "text": [
      "[(1, 2, 3), (1, 2, 4), (1, 2, 5), (1, 3, 4), (1, 3, 5), (1, 4, 5), (2, 3, 4), (2, 3, 5), (2, 4, 5), (3, 4, 5)]\n"
     ]
    }
   ],
   "source": [
    "from itertools import combinations\n",
    "\n",
    "# N個の要素を含むリスト\n",
    "elements = [1, 2, 3, 4, 5]\n",
    "\n",
    "# K個の組み合わせをすべて取得してリストに格納\n",
    "K = 3\n",
    "combinations_list = list(combinations(elements, K))\n",
    "\n",
    "# 組み合わせのリストを出力（確認用）\n",
    "print(combinations_list)"
   ]
  },
  {
   "cell_type": "code",
   "execution_count": null,
   "metadata": {},
   "outputs": [],
   "source": []
  }
 ],
 "metadata": {
  "kernelspec": {
   "display_name": "Python 3",
   "language": "python",
   "name": "python3"
  },
  "language_info": {
   "codemirror_mode": {
    "name": "ipython",
    "version": 3
   },
   "file_extension": ".py",
   "mimetype": "text/x-python",
   "name": "python",
   "nbconvert_exporter": "python",
   "pygments_lexer": "ipython3",
   "version": "3.8.3"
  }
 },
 "nbformat": 4,
 "nbformat_minor": 4
}
