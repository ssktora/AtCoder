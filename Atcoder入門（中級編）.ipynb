{
 "cells": [
  {
   "cell_type": "markdown",
   "metadata": {},
   "source": [
    "# 全探索"
   ]
  },
  {
   "cell_type": "code",
   "execution_count": null,
   "metadata": {},
   "outputs": [],
   "source": [
    "first, second, third = -1, -1, -1\n",
    "check = True\n",
    "for i in range(n,-1,-1):\n",
    "    if not check:\n",
    "        break\n",
    "    for j in range(n,-1,-1):\n",
    "        k = n - i - j\n",
    "        if k < 0 or k > n:\n",
    "            continue\n",
    "        if i+j+k==n and (10000*i)+(5000*j)+(1000*k)==y:\n",
    "            check = False\n",
    "            print(i, j, k)\n",
    "            break\n",
    "if check:\n",
    "    print(first, second, third)"
   ]
  },
  {
   "cell_type": "markdown",
   "metadata": {},
   "source": [
    "# バケット"
   ]
  },
  {
   "cell_type": "code",
   "execution_count": null,
   "metadata": {},
   "outputs": [],
   "source": [
    "n = int(input())\n",
    "mochi = []\n",
    "for i in range(n):\n",
    "    a = int(input())\n",
    "    mochi.append(a)\n",
    "ans = set(mochi)\n",
    "print(len(ans))"
   ]
  },
  {
   "cell_type": "markdown",
   "metadata": {},
   "source": [
    "# 連想配列"
   ]
  },
  {
   "cell_type": "code",
   "execution_count": null,
   "metadata": {},
   "outputs": [],
   "source": [
    "from collections import defaultdict\n",
    "n = int(input())\n",
    "num = defaultdict(int)\n",
    "for i in range(n):\n",
    "    s = \"\".join(sorted(input()))\n",
    "    num[s] += 1\n",
    "ans = 0\n",
    "for s in num:\n",
    "    n = num[s]\n",
    "    ans += (n*(n-1))/2\n",
    "print(int(ans)) "
   ]
  },
  {
   "cell_type": "markdown",
   "metadata": {},
   "source": [
    "# 区間分割・連長圧縮"
   ]
  },
  {
   "cell_type": "code",
   "execution_count": null,
   "metadata": {},
   "outputs": [],
   "source": [
    "S = input()\n",
    "n = len(S)\n",
    "i = 0\n",
    "result = []\n",
    "while i <= n:\n",
    "    try:\n",
    "        j = i + 1\n",
    "        s = S[i]\n",
    "    except:\n",
    "        break\n",
    "    try:\n",
    "        while S[j].islower() and j <= n:\n",
    "            s += S[j]\n",
    "            j += 1\n",
    "        s += S[j]\n",
    "        i = j+1\n",
    "        result.append(s)\n",
    "    except:\n",
    "        break\n",
    "ans = sorted(result, key=str.lower)\n",
    "answer = \"\".join(ans)\n",
    "print(answer)\n",
    "    "
   ]
  },
  {
   "cell_type": "markdown",
   "metadata": {},
   "source": [
    "# グラフ"
   ]
  },
  {
   "cell_type": "code",
   "execution_count": 1,
   "metadata": {},
   "outputs": [
    {
     "name": "stdout",
     "output_type": "stream",
     "text": [
      "3 2 3\n",
      "1 2\n",
      "2 3\n",
      "5 10 15\n",
      "color [5, 10, 15]\n",
      "G [[1], [0, 2], [1]]\n",
      "1 2\n",
      "10\n",
      "2 1 20\n",
      "10\n",
      "1 1\n",
      "20\n"
     ]
    }
   ],
   "source": [
    "n, m, q = map(int, input().split(\" \"))\n",
    "G = [[] for i in range(n)]\n",
    "for i in range(m):\n",
    "    u, v = map(int, input().split(\" \"))\n",
    "    G[u-1].append(v-1)\n",
    "    G[v-1].append(u-1)\n",
    "color = [*map(int, input().split())]\n",
    "print(\"color\",color)\n",
    "print(\"G\",G)\n",
    "for i in range(q):\n",
    "    inter = [*map(int, input().split())]\n",
    "    if len(inter) == 2:\n",
    "        t = inter[0]\n",
    "        x = inter[1] \n",
    "    else:\n",
    "        t = inter[0] \n",
    "        x = inter[1] \n",
    "        y = inter[2] \n",
    "    if t == 1:\n",
    "        print(color[x-1])\n",
    "        for n in G[x-1]:\n",
    "            color[n] = color[x-1]\n",
    "    else:\n",
    "        print(color[x-1])\n",
    "        color[x-1] = y\n",
    "            \n",
    "            "
   ]
  },
  {
   "cell_type": "markdown",
   "metadata": {},
   "source": [
    "# 累積和\n",
    "- 配列Aの区間A[l:r]の総和は、累積和を表す配列Sを用いてS[r]-S[l]と表せる。"
   ]
  },
  {
   "cell_type": "code",
   "execution_count": 15,
   "metadata": {},
   "outputs": [
    {
     "name": "stdout",
     "output_type": "stream",
     "text": [
      "8 3\n",
      "ACACTACG\n",
      "3 7\n",
      "[0, 1, 1, 2, 2, 2, 3, 3]\n",
      "2\n",
      "2 3\n",
      "[0, 1, 1, 2, 2, 2, 3, 3]\n",
      "0\n",
      "1 8\n",
      "[0, 1, 1, 2, 2, 2, 3, 3]\n",
      "3\n"
     ]
    }
   ],
   "source": [
    "n, q = map(int, input().split())\n",
    "s = input()\n",
    "a = [0] * n\n",
    "for i in range(len(s)):\n",
    "    if i == 0:\n",
    "        continue\n",
    "    else:\n",
    "        if s[i-1] == \"A\" and s[i] == \"C\":\n",
    "            a[i] = a[i-1] + 1\n",
    "        else:\n",
    "            a[i] = a[i-1]\n",
    "\n",
    "for i in range(q):\n",
    "    l, r = map(int, input().split())\n",
    "    result = a[r-1] - a[l-1]\n",
    "    print(result)\n",
    "    "
   ]
  },
  {
   "cell_type": "markdown",
   "metadata": {},
   "source": [
    "# 周期性"
   ]
  },
  {
   "cell_type": "code",
   "execution_count": null,
   "metadata": {},
   "outputs": [],
   "source": [
    "a,b,c,k = map(int, input().split())\n",
    "if k % 2 == 0:\n",
    "    print(a-b)\n",
    "else:\n",
    "    print(b-a)\n",
    "    \n",
    "    "
   ]
  },
  {
   "cell_type": "markdown",
   "metadata": {},
   "source": [
    "# パリティ\n",
    "- 点(0,0)を出発して、ちょうどT秒後に、点(X,Y)にいることは可能かどうか判定する。\n",
    "- 可能かどうか判定する問題では、まず不可能な場合を列挙していく。"
   ]
  },
  {
   "cell_type": "code",
   "execution_count": null,
   "metadata": {},
   "outputs": [],
   "source": [
    "def solve():\n",
    "    n = int(input())\n",
    "    pt, px, py = 0, 0, 0\n",
    "    for i in range(n):\n",
    "        t, x, y = map(int, input().split())\n",
    "        T, X, Y = t-pt, abs(x-px), abs(y-py)\n",
    "        if T < X+Y:\n",
    "            return False\n",
    "        if (T % 2) != ((X+Y) % 2):\n",
    "            return False\n",
    "        pt, px, py = T, X, Y\n",
    "        \n",
    "    return True\n",
    "\n",
    "if solve():\n",
    "    print(\"Yes\")\n",
    "else:\n",
    "    print(\"No\")"
   ]
  },
  {
   "cell_type": "markdown",
   "metadata": {},
   "source": [
    "# 言い換え"
   ]
  },
  {
   "cell_type": "code",
   "execution_count": 1,
   "metadata": {},
   "outputs": [
    {
     "name": "stdout",
     "output_type": "stream",
     "text": [
      "3\n",
      "-10 5 -4\n",
      "19\n"
     ]
    }
   ],
   "source": [
    "n = int(input())\n",
    "a_list = [*map(int, input().split())]\n",
    "cnt = 0\n",
    "for a in a_list:\n",
    "    if a < 0:\n",
    "        cnt += 1\n",
    "a_list = [abs(num) for num in a_list]\n",
    "if cnt%2==0:\n",
    "    print(sum(a_list))\n",
    "else:\n",
    "    print(sum(a_list)-(min(a_list)*2))"
   ]
  },
  {
   "cell_type": "markdown",
   "metadata": {},
   "source": [
    "# ペアリング\n",
    "- 上界を見積もる"
   ]
  },
  {
   "cell_type": "code",
   "execution_count": null,
   "metadata": {},
   "outputs": [],
   "source": [
    "n = int(input())\n",
    "c1 = 0\n",
    "c2= 0\n",
    "c3 = 0\n",
    "ab = 0\n",
    "for i in range(n):\n",
    "    s = input()\n",
    "    if s[0] == \"B\" and s[-1] == \"A\":\n",
    "        c1 += 1\n",
    "    elif s[0] == \"B\":\n",
    "        c2 += 1\n",
    "    elif s[-1] == \"A\":\n",
    "        c3 += 1\n",
    "    ab += s.count(\"AB\")\n",
    "        \n",
    "if c2 == 0 and c3 == 0:\n",
    "    print(ab + max(c1-1,0))\n",
    "elif c2 <= c3:\n",
    "    print(ab + c1 + c2)\n",
    "else:\n",
    "    print(ab + c1 + c3)\n",
    "    "
   ]
  }
 ],
 "metadata": {
  "kernelspec": {
   "display_name": "Python 3",
   "language": "python",
   "name": "python3"
  },
  "language_info": {
   "codemirror_mode": {
    "name": "ipython",
    "version": 3
   },
   "file_extension": ".py",
   "mimetype": "text/x-python",
   "name": "python",
   "nbconvert_exporter": "python",
   "pygments_lexer": "ipython3",
   "version": "3.8.3"
  }
 },
 "nbformat": 4,
 "nbformat_minor": 4
}
