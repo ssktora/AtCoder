{
 "cells": [
  {
   "cell_type": "markdown",
   "metadata": {},
   "source": [
    "https://kunassy.com/binary_sort_basic/#toc5"
   ]
  },
  {
   "cell_type": "code",
   "execution_count": null,
   "metadata": {},
   "outputs": [],
   "source": [
    "def binary_search(arr, target):\n",
    "    left = 0\n",
    "    right = len(arr) - 1\n",
    "\n",
    "    while left <= right:\n",
    "        mid = (left + right) // 2\n",
    "\n",
    "        # 中央の要素がターゲットと一致した場合\n",
    "        if arr[mid] == target:\n",
    "            return mid\n",
    "        # ターゲットが中央の要素より小さい場合\n",
    "        elif arr[mid] > target:\n",
    "            right = mid - 1\n",
    "        # ターゲットが中央の要素より大きい場合\n",
    "        else:\n",
    "            left = mid + 1\n",
    "\n",
    "    return -1  # 見つからなかった場合"
   ]
  }
 ],
 "metadata": {
  "kernelspec": {
   "display_name": "Python 3",
   "language": "python",
   "name": "python3"
  },
  "language_info": {
   "codemirror_mode": {
    "name": "ipython",
    "version": 3
   },
   "file_extension": ".py",
   "mimetype": "text/x-python",
   "name": "python",
   "nbconvert_exporter": "python",
   "pygments_lexer": "ipython3",
   "version": "3.8.3"
  }
 },
 "nbformat": 4,
 "nbformat_minor": 4
}
