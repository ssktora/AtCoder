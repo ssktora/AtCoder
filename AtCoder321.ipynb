{
 "cells": [
  {
   "cell_type": "code",
   "execution_count": null,
   "metadata": {},
   "outputs": [],
   "source": [
    "N = list(input())\n",
    "p = 999999999\n",
    "for n in N:\n",
    "    if p >= int(n):\n",
    "        p = int(n)\n",
    "    else:\n",
    "        print(\"No\")\n",
    "        exit()\n",
    "print(\"Yes\")\n",
    "    "
   ]
  },
  {
   "cell_type": "code",
   "execution_count": 3,
   "metadata": {},
   "outputs": [
    {
     "name": "stdout",
     "output_type": "stream",
     "text": [
      "3 100\n",
      "100 100\n",
      "0\n"
     ]
    }
   ],
   "source": [
    "n, x = map(int, input().split())\n",
    "a_list = list(map(int, input().split()))\n",
    "a_list = sorted(a_list)\n",
    "chcek = sum(a_list)\n",
    "if n == 3:\n",
    "    one = x - (check - a_list[1]) \n",
    "    two = x - (check - a_list[0])\n",
    "else:\n",
    "    score = sum(a_list[1:n-2])\n",
    "if x - score > 100:\n",
    "    print(-1)\n",
    "else:\n",
    "    print(x-score)\n",
    "    "
   ]
  },
  {
   "cell_type": "code",
   "execution_count": 4,
   "metadata": {},
   "outputs": [
    {
     "name": "stdout",
     "output_type": "stream",
     "text": [
      "5 200\n",
      "0 0 99 99\n",
      "[0, 0, 99]\n",
      "-1\n"
     ]
    }
   ],
   "source": [
    "n, x = map(int, input().split())\n",
    "a_list = list(map(int, input().split()))\n",
    "a_list = sorted(a_list)\n",
    "if n == 3:\n",
    "    if a_list[0] <= x <= a_list[1]:\n",
    "        if a_list[0] == x:\n",
    "            print(0)\n",
    "        elif a_list[0] < x < a_list[1]:\n",
    "            print(x)\n",
    "        else:\n",
    "            print(a_list[1])\n",
    "    else:\n",
    "        print(-1)\n",
    "elif x == 0:\n",
    "    print(0)\n",
    "elif x == 100*(n-2):\n",
    "    check1 = sum(a_list[1:n-2])\n",
    "    check2 = sum(a_list[0:n-2])\n",
    "    check3 = sum(a_list[1:n-1])\n",
    "    if check1 == x:\n",
    "        print(0)\n",
    "    print(100)\n",
    "else:\n",
    "    check1 = sum(a_list[1:n-2])\n",
    "    check2 = sum(a_list[0:n-2])\n",
    "    check3 = sum(a_list[1:n-1])\n",
    "    if check2 <= x <= check3:\n",
    "        if check2 == x:\n",
    "            print(0)\n",
    "        elif check2 < x < check3:\n",
    "            print(x-check1)\n",
    "        else:\n",
    "            print(a_list[-1])\n",
    "    else:\n",
    "        print(-1)\n",
    "    \n",
    "#     original_list = [x-check1, x-check2, x-check3]\n",
    "#     # 0以上の要素を抽出する\n",
    "#     result_list = [d for d in original_list if d >= 0]\n",
    "#     print(result_list)  # 出力: [105, 120, 150]\n",
    "        "
   ]
  },
  {
   "cell_type": "code",
   "execution_count": 1,
   "metadata": {},
   "outputs": [
    {
     "name": "stdout",
     "output_type": "stream",
     "text": [
      "3 100\n",
      "100 100\n",
      "0\n"
     ]
    }
   ],
   "source": [
    "n, x = map(int, input().split())\n",
    "a_list = list(map(int, input().split()))\n",
    "frag = True\n",
    "for p in range(101):\n",
    "    b_list = a_list.copy()\n",
    "    b_list.append(p)\n",
    "    b_list.sort()\n",
    "    check = sum(b_list[1:-1])\n",
    "    if check>=x:\n",
    "        print(p)\n",
    "        frag = False\n",
    "        break\n",
    "if frag:\n",
    "    print(-1)\n"
   ]
  },
  {
   "cell_type": "code",
   "execution_count": 3,
   "metadata": {},
   "outputs": [
    {
     "name": "stdout",
     "output_type": "stream",
     "text": [
      "5\n"
     ]
    }
   ],
   "source": [
    "a = [1, 2, 3, 4]\n",
    "print(sum(a[1:-1]))"
   ]
  },
  {
   "cell_type": "code",
   "execution_count": 5,
   "metadata": {},
   "outputs": [
    {
     "name": "stdout",
     "output_type": "stream",
     "text": [
      "15\n",
      "32\n"
     ]
    }
   ],
   "source": [
    "K = int(input())\n",
    "binary_list = [format(i, '010b') for i in range(2**10)]\n",
    "ans_list = []\n",
    "for i in range(1,len(binary_list)):\n",
    "    p = str(binary_list[i])\n",
    "    q = \"\"\n",
    "    for j in range(10):\n",
    "        if p[j] == \"1\":\n",
    "            q += str(9-j)\n",
    "    q = int(q)\n",
    "    ans_list.append(q)\n",
    "    \n",
    "ans_list.sort()\n",
    "print(ans_list[K])\n"
   ]
  },
  {
   "cell_type": "code",
   "execution_count": null,
   "metadata": {},
   "outputs": [],
   "source": []
  }
 ],
 "metadata": {
  "kernelspec": {
   "display_name": "Python 3",
   "language": "python",
   "name": "python3"
  },
  "language_info": {
   "codemirror_mode": {
    "name": "ipython",
    "version": 3
   },
   "file_extension": ".py",
   "mimetype": "text/x-python",
   "name": "python",
   "nbconvert_exporter": "python",
   "pygments_lexer": "ipython3",
   "version": "3.8.3"
  }
 },
 "nbformat": 4,
 "nbformat_minor": 4
}
