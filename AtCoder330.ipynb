{
 "cells": [
  {
   "cell_type": "code",
   "execution_count": null,
   "metadata": {},
   "outputs": [],
   "source": [
    "N, L = map(int, input().split())\n",
    "A = list(map(int, input().split()))\n",
    "ans = 0\n",
    "for a in A:\n",
    "    if a >= L:\n",
    "        ans += 1\n",
    "        \n",
    "print(ans)"
   ]
  },
  {
   "cell_type": "code",
   "execution_count": 1,
   "metadata": {},
   "outputs": [
    {
     "name": "stdout",
     "output_type": "stream",
     "text": [
      "3 2 5\n",
      "4 6 8\n",
      "2\n",
      "3\n",
      "4\n"
     ]
    }
   ],
   "source": [
    "N, L, R = map(int, input().split())\n",
    "A = list(map(int, input().split()))\n",
    "ans = []\n",
    "for i in range(len(A)):\n",
    "    if A[i] < L:\n",
    "        x = L\n",
    "    elif A[i] > R:\n",
    "        x = R\n",
    "    else:\n",
    "        x = A[i]\n",
    "    ans.append(str(x))\n",
    "#     for x in range(L, R+1):\n",
    "#         if abs(x-A[i]) <= abs(p-A[i]):\n",
    "#             p = x\n",
    "#     ans.append(str(p))\n",
    "    \n",
    "print(\" \".join(ans))"
   ]
  },
  {
   "cell_type": "code",
   "execution_count": 14,
   "metadata": {
    "scrolled": true
   },
   "outputs": [
    {
     "name": "stdout",
     "output_type": "stream",
     "text": [
      "998244353\n",
      "31595\n",
      "18\n",
      "2.0\n",
      "0\n"
     ]
    }
   ],
   "source": [
    "D = int(input())\n",
    "x = 0\n",
    "y1 = 0\n",
    "y2 = 0\n",
    "while x**2 <= D:\n",
    "    x += 1\n",
    "if abs(D-((x-1)**2)) < abs(D-(x**2)):\n",
    "    E = D-((x-1)**2)\n",
    "    while y**2 <= E:\n",
    "        y += 1\n",
    "\n",
    "else:\n",
    "    E = D-(x**2)\n",
    "    while y**2 <= E:\n",
    "        y += 1\n",
    "x = x-1\n",
    "y = y-1\n",
    "print(x)\n",
    "print(y)\n",
    "ans = abs((x**2)+(y**2)-D)\n",
    "if ans**(1/2)%1 == 0:\n",
    "    print(0)\n",
    "else:\n",
    "    print(ans)\n"
   ]
  },
  {
   "cell_type": "code",
   "execution_count": 18,
   "metadata": {},
   "outputs": [
    {
     "name": "stdout",
     "output_type": "stream",
     "text": [
      "21\n",
      "4\n"
     ]
    }
   ],
   "source": [
    "D = int(input())\n",
    "p = int(D**(1/2))\n",
    "if (p+1)**2 - D"
   ]
  },
  {
   "cell_type": "code",
   "execution_count": null,
   "metadata": {},
   "outputs": [],
   "source": [
    "D = int(input())\n",
    "q = int(D**(1/2))+1\n",
    "ans = []\n",
    "for x in range(q):\n",
    "    y1 = int((D-(x**2))**(1/2))\n",
    "    y2 = y1 + 1\n",
    "    a1 = abs((x**2+y1**2)-D)\n",
    "    a2 = abs((x**2+y2**2)-D)\n",
    "    if a1 > a2:\n",
    "        ans.append(a2)\n",
    "    else:\n",
    "        ans.append(a1)\n",
    "\n",
    "print(min(ans))\n",
    "    \n",
    "    "
   ]
  },
  {
   "cell_type": "code",
   "execution_count": null,
   "metadata": {},
   "outputs": [],
   "source": [
    "def rootint(a):\n",
    "    return int(a**(0.5))\n",
    "\n",
    "D=int(input())\n",
    "X=[]\n",
    "for y in range(rootint(D/2),rootint(D)+1):\n",
    "    x1=rootint(D-y*y)\n",
    "    x2=rootint(D-y*y)+1\n",
    "    a1=abs(D-x1**2-y**2)\n",
    "    a2=abs(D-x2**2-y**2)\n",
    "    if a1>a2:\n",
    "        X.append(a2)\n",
    "    else:\n",
    "        X.append(a1)\n",
    "print(min(X))"
   ]
  }
 ],
 "metadata": {
  "kernelspec": {
   "display_name": "Python 3",
   "language": "python",
   "name": "python3"
  },
  "language_info": {
   "codemirror_mode": {
    "name": "ipython",
    "version": 3
   },
   "file_extension": ".py",
   "mimetype": "text/x-python",
   "name": "python",
   "nbconvert_exporter": "python",
   "pygments_lexer": "ipython3",
   "version": "3.8.3"
  }
 },
 "nbformat": 4,
 "nbformat_minor": 4
}
