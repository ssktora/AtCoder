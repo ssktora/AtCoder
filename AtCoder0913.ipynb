{
 "cells": [
  {
   "cell_type": "code",
   "execution_count": 1,
   "metadata": {},
   "outputs": [
    {
     "name": "stdout",
     "output_type": "stream",
     "text": [
      "5\n",
      "aabbc\n",
      "3\n"
     ]
    }
   ],
   "source": [
    "n = int(input())\n",
    "s = list(input())\n",
    "ans = 0\n",
    "for i in range(n):\n",
    "    if i == 0:\n",
    "        now = s[i]\n",
    "        ans += 1\n",
    "    else:\n",
    "        if s[i] != now:\n",
    "            ans += 1\n",
    "            now = s[i]\n",
    "print(ans)"
   ]
  },
  {
   "cell_type": "code",
   "execution_count": 11,
   "metadata": {},
   "outputs": [
    {
     "name": "stdout",
     "output_type": "stream",
     "text": [
      "5\n",
      "9 8 7 6 8\n",
      "3\n"
     ]
    }
   ],
   "source": [
    "n = int(input())\n",
    "h = list(map(int, input().split()))\n",
    "ans = 0\n",
    "check = 0\n",
    "for i in range(n):\n",
    "    if i == 0:\n",
    "        now = h[i]\n",
    "    else:\n",
    "        #print(now, check, ans)\n",
    "        if now >= h[i]:\n",
    "            check += 1\n",
    "            now = h[i]\n",
    "            if i == n-1:\n",
    "                ans = check\n",
    "        else:\n",
    "            now = h[i]\n",
    "            if check > ans:\n",
    "                ans = check\n",
    "                check = 0\n",
    "            else:\n",
    "                check = 0\n",
    "\n",
    "                \n",
    "print(ans)"
   ]
  },
  {
   "cell_type": "code",
   "execution_count": null,
   "metadata": {},
   "outputs": [],
   "source": [
    "n = int(input())\n",
    "h = list(map(int, input().split()))\n",
    "ans = 0\n",
    "check = 0\n",
    "for i in range(n-1):\n",
    "    if h[i] >= h[i+1]:\n",
    "        check += 1\n",
    "    else:\n",
    "        ans = max(ans, check)\n",
    "        check = 0\n",
    "        \n",
    "ans = max(ans, check)\n",
    "print(ans)"
   ]
  },
  {
   "cell_type": "code",
   "execution_count": 13,
   "metadata": {},
   "outputs": [
    {
     "name": "stdout",
     "output_type": "stream",
     "text": [
      "[6, 9]\n",
      "[3, 4]\n"
     ]
    }
   ],
   "source": [
    "v = [3, 6, 9, 8]\n",
    "print(v[1:-1])\n",
    "print([c // 2 for c in v[1:-1]])"
   ]
  },
  {
   "cell_type": "code",
   "execution_count": 16,
   "metadata": {},
   "outputs": [
    {
     "name": "stdout",
     "output_type": "stream",
     "text": [
      "aavvrr\n",
      "3\n",
      "[2, 2, 2]\n"
     ]
    }
   ],
   "source": [
    "s = input()\n",
    "k = int(input())\n",
    "v = []\n",
    "\n",
    "i = 0\n",
    "while i < len(s):\n",
    "    j = i\n",
    "    while j < len(s) and s[j] == s[i]:\n",
    "        j += 1\n",
    "    v.append(j-i)\n",
    "    i = j\n",
    "    \n",
    "if s[0] != s[-1]:\n",
    "    print(k*sum([c//2 for c in v]))\n",
    "else:\n",
    "    if len(v) == 1:\n",
    "        print(k*v[0]//2)\n",
    "    else:\n",
    "        left = v[0]\n",
    "        right = v[-1]\n",
    "        mid = sum([c//2 for c in v[1:-1]])\n",
    "        print(mid*k + (left+right)//2*(k-1) + left//2 + right//2)\n",
    "        "
   ]
  },
  {
   "cell_type": "code",
   "execution_count": null,
   "metadata": {},
   "outputs": [],
   "source": []
  }
 ],
 "metadata": {
  "kernelspec": {
   "display_name": "Python 3",
   "language": "python",
   "name": "python3"
  },
  "language_info": {
   "codemirror_mode": {
    "name": "ipython",
    "version": 3
   },
   "file_extension": ".py",
   "mimetype": "text/x-python",
   "name": "python",
   "nbconvert_exporter": "python",
   "pygments_lexer": "ipython3",
   "version": "3.8.3"
  }
 },
 "nbformat": 4,
 "nbformat_minor": 4
}
