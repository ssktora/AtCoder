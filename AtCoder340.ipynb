{
 "cells": [
  {
   "cell_type": "code",
   "execution_count": null,
   "metadata": {},
   "outputs": [],
   "source": [
    "A, B, D = map(int, input().split())\n",
    "ans = []\n",
    "a = A\n",
    "while a != B:\n",
    "    ans.append(str(a))\n",
    "    a += D\n",
    "    \n",
    "ans.append(a)\n",
    "print(\" \".join(ans))"
   ]
  },
  {
   "cell_type": "code",
   "execution_count": null,
   "metadata": {},
   "outputs": [],
   "source": [
    "Q = int(input())\n",
    "A = []\n",
    "for i in range(Q):\n",
    "    n, m = map(int, input().split())\n",
    "    if n == 1:\n",
    "        A.append(m)\n",
    "    else:\n",
    "        print(A[-m])"
   ]
  },
  {
   "cell_type": "code",
   "execution_count": 12,
   "metadata": {},
   "outputs": [
    {
     "name": "stdout",
     "output_type": "stream",
     "text": [
      "5\n",
      "12\n"
     ]
    }
   ],
   "source": [
    "import math\n",
    "\n",
    "N = int(input())\n",
    "ans = 0\n",
    "\n",
    "class Node:\n",
    "    def __init__(self, value):\n",
    "        self.value = value\n",
    "        self.left = None\n",
    "        self.right = None\n",
    "        self.subtree_sum = 0  # 各ノードに部分木の合計値を保持するフィールドを追加\n",
    "\n",
    "def create_binary_tree(x):\n",
    "    if x <= 1:\n",
    "        return None\n",
    "    \n",
    "    root = Node(x)\n",
    "    root.left = create_binary_tree(x // 2)\n",
    "    root.right = create_binary_tree(math.ceil(x/2))\n",
    "    \n",
    "    # ノードの部分木の合計値を計算して記憶\n",
    "    root.subtree_sum = root.value + (root.left.subtree_sum if root.left else None) + (root.right.subtree_sum if root.right else None)\n",
    "    \n",
    "    return root\n",
    "        \n",
    "def sum_tree_nodes(root):\n",
    "    if root is None:\n",
    "        return 0\n",
    "    \n",
    "    return root.subtree_sum\n",
    "\n",
    "root_node = create_binary_tree(N)\n",
    "print(sum_tree_nodes(root_node))\n",
    "\n"
   ]
  },
  {
   "cell_type": "code",
   "execution_count": 15,
   "metadata": {},
   "outputs": [
    {
     "name": "stdout",
     "output_type": "stream",
     "text": [
      "10\n",
      "1000 10 9\n",
      "1000 10 10\n",
      "1000 10 2\n",
      "1000 10 3\n",
      "1000 10 4\n",
      "1000 10 5\n",
      "1000 10 6\n",
      "1000 10 7\n",
      "1000 10 8\n",
      "[inf, 0, inf, inf, inf, inf, inf, inf, inf, inf, inf]\n",
      "[inf, 0, 1000, inf, inf, inf, inf, inf, inf, 10, inf]\n",
      "[inf, 0, 1000, 2000, inf, inf, inf, inf, inf, 10, 1010]\n",
      "[inf, 0, 1000, 2000, 3000, inf, inf, inf, inf, 10, 1010]\n",
      "[inf, 0, 1000, 2000, 3000, 4000, inf, inf, inf, 10, 1010]\n",
      "[inf, 0, 1000, 2000, 3000, 4000, 5000, inf, inf, 10, 1010]\n",
      "[inf, 0, 1000, 2000, 3000, 4000, 5000, 6000, inf, 10, 1010]\n",
      "[inf, 0, 1000, 2000, 3000, 4000, 5000, 6000, 7000, 10, 1010]\n",
      "[inf, 0, 1000, 2000, 3000, 4000, 5000, 6000, 7000, 10, 1010]\n",
      "1010\n"
     ]
    }
   ],
   "source": [
    "\n",
    "def min_time_to_clear(N, A, B, X):\n",
    "    dp = [float('inf')] * (N + 1)  # dp[i]: ステージiまでクリアするのにかかる最小時間\n",
    "    dp[1] = 0  # ステージ1は最初からクリアしているため時間はかからない\n",
    "\n",
    "    for i in range(1, N):\n",
    "        print(dp)\n",
    "        dp[i + 1] = min(dp[i + 1], dp[i] + A[i-1])  # Aでステージiをクリアした場合\n",
    "    for i in range(1,N):\n",
    "        dp[X[i]] = min(dp[X[i]], dp[i] + B[i-1])  # Bでステージiをクリアした場合\n",
    "\n",
    "    return dp[N]\n",
    "\n",
    "# 入力\n",
    "from collections import defaultdict\n",
    "N = int(input())\n",
    "X = defaultdict(int)\n",
    "A = []\n",
    "B = []\n",
    "for i in range(N - 1):\n",
    "    a, b, x = map(int, input().split())\n",
    "    A.append(a)\n",
    "    B.append(b)\n",
    "    X[i + 1] = x\n",
    "\n",
    "# 出力\n",
    "print(min_time_to_clear(N, A, B, X))"
   ]
  },
  {
   "cell_type": "code",
   "execution_count": null,
   "metadata": {},
   "outputs": [],
   "source": [
    "import heapq\n",
    "INF = 1000000000000000000000000000000000000\n",
    "N = int(input())\n",
    "dis = [INF for _ in range(N)]\n",
    "#visited = [False for _ in  range(N)]\n",
    "next = []\n",
    "def dijkstra():\n",
    "    #visited[0] = 1\n",
    "    dis[0] = 0\n",
    "    heapq.heappush(next,(0,0))\n",
    "    while next:\n",
    "        c,u = heapq.heappop(next)\n",
    "        # print(c,u)\n",
    "        # print(dis[u])\n",
    "        if dis[u] < c:continue\n",
    "        for v, cost in graph[u]:\n",
    "          #print(\"v,cost\", v, cost)\n",
    "          #if visited[v]: continue\n",
    "          if dis[v] > dis[u]+cost:\n",
    "              dis[v] = dis[u]+cost\n",
    "              heapq.heappush(next,(dis[v],v))\n",
    "              \n",
    "\n",
    "graph = [[] for _ in range(N)]\n",
    "for i in range(N-1):\n",
    "    A, B, X = map(int, input().split())\n",
    "    graph[i].append((i+1,A))\n",
    "    graph[i].append((X-1,B))\n",
    "\n",
    "                \n",
    "dijkstra()\n",
    "print(dis[-1])"
   ]
  },
  {
   "cell_type": "code",
   "execution_count": 16,
   "metadata": {},
   "outputs": [
    {
     "name": "stdout",
     "output_type": "stream",
     "text": [
      "[1000000000000, 1000000000000, 1000000000000, 1000000000000, 1000000000000]\n"
     ]
    }
   ],
   "source": [
    "import heapq\n",
    "\n",
    "numbers = [3, 5, 1, 6, 2, 4]\n",
    "\n",
    "heapq.heapify(numbers) # 優先度付きキューの作成\n",
    "\n",
    "print(numbers)\n",
    "\n",
    "print(heapq.heappop(numbers)) # 最小値の取り出し\n",
    "print(heapq.heappop(numbers))\n",
    "\n",
    "print(numbers)\n",
    "\n",
    "heapq.heappush(numbers, 1) # キューへの挿入\n",
    "heapq.heappush(numbers, 2)\n",
    "\n",
    "print(numbers)\n",
    "\n",
    "print(heapq.heappop(numbers)) # 最小値の取り出し\n",
    "print(heapq.heappop(numbers))\n",
    "\n",
    "print(numbers)"
   ]
  },
  {
   "cell_type": "code",
   "execution_count": null,
   "metadata": {},
   "outputs": [],
   "source": []
  }
 ],
 "metadata": {
  "kernelspec": {
   "display_name": "Python 3",
   "language": "python",
   "name": "python3"
  },
  "language_info": {
   "codemirror_mode": {
    "name": "ipython",
    "version": 3
   },
   "file_extension": ".py",
   "mimetype": "text/x-python",
   "name": "python",
   "nbconvert_exporter": "python",
   "pygments_lexer": "ipython3",
   "version": "3.8.3"
  }
 },
 "nbformat": 4,
 "nbformat_minor": 4
}
