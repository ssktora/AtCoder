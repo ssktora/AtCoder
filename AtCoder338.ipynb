{
 "cells": [
  {
   "cell_type": "code",
   "execution_count": null,
   "metadata": {},
   "outputs": [],
   "source": [
    "S = input()\n",
    "frag = True\n",
    "for i in range(len(S)):\n",
    "    if i == 0:\n",
    "        if S[i].islower():\n",
    "            frag = False\n",
    "    else:\n",
    "        if S[i].isupper():\n",
    "            frag = False\n",
    "if frag:\n",
    "    print(\"Yes\")\n",
    "else:\n",
    "    print(\"No\")"
   ]
  },
  {
   "cell_type": "code",
   "execution_count": 6,
   "metadata": {},
   "outputs": [
    {
     "name": "stdout",
     "output_type": "stream",
     "text": [
      "pseudopseudohypoparathyroidism\n",
      "[('p', 4), ('o', 4), ('s', 3), ('d', 3), ('e', 2), ('u', 2), ('h', 2), ('y', 2), ('a', 2), ('r', 2), ('i', 2), ('t', 1), ('m', 1)]\n",
      "p\n"
     ]
    }
   ],
   "source": [
    "from collections import defaultdict\n",
    "ans_dic = defaultdict(int)\n",
    "S = input()\n",
    "for s in S:\n",
    "    ans_dic[s] += 1\n",
    "\n",
    "ans_dic = sorted(ans_dic.items(), key=lambda x: (-x[1], x[0]))   \n",
    "\n",
    "for key in ans_dic:\n",
    "    print(key[0])\n",
    "    break"
   ]
  },
  {
   "cell_type": "code",
   "execution_count": 8,
   "metadata": {},
   "outputs": [
    {
     "name": "stdout",
     "output_type": "stream",
     "text": [
      "2\n",
      "800 300\n",
      "100 100\n",
      "200 10\n",
      "[700, 200] 1\n",
      "[600, 100] 2\n",
      "[500, 0] 3\n",
      "3\n"
     ]
    }
   ],
   "source": [
    "N = int(input())\n",
    "Q = list(map(int, input().split()))\n",
    "A = list(map(int, input().split()))\n",
    "B = list(map(int, input().split()))\n",
    "ans = 0\n",
    "no_minus = True\n",
    "while True:\n",
    "    if sum(A) > sum(B):\n",
    "        for i in range(N):\n",
    "            if Q[i] - B[i] < 0:\n",
    "                no_minus = False\n",
    "                break\n",
    "        if no_minus:\n",
    "            for i in range(N):\n",
    "                Q[i] -= B[i]\n",
    "            ans += 1\n",
    "        else:\n",
    "            break\n",
    "        print(Q, ans)\n",
    "    else:\n",
    "        for i in range(N):\n",
    "            if Q[i] - A[i] < 0:\n",
    "                no_minus = False\n",
    "                break\n",
    "        if no_minus:\n",
    "            for i in range(N):\n",
    "                Q[i] -= A[i]\n",
    "            ans += 1\n",
    "        else:\n",
    "            break\n",
    "        print(Q,ans)\n",
    "            \n",
    "while True:\n",
    "    if sum(A) <= sum(B):\n",
    "        for i in range(N):\n",
    "            if Q[i] - B[i] < 0:\n",
    "                no_minus = False\n",
    "                break\n",
    "        if no_minus:\n",
    "            for i in range(N):\n",
    "                Q[i] -= B[i]\n",
    "            ans += 1\n",
    "        else:\n",
    "            break\n",
    "        print(Q,ans)\n",
    "    else:\n",
    "        for i in range(N):\n",
    "            if Q[i] - A[i] < 0:\n",
    "                no_minus = False\n",
    "                break\n",
    "        if no_minus:\n",
    "            for i in range(N):\n",
    "                Q[i] -= A[i]\n",
    "            ans += 1\n",
    "        else:\n",
    "            break\n",
    "        print(Q,ans)\n",
    "            \n",
    "print(ans)"
   ]
  },
  {
   "cell_type": "code",
   "execution_count": 9,
   "metadata": {},
   "outputs": [
    {
     "name": "stdout",
     "output_type": "stream",
     "text": [
      "3\n",
      "3 9\n",
      "3 4\n",
      "4 5\n",
      "0\n"
     ]
    }
   ],
   "source": [
    "def get_answer(Q, A, B):\n",
    "    answer = float('inf')  \n",
    "\n",
    "    for i in range(len(Q)):\n",
    "        from pulp import LpProblem, LpMinimize, LpVariable, lpSum\n",
    "\n",
    "        # 問題の定義\n",
    "        prob = LpProblem(\"Minimize_Difference\", LpMinimize)\n",
    "\n",
    "        # 変数の定義\n",
    "        x = LpVariable(\"x\", lowBound=0, cat=\"Integer\")\n",
    "        y = LpVariable(\"y\", lowBound=0, cat=\"Integer\")\n",
    "\n",
    "        # 目的関数の定義\n",
    "        prob += Q[i] - (A[i]*x + B[i]*y), \"Difference\"\n",
    "\n",
    "        # 制約条件の定義\n",
    "        prob += A[i]*x + B[i]*y <= Q[i]\n",
    "\n",
    "        # 問題を解く\n",
    "        prob.solve()\n",
    "\n",
    "        if ans_x > x.value or ans_y > y.value:\n",
    "            ans_x = x.value\n",
    "            ans_y = y.value\n",
    "        print(f\"最小の差: {prob.objective.value()}\")\n",
    "        print(f\"x: {x.value()}, y: {y.value()}\")\n",
    "\n",
    "        answer = min(answer, min(people_A, people_B))\n",
    "\n",
    "    return answer\n",
    "\n",
    "N = int(input())\n",
    "Q = list(map(int, input().split()))\n",
    "A = list(map(int, input().split()))\n",
    "B = list(map(int, input().split()))\n",
    "\n",
    "ans = max_people_cooked(Q, A, B)\n",
    "print(ans)"
   ]
  },
  {
   "cell_type": "code",
   "execution_count": null,
   "metadata": {},
   "outputs": [],
   "source": [
    "N = int(input())\n",
    "Q = list(map(int, input().split()))\n",
    "A = list(map(int, input().split()))\n",
    "B = list(map(int, input().split()))\n",
    "\n",
    "ans = 0\n",
    "for x in range(10**6+1):\n",
    "    leftover = [Q[i]-(A[i]*x) for i in range(N)]\n",
    "    if min(leftover) < 0:\n",
    "        break\n",
    "    y = 1000000000000\n",
    "    for i in range(N):\n",
    "        if B[i] > 0:\n",
    "            y = min(y,leftover[i]//B[i])\n",
    "    ans = max(ans,x+y)\n",
    "    \n",
    "print(ans)"
   ]
  },
  {
   "cell_type": "code",
   "execution_count": 1,
   "metadata": {},
   "outputs": [
    {
     "name": "stdout",
     "output_type": "stream",
     "text": [
      "3 5\n",
      "2 4 6\n",
      "[0, 0, 0, 0, 0, 0]\n"
     ]
    }
   ],
   "source": [
    "N, M = map(int, input().split())\n",
    "X = list(map(int, input().split()))\n",
    "d = [0]*(N+1)\n",
    "def add(l, r, x):\n",
    "    d[l] += x\n",
    "    d[r] -= x\n",
    "for i in range(M-1):\n",
    "    s = X[i]\n",
    "    t = X[i]\n",
    "    if s > t:\n",
    "        s, t = t, s\n",
    "    a = t-s\n",
    "    b = N-a\n",
    "    add(0,s,a)\n",
    "    add(s,t,b)\n",
    "    add(t,n,a)\n",
    "for i in range(1,N):\n",
    "    d[i+1] = d[i]\n",
    "ans = 10000000000000\n",
    "for i in range(len(d)):\n",
    "    ans = min(ans,d[i])\n",
    "    \n",
    "print(ans)\n",
    "        \n",
    "    "
   ]
  },
  {
   "cell_type": "code",
   "execution_count": null,
   "metadata": {},
   "outputs": [],
   "source": []
  }
 ],
 "metadata": {
  "kernelspec": {
   "display_name": "Python 3",
   "language": "python",
   "name": "python3"
  },
  "language_info": {
   "codemirror_mode": {
    "name": "ipython",
    "version": 3
   },
   "file_extension": ".py",
   "mimetype": "text/x-python",
   "name": "python",
   "nbconvert_exporter": "python",
   "pygments_lexer": "ipython3",
   "version": "3.8.3"
  }
 },
 "nbformat": 4,
 "nbformat_minor": 4
}
