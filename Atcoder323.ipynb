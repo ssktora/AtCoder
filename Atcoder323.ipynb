{
 "cells": [
  {
   "cell_type": "code",
   "execution_count": 2,
   "metadata": {},
   "outputs": [
    {
     "name": "stdout",
     "output_type": "stream",
     "text": [
      "1010100000101000\n",
      "0\n",
      "No\n"
     ]
    }
   ],
   "source": [
    "s = input()\n",
    "check = True\n",
    "for i in range(1, 16, 2):\n",
    "    print(s[i])\n",
    "    if s[i] != \"0\":\n",
    "        check = False\n",
    "        print(\"No\")\n",
    "        break\n",
    "if check:\n",
    "    print(\"Yes\")"
   ]
  },
  {
   "cell_type": "code",
   "execution_count": 6,
   "metadata": {},
   "outputs": [
    {
     "name": "stdout",
     "output_type": "stream",
     "text": [
      "3\n",
      "-xx\n",
      "o-x\n",
      "oo-\n",
      "{'3': 2, '2': 1, '1': 0}\n",
      "3 2 1\n"
     ]
    }
   ],
   "source": [
    "n = int(input())\n",
    "result = []\n",
    "for _ in range(n):\n",
    "    s = input()\n",
    "    result.append(s)\n",
    "answer = {}\n",
    "for i in range(len(result)):\n",
    "    answer[str(i+1)] = result[i].count(\"o\")\n",
    "answer = dict(sorted(answer.items(), key=lambda item: item[1], reverse=True))\n",
    "ans = ' '.join(answer.keys())    \n",
    "print(ans)"
   ]
  },
  {
   "cell_type": "code",
   "execution_count": 12,
   "metadata": {},
   "outputs": [
    {
     "name": "stdout",
     "output_type": "stream",
     "text": [
      "3 4\n",
      "1000 500 700 2000\n",
      "xxxo\n",
      "ooxx\n",
      "oxox\n",
      "[2000, 1000, 700, 500]\n",
      "1000\n",
      "0\n",
      "1\n",
      "1\n"
     ]
    }
   ],
   "source": [
    "n, m = map(int, input().split())\n",
    "A = list(map(int, input().split()))\n",
    "S = []\n",
    "point = []\n",
    "CANT = []\n",
    "for i in range(n):\n",
    "    s = input()\n",
    "    p = 0\n",
    "    cant = []\n",
    "    for j in range(m):\n",
    "        if s[j] == \"o\":\n",
    "            p += A[j]\n",
    "        else:\n",
    "            cant.append(A[j])\n",
    "    p += (i+1)\n",
    "    S.append(s)\n",
    "    point.append(p)\n",
    "    cant = sorted(cant, reverse=True)\n",
    "    CANT.append(cant)\n",
    "\n",
    "# print(S)\n",
    "# print(point)\n",
    "max_p = max(point)\n",
    "for i in range(len(point)):\n",
    "    if point[i] == max_p:\n",
    "        ans = 0\n",
    "    else:\n",
    "        ans = 0\n",
    "        j = 0\n",
    "        check = point[i]\n",
    "        while check < max_p:\n",
    "            check += CANT[i][j]\n",
    "            j += 1\n",
    "            ans += 1\n",
    "    print(ans)\n",
    "            \n",
    "\n",
    "    "
   ]
  },
  {
   "cell_type": "code",
   "execution_count": null,
   "metadata": {},
   "outputs": [],
   "source": []
  }
 ],
 "metadata": {
  "kernelspec": {
   "display_name": "Python 3",
   "language": "python",
   "name": "python3"
  },
  "language_info": {
   "codemirror_mode": {
    "name": "ipython",
    "version": 3
   },
   "file_extension": ".py",
   "mimetype": "text/x-python",
   "name": "python",
   "nbconvert_exporter": "python",
   "pygments_lexer": "ipython3",
   "version": "3.8.3"
  }
 },
 "nbformat": 4,
 "nbformat_minor": 4
}
