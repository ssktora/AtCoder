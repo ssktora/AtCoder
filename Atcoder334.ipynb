{
 "cells": [
  {
   "cell_type": "code",
   "execution_count": 1,
   "metadata": {},
   "outputs": [
    {
     "name": "stdout",
     "output_type": "stream",
     "text": [
      "3 8\n",
      "Glove\n"
     ]
    }
   ],
   "source": [
    "a, b = map(int, input().split())\n",
    "if a > b:\n",
    "    print(\"Bat\")\n",
    "else:\n",
    "    print(\"Glove\")"
   ]
  },
  {
   "cell_type": "code",
   "execution_count": null,
   "metadata": {},
   "outputs": [],
   "source": [
    "A, M, L, R = map(int, input().split())\n",
    "k = 0\n",
    "ans = 0\n",
    "while A + (k*M) <= R:\n",
    "    if  L <= A + (k*M) <= R:\n",
    "        ans += 1\n",
    "    k += 1\n",
    "k = -1\n",
    "while A + (k*M) >= L:\n",
    "    if  L <= A + (k*M) <= R:\n",
    "        ans += 1\n",
    "    k -= 1\n",
    "    \n",
    "print(ans)"
   ]
  },
  {
   "cell_type": "code",
   "execution_count": null,
   "metadata": {},
   "outputs": [],
   "source": [
    "A, M, L, R = map(int, input().split())\n",
    "P = R - L\n",
    "ans = P // M\n",
    "# k1 = ((L - A) // M) + 1\n",
    "# k2 = (R - A) // M\n",
    "# if (a-L)+(R-b)>=M:\n",
    "#     ans += 1\n",
    "def calculate_difference(A, L, R, M):\n",
    "    if A < L:\n",
    "        # A が L 未満の場合\n",
    "        A = max(A, L)  # A を L 以上の最小の値に調整\n",
    "        diff_L = A - L  # A と L の差\n",
    "        diff_R = R - (A + ((R - A) // M) * M)  # R を越えない最大の値と R の差\n",
    "    elif L <= A < R:\n",
    "        # A が L 以上 R 未満の場合\n",
    "        diff_L = A - L  # A と L の差\n",
    "        diff_R = R - (A + ((R - A) // M) * M)  # R を越えない最大の値と R の差\n",
    "    else:\n",
    "        # A が R 以上の場合\n",
    "        A = min(A, R)  # A を R 以下の最大の値に調整\n",
    "        diff_L = A - (L + ((A - L) // M) * M)  # L を越えた最小の値と L の差\n",
    "        diff_R = R - A  # A と R の差\n",
    "\n",
    "    return diff_L + diff_R\n",
    "p = calculate_difference(A, L, R, M)\n",
    "if p >= M:\n",
    "    ans += 1\n",
    "    \n",
    "print(ans)"
   ]
  },
  {
   "cell_type": "code",
   "execution_count": 1,
   "metadata": {},
   "outputs": [
    {
     "name": "stdout",
     "output_type": "stream",
     "text": [
      "3 5\n",
      "3 5 6\n",
      "[1, 1, 1]\n"
     ]
    }
   ],
   "source": [
    "N, K = map(int,input().split())\n",
    "A = list(map(int, input().split()))\n",
    "socks = []\n",
    "for i in range(1,N+1):\n",
    "    socks.append(i)\n",
    "    socks.append(i)\n",
    "for a in A:\n",
    "    socks.remove(a)\n",
    "ans = 0\n",
    "if len(socks)%2==0:\n",
    "    #print(socks)\n",
    "    for i in range(0,len(socks)-1,2):\n",
    "        ans += abs(socks[i]-socks[i+1])\n",
    "        \n",
    "else:\n",
    "    now = 0\n",
    "    for i in range(1,len(socks)-1,2):\n",
    "        now += abs(socks[i]-socks[i+1])\n",
    "        ans = now\n",
    "    for i in range(2,len(socks),2):\n",
    "        now += abs(socks[i-1]-socks[i-2])\n",
    "        now -= socks[i] - socks[i-1]\n",
    "        ans = min(ans,now)\n",
    "        \n",
    "print(ans)\n",
    "    "
   ]
  },
  {
   "cell_type": "code",
   "execution_count": null,
   "metadata": {},
   "outputs": [],
   "source": []
  }
 ],
 "metadata": {
  "kernelspec": {
   "display_name": "Python 3",
   "language": "python",
   "name": "python3"
  },
  "language_info": {
   "codemirror_mode": {
    "name": "ipython",
    "version": 3
   },
   "file_extension": ".py",
   "mimetype": "text/x-python",
   "name": "python",
   "nbconvert_exporter": "python",
   "pygments_lexer": "ipython3",
   "version": "3.8.3"
  }
 },
 "nbformat": 4,
 "nbformat_minor": 4
}
