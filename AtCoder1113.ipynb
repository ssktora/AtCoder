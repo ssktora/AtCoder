{
 "cells": [
  {
   "cell_type": "code",
   "execution_count": 1,
   "metadata": {},
   "outputs": [
    {
     "name": "stdout",
     "output_type": "stream",
     "text": [
      "615\n",
      "1\n"
     ]
    }
   ],
   "source": [
    "X = int(input())\n",
    "dp = [False] * (101010)\n",
    "dp[0] = True\n",
    "for x in range(X+1):\n",
    "    if dp[x]:\n",
    "        for d in range(6):\n",
    "            dp[x+d+100] = True\n",
    "            \n",
    "if dp[X]:\n",
    "    print(\"1\")\n",
    "else:\n",
    "    print(\"0\")"
   ]
  },
  {
   "cell_type": "code",
   "execution_count": null,
   "metadata": {},
   "outputs": [],
   "source": [
    "N = int(input())\n",
    "A = list(map(int, input().split()))\n",
    "A = [x - 1 for x in A]\n",
    "dp = [0] * (2*N+1)\n",
    "for i in range(1,len(A)+1):\n",
    "    p = A[i-1]\n",
    "    dp[2*i-1] = dp[p] + 1\n",
    "    dp[2*i] = dp[p] + 1\n",
    "for ans in dp:\n",
    "    print(ans)\n",
    "    "
   ]
  },
  {
   "cell_type": "code",
   "execution_count": 12,
   "metadata": {},
   "outputs": [
    {
     "name": "stdout",
     "output_type": "stream",
     "text": [
      "10\n",
      "5 4 3 2 1 0 7 7 6 6\n",
      "now {5}\n",
      "check {0, 1, 2, 3, 4, 5}\n",
      "now {4, 5}\n",
      "check {0, 1, 2, 3, 4, 5}\n",
      "now {3, 4, 5}\n",
      "check {0, 1, 2, 3, 4, 5}\n",
      "now {2, 3, 4, 5}\n",
      "check {0, 1, 2, 3, 4, 5}\n",
      "now {1, 2, 3, 4, 5}\n",
      "check {0, 1, 2, 3, 4, 5}\n",
      "now {0, 1, 2, 3, 4, 5}\n",
      "check {0, 1, 2, 3, 4, 5}\n",
      "now {0, 1, 2, 3, 4, 5, 7}\n",
      "check {0, 1, 2, 3, 4, 5, 6, 7}\n",
      "now {0, 1, 2, 3, 4, 5, 7}\n",
      "check {0, 1, 2, 3, 4, 5, 6, 7}\n",
      "now {0, 1, 2, 3, 4, 5, 6, 7}\n",
      "check {0, 1, 2, 3, 4, 5, 6, 7}\n",
      "now {0, 1, 2, 3, 4, 5, 6, 7}\n",
      "check {0, 1, 2, 3, 4, 5, 6, 7, 8}\n",
      "0\n",
      "0\n",
      "0\n",
      "0\n",
      "0\n",
      "6\n",
      "6\n",
      "6\n",
      "8\n",
      "8\n"
     ]
    }
   ],
   "source": [
    "N = int(input())\n",
    "p = list(map(int, input().split()))\n",
    "dp = [0] * N\n",
    "check = set()\n",
    "now = set()\n",
    "k = 0\n",
    "for i in range(len(p)):\n",
    "    a = p[i]\n",
    "    if len(now) == 0 or a > max(now):\n",
    "        check = set(range(a+1))\n",
    "    now.add(a)\n",
    "    print(\"now\", now)\n",
    "    print(\"check\", check)\n",
    "    if now != check:\n",
    "        dp[i] = k\n",
    "    else:\n",
    "        k = max(check)+1\n",
    "        dp[i] = k\n",
    "        check.add(k)\n",
    "\n",
    "for ans in dp:\n",
    "    print(ans)\n",
    "    \n",
    "    "
   ]
  },
  {
   "cell_type": "code",
   "execution_count": null,
   "metadata": {},
   "outputs": [],
   "source": [
    "N = int(input())\n",
    "p = list(map(int, input().split()))\n",
    "ans = 0\n",
    "check = set()\n",
    "for i in range(N):\n",
    "    a = p[i]\n",
    "    check.add(a)\n",
    "    while ans in check:\n",
    "        ans += 1\n",
    "    print(ans)"
   ]
  }
 ],
 "metadata": {
  "kernelspec": {
   "display_name": "Python 3",
   "language": "python",
   "name": "python3"
  },
  "language_info": {
   "codemirror_mode": {
    "name": "ipython",
    "version": 3
   },
   "file_extension": ".py",
   "mimetype": "text/x-python",
   "name": "python",
   "nbconvert_exporter": "python",
   "pygments_lexer": "ipython3",
   "version": "3.8.3"
  }
 },
 "nbformat": 4,
 "nbformat_minor": 4
}
