{
 "cells": [
  {
   "cell_type": "markdown",
   "metadata": {},
   "source": [
    "深さ優先探索は再帰を使うことが多い\n",
    "\n",
    "深さ優先探索 (DFS):\n",
    "\n",
    "- グラフの探索: グラフ内のあるノードから出発して、可能な限り深く探索したい場合に使用します。特に、経路の発見やサイクルの検出に有用です。\n",
    "\n",
    "- 再帰的問題: 再帰的なアプローチが適している場面で、木構造やグラフの探索を行う際に DFS を使用することがあります。例えば、深さ優先探索によるトラバーサルが多いです。\n",
    "\n",
    "- バックトラッキング問題: 探索空間を進む際に、一度訪れたノードに戻る場合がある場合に適しています。典型的な例はナップサック問題、8クイーン問題などです。\n",
    "\n",
    "- トポロジカルソート: 有向非巡回グラフ (DAG) のトポロジカルソートに DFS を使用できます。"
   ]
  },
  {
   "cell_type": "code",
   "execution_count": null,
   "metadata": {},
   "outputs": [],
   "source": [
    "def dfs(graph, node, visited):\n",
    "    if node not in visited:\n",
    "        print(node, end=' ')\n",
    "        visited.add(node)\n",
    "        for neighbor in graph[node]:\n",
    "            dfs(graph, neighbor, visited)\n",
    "\n",
    "# グラフの隣接リストを定義\n",
    "graph = {\n",
    "    'A': ['B', 'C'],\n",
    "    'B': ['A', 'D', 'E'],\n",
    "    'C': ['A', 'F'],\n",
    "    'D': ['B'],\n",
    "    'E': ['B', 'F'],\n",
    "    'F': ['C', 'E']\n",
    "}\n",
    "\n",
    "visited_nodes = set()\n",
    "start_node = 'A'\n",
    "print(\"DFS traversal starting from node\", start_node)\n",
    "dfs(graph, start_node, visited_nodes)"
   ]
  }
 ],
 "metadata": {
  "kernelspec": {
   "display_name": "Python 3",
   "language": "python",
   "name": "python3"
  },
  "language_info": {
   "codemirror_mode": {
    "name": "ipython",
    "version": 3
   },
   "file_extension": ".py",
   "mimetype": "text/x-python",
   "name": "python",
   "nbconvert_exporter": "python",
   "pygments_lexer": "ipython3",
   "version": "3.8.3"
  }
 },
 "nbformat": 4,
 "nbformat_minor": 4
}
