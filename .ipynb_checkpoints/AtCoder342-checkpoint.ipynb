{
 "cells": [
  {
   "cell_type": "code",
   "execution_count": null,
   "metadata": {},
   "outputs": [],
   "source": [
    "S = input()\n",
    "count_a = 1\n",
    "count_b = 0\n",
    "ans_a = 1\n",
    "ans_b = 0\n",
    "for i in range(1,len(S)):\n",
    "    if S[i] == S[0]:\n",
    "        count_a += 1\n",
    "        ans_a = i+1\n",
    "    else:\n",
    "        count_b += 1\n",
    "        ans_b = i+1\n",
    "        \n",
    "if count_a == 1:\n",
    "    print(ans_a)\n",
    "else:\n",
    "    print(ans_b)\n",
    "    \n",
    "    \n"
   ]
  },
  {
   "cell_type": "code",
   "execution_count": null,
   "metadata": {},
   "outputs": [],
   "source": [
    "N = int(input())\n",
    "P = list(map(int, input().split()))\n",
    "Q = int(input())\n",
    "def find_indexes(lst, target):\n",
    "    return [i for i, x in enumerate(lst) if x == target]\n",
    "for i in range(Q):\n",
    "    A, B = map(int, input().split())\n",
    "    a = find_indexes(P,A)\n",
    "    b = find_indexes(P,B)\n",
    "    if a > b:\n",
    "        print(B)\n",
    "    else:\n",
    "        print(A)\n",
    "    "
   ]
  },
  {
   "cell_type": "code",
   "execution_count": 1,
   "metadata": {},
   "outputs": [
    {
     "name": "stdout",
     "output_type": "stream",
     "text": [
      "7\n",
      "atcoder\n",
      "4\n",
      "defaultdict(<class 'list'>, {'a': [0], 't': [1], 'c': [2], 'o': [3], 'd': [4], 'e': [5], 'r': [6]})\n"
     ]
    }
   ],
   "source": [
    "N = int(input())\n",
    "S = input()\n",
    "Q = int(input())\n",
    "from collections import defaultdict\n",
    "dic = defaultdict(list)\n",
    "for i in range(len(S)):\n",
    "    dic[S[i]].append(i)\n",
    "#print(dic)\n",
    "for i in range(Q):\n",
    "    c, d = map(str,input().split())\n",
    "    new_dict = defaultdict(list)\n",
    "    if d in dic:\n",
    "        for key, value in dic.items():\n",
    "            if key == c:\n",
    "                #print(key,value)\n",
    "                #print(dic[d])\n",
    "                a_list = dic[d]+value\n",
    "                #print(a_list)\n",
    "                new_dict[d] = a_list\n",
    "            elif key != d:\n",
    "                new_dict[key] = value\n",
    "        dic = new_dict\n",
    "    else:\n",
    "        for key, value in dic.items():\n",
    "            if key == c:\n",
    "                new_dict[d] = value\n",
    "            else:\n",
    "                new_dict[key] = value\n",
    "        dic = new_dict\n",
    "        \n",
    "   # print(dic)\n",
    "ans = [\"\"]*N\n",
    "for key, value in dic.items():\n",
    "    #print(value)\n",
    "    for i in value:\n",
    "        ans[i] = key\n",
    "answer = \"\".join(ans)\n",
    "print(answer)"
   ]
  },
  {
   "cell_type": "code",
   "execution_count": 2,
   "metadata": {},
   "outputs": [
    {
     "name": "stdout",
     "output_type": "stream",
     "text": [
      "['', '', '', '', '', '', '']\n"
     ]
    }
   ],
   "source": [
    "N = int(input())\n",
    "S = input()\n",
    "Q = int(input())\n",
    "from collections import defaultdict\n",
    "dic = defaultdict(list)\n",
    "for i in range(len(S)):\n",
    "    dic[S[i]].append(i)\n",
    "for i in range(Q):\n",
    "    c, d = map(str,input().split())\n",
    "    if d in dic and c in dic:\n",
    "        dic[d] += dic[c]\n",
    "        del dic[c]\n",
    "    elif d in dic and c not in dic:\n",
    "        continue\n",
    "    elif d not in dic and c in dic:\n",
    "        dic[d] = dic[c]\n",
    "        del dic[c]\n",
    "    else:continue\n",
    "        \n",
    "ans = [\"\"]*N\n",
    "for key, value in dic.items():\n",
    "    #print(value)\n",
    "    for i in value:\n",
    "        ans[i] = key\n",
    "answer = \"\".join(ans)\n",
    "print(answer)\n",
    "        \n",
    "    "
   ]
  },
  {
   "cell_type": "code",
   "execution_count": 7,
   "metadata": {
    "scrolled": true
   },
   "outputs": [
    {
     "name": "stdout",
     "output_type": "stream",
     "text": [
      "5\n",
      "0 3 2 8 12\n",
      "(0, 3)\n",
      "0\n",
      "(0, 2)\n",
      "0\n",
      "(0, 8)\n",
      "0\n",
      "(0, 12)\n",
      "0\n",
      "(3, 2)\n",
      "6\n",
      "(3, 8)\n",
      "24\n",
      "(3, 12)\n",
      "36\n",
      "(2, 8)\n",
      "16\n",
      "(2, 12)\n",
      "24\n",
      "(8, 12)\n",
      "96\n",
      "{0, 96, 36, 6, 16, 24}\n",
      "3\n"
     ]
    }
   ],
   "source": [
    "N = int(input())\n",
    "A = list(map(int, input().split()))\n",
    "ans = {i**2 for i in range(0,(2*(10**5))+1)}\n",
    "from itertools import combinations\n",
    "\n",
    "# 2つの要素を選ぶ組み合わせをすべて列挙する\n",
    "a_list = list(combinations(A, 2))\n",
    "\n",
    "# 結果を出力する\n",
    "answer = 0\n",
    "for combination in a_list:\n",
    "    print(combination)\n",
    "    p = combination[0]*combination[1]\n",
    "    if p & ans != {}:\n",
    "        answer += 1\n",
    " \n",
    "    \n",
    "\n",
    "print(answer)"
   ]
  },
  {
   "cell_type": "code",
   "execution_count": 4,
   "metadata": {},
   "outputs": [
    {
     "name": "stdout",
     "output_type": "stream",
     "text": [
      "{0, 1, 64, 4, 36, 9, 16, 49, 81, 25}\n"
     ]
    }
   ],
   "source": [
    "ans = {i**2 for i in range(0,10)}\n",
    "print(ans)"
   ]
  },
  {
   "cell_type": "code",
   "execution_count": null,
   "metadata": {},
   "outputs": [],
   "source": []
  }
 ],
 "metadata": {
  "kernelspec": {
   "display_name": "Python 3",
   "language": "python",
   "name": "python3"
  },
  "language_info": {
   "codemirror_mode": {
    "name": "ipython",
    "version": 3
   },
   "file_extension": ".py",
   "mimetype": "text/x-python",
   "name": "python",
   "nbconvert_exporter": "python",
   "pygments_lexer": "ipython3",
   "version": "3.8.3"
  }
 },
 "nbformat": 4,
 "nbformat_minor": 4
}
