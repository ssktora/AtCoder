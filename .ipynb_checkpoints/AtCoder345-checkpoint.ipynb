{
 "cells": [
  {
   "cell_type": "code",
   "execution_count": null,
   "metadata": {},
   "outputs": [],
   "source": [
    "S = input()\n",
    "\n",
    "k = len(S)\n",
    "if S[0] == \"<\" and S[-1] == \">\" and S[1:-1] == \"=\"*(k-2):\n",
    "    print(\"Yes\")\n",
    "else:\n",
    "    print(\"No\")"
   ]
  },
  {
   "cell_type": "code",
   "execution_count": null,
   "metadata": {},
   "outputs": [],
   "source": [
    "S = input()\n",
    "if S[0] == \"-\":\n",
    "    if len(S) >= 3:\n",
    "        print(S[:-1])\n",
    "    else:\n",
    "        print(0)\n",
    "else:\n",
    "    if len(S) >= 2:\n",
    "        if S[-1] == \"0\":\n",
    "            print(S[:-1])\n",
    "        else:\n",
    "            s = int(S[:-1])\n",
    "            ans = s+1\n",
    "            print(ans)\n",
    "    elif S == \"0\":\n",
    "        print(0)\n",
    "    else:\n",
    "        print(1)\n",
    "    \n",
    "    "
   ]
  },
  {
   "cell_type": "code",
   "execution_count": 30,
   "metadata": {},
   "outputs": [
    {
     "name": "stdout",
     "output_type": "stream",
     "text": [
      "fajigoaaj\n",
      "33\n"
     ]
    }
   ],
   "source": [
    "S = list(input())\n",
    "n = len(S)\n",
    "import math\n",
    "a = int((n*(n-1))/2)\n",
    "from collections import Counter\n",
    "count_dict = Counter(S)\n",
    "same = 0\n",
    "for element, p in count_dict.items():\n",
    "    same += int((p*(p-1))/2)\n",
    "\n",
    "dif = a - same\n",
    "ans = dif\n",
    "if same >= 1:\n",
    "    ans += 1\n",
    "print(ans)"
   ]
  },
  {
   "cell_type": "code",
   "execution_count": 16,
   "metadata": {},
   "outputs": [
    {
     "name": "stdout",
     "output_type": "stream",
     "text": [
      "4\n"
     ]
    }
   ],
   "source": [
    "N, H, W = map(int, input().split())\n",
    "ab = []\n",
    "for i in range(N):\n",
    "    a, b = map(int, input().split())\n",
    "    ab.append((a,b))\n",
    "S = [[\".\" for i in range(W)] for _ in range(H)]\n",
    "used = [0 for _ in range(N)]\n",
    "def saiki(S,used):\n",
    "    si = -1\n",
    "    sj = -1\n",
    "    frag = False\n",
    "    for i in range(H):\n",
    "        for j in range(W):\n",
    "            if S[i][j] == \".\" and si == -1:\n",
    "                si = i\n",
    "                sj = j\n",
    "    if si == -1:\n",
    "        print(\"Yes\")\n",
    "        return True\n",
    "    for ri in range(N):\n",
    "        if not used[ri]:\n",
    "            a = ab[ri][0]\n",
    "            b = ab[ri][1]\n",
    "            for bi in range(2):\n",
    "                a, b = b, a\n",
    "                if si+a > H or sj+b > W:\n",
    "                    continue\n",
    "                board = [row[:] for row in S]\n",
    "                ok = True\n",
    "                for i in range(a):\n",
    "                    for j in range(b):\n",
    "                        if board[si+i][sj+j] != \".\":\n",
    "                            ok = False\n",
    "                        board[si+i][sj+j] = str(ri+1)\n",
    "                if not ok:\n",
    "                    continue\n",
    "                used[ri] = 1\n",
    "                if saiki(board, used):\n",
    "                    return True\n",
    "                used[ri] = 0\n",
    "            print(S)\n",
    "    return False\n",
    "    \n",
    "if not saiki(S,used):\n",
    "    print(\"No\")"
   ]
  },
  {
   "cell_type": "code",
   "execution_count": null,
   "metadata": {},
   "outputs": [],
   "source": []
  }
 ],
 "metadata": {
  "kernelspec": {
   "display_name": "Python 3",
   "language": "python",
   "name": "python3"
  },
  "language_info": {
   "codemirror_mode": {
    "name": "ipython",
    "version": 3
   },
   "file_extension": ".py",
   "mimetype": "text/x-python",
   "name": "python",
   "nbconvert_exporter": "python",
   "pygments_lexer": "ipython3",
   "version": "3.8.3"
  }
 },
 "nbformat": 4,
 "nbformat_minor": 4
}
