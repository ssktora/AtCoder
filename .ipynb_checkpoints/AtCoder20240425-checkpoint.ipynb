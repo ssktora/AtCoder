{
 "cells": [
  {
   "cell_type": "code",
   "execution_count": null,
   "metadata": {},
   "outputs": [],
   "source": [
    "A, P = map(int, input().split())\n",
    "piece = A*3+P\n",
    "ans = piece//2\n",
    "print(ans)"
   ]
  },
  {
   "cell_type": "code",
   "execution_count": null,
   "metadata": {},
   "outputs": [],
   "source": [
    "N = int(input())\n",
    "restaurants = []\n",
    "for i in range(1,N+1):\n",
    "    S, P = map(str, input().split())\n",
    "    P = int(P)\n",
    "    restaurants.append((S,P,i))\n",
    "    \n",
    "answers = sorted(restaurants, key=lambda x: (x[0], -x[1]))\n",
    "for a in answers:\n",
    "    print(a[2])\n",
    "    "
   ]
  },
  {
   "cell_type": "code",
   "execution_count": null,
   "metadata": {},
   "outputs": [],
   "source": [
    "N, M = map(int, input().split())\n",
    "from itertools import product\n",
    "\n",
    "# 0と1の組み合わせを生成\n",
    "combinations = list(product([\"on\", \"off\"], repeat=N))\n",
    "\n",
    "# combinationsリストを1の要素の数に基づいて並べ替え\n",
    "checks = sorted(combinations, key=lambda x: x.count(1))\n",
    "\n",
    "s_list = []\n",
    "k_list = []\n",
    "for i in range(M):\n",
    "    s = list(map(int, input().split()))\n",
    "    k = s.pop(0)\n",
    "    s_list.append(s)\n",
    "    k_list.append(k)\n",
    "p = list(map(int, input().split()))\n",
    "ans = 0\n",
    "for comb in checks:\n",
    "    indices = [index+1 for index, element in enumerate(comb) if element == \"on\"]\n",
    "    frag = True\n",
    "    for i in range(len(s_list)):\n",
    "        common_elements = set(indices) & set(s_list[i])\n",
    "        count = len(common_elements)\n",
    "        if count%2 != p[i]:\n",
    "            frag = False\n",
    "            break\n",
    "    if frag:\n",
    "        ans += 1\n",
    "print(ans)\n",
    "    \n"
   ]
  },
  {
   "cell_type": "code",
   "execution_count": 4,
   "metadata": {},
   "outputs": [
    {
     "name": "stdout",
     "output_type": "stream",
     "text": [
      "5 3\n",
      "[1, 2, 3, 4, 5]\n",
      "[('on', 'on', 'on', 'on', 'on'), ('on', 'on', 'on', 'on', 'off'), ('on', 'on', 'on', 'off', 'on'), ('on', 'on', 'on', 'off', 'off'), ('on', 'on', 'off', 'on', 'on'), ('on', 'on', 'off', 'on', 'off'), ('on', 'on', 'off', 'off', 'on'), ('on', 'on', 'off', 'off', 'off'), ('on', 'off', 'on', 'on', 'on'), ('on', 'off', 'on', 'on', 'off'), ('on', 'off', 'on', 'off', 'on'), ('on', 'off', 'on', 'off', 'off'), ('on', 'off', 'off', 'on', 'on'), ('on', 'off', 'off', 'on', 'off'), ('on', 'off', 'off', 'off', 'on'), ('on', 'off', 'off', 'off', 'off'), ('off', 'on', 'on', 'on', 'on'), ('off', 'on', 'on', 'on', 'off'), ('off', 'on', 'on', 'off', 'on'), ('off', 'on', 'on', 'off', 'off'), ('off', 'on', 'off', 'on', 'on'), ('off', 'on', 'off', 'on', 'off'), ('off', 'on', 'off', 'off', 'on'), ('off', 'on', 'off', 'off', 'off'), ('off', 'off', 'on', 'on', 'on'), ('off', 'off', 'on', 'on', 'off'), ('off', 'off', 'on', 'off', 'on'), ('off', 'off', 'on', 'off', 'off'), ('off', 'off', 'off', 'on', 'on'), ('off', 'off', 'off', 'on', 'off'), ('off', 'off', 'off', 'off', 'on'), ('off', 'off', 'off', 'off', 'off')]\n"
     ]
    }
   ],
   "source": [
    "N, M = map(int, input().split())\n",
    "from itertools import product\n",
    "\n",
    "# 0と1の組み合わせを生成\n",
    "combinations = list(product([\"on\", \"off\"], repeat=N))\n",
    "\n",
    "# combinationsリストを1の要素の数に基づいて並べ替え\n",
    "checks = sorted(combinations, key=lambda x: x.count(1))\n",
    "indices = [index+1 for index, element in enumerate((('on', 'on', 'on', 'on', 'on'))) if element == \"on\"]\n",
    "print(indices)\n",
    "print(checks)"
   ]
  },
  {
   "cell_type": "code",
   "execution_count": null,
   "metadata": {},
   "outputs": [],
   "source": [
    "from collections import deque\n",
    "N, K = map(int, input().split())\n",
    "V = list(map(int, input().split()))\n",
    "ans = 0\n",
    "for l in range(K+1):\n",
    "    for r in range(K-l+1):\n",
    "        if l+r > N:\n",
    "            continue\n",
    "        d = K - l - r\n",
    "        now = 0\n",
    "        S = []\n",
    "        for i in range(l):\n",
    "            now += V[i]\n",
    "            S.append(V[i])\n",
    "        for j in range(N-r,N):\n",
    "            now += V[j]\n",
    "            S.append(V[j])\n",
    "        S = sorted(S)\n",
    "        for i in range(d):\n",
    "            if i >= len(S):\n",
    "                break\n",
    "            if S[i] > 0:\n",
    "                break\n",
    "            now -= S[i]\n",
    "        ans = max(ans,now)\n",
    "print(ans)"
   ]
  }
 ],
 "metadata": {
  "kernelspec": {
   "display_name": "Python 3",
   "language": "python",
   "name": "python3"
  },
  "language_info": {
   "codemirror_mode": {
    "name": "ipython",
    "version": 3
   },
   "file_extension": ".py",
   "mimetype": "text/x-python",
   "name": "python",
   "nbconvert_exporter": "python",
   "pygments_lexer": "ipython3",
   "version": "3.8.3"
  }
 },
 "nbformat": 4,
 "nbformat_minor": 4
}
