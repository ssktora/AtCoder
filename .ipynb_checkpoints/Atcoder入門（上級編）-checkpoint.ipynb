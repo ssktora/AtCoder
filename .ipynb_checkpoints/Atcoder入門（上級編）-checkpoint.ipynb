{
 "cells": [
  {
   "cell_type": "markdown",
   "metadata": {},
   "source": [
    "# 再帰関数"
   ]
  },
  {
   "cell_type": "code",
   "execution_count": 22,
   "metadata": {},
   "outputs": [
    {
     "name": "stdout",
     "output_type": "stream",
     "text": [
      "50 4321098765432109\n",
      "d\n",
      "d\n",
      "d\n",
      "d\n",
      "b\n",
      "d\n",
      "b\n",
      "d\n",
      "d\n",
      "b\n",
      "d\n",
      "b\n",
      "b\n",
      "b\n",
      "b\n",
      "b\n",
      "b\n",
      "d\n",
      "b\n",
      "b\n",
      "b\n",
      "b\n",
      "d\n",
      "d\n",
      "b\n",
      "d\n",
      "b\n",
      "b\n",
      "d\n",
      "d\n",
      "d\n",
      "d\n",
      "b\n",
      "b\n",
      "d\n",
      "d\n",
      "d\n",
      "d\n",
      "d\n",
      "d\n",
      "b\n",
      "d\n",
      "b\n",
      "d\n",
      "b\n",
      "b\n",
      "d\n",
      "d\n",
      "a\n",
      "2160549382716056\n"
     ]
    }
   ],
   "source": [
    "n, x = map(int, input().split())\n",
    "def rec(N,X,L,S):\n",
    "    if N == 0:\n",
    "        return 1\n",
    "    \n",
    "    if X == 1:\n",
    "        print(\"a\")\n",
    "        return 0\n",
    "    \n",
    "    elif X <= L[N-1]+1:\n",
    "        return rec(N-1,X-1,L,S)\n",
    "    \n",
    "    elif X == L[N-1]+2:\n",
    "        return S[N-1] + 1\n",
    "    \n",
    "    elif X <=  L[N-1] *2 + 2:\n",
    "        return rec(N-1, X - L[N-1] -2, L, S) + S[N-1] + 1\n",
    "    \n",
    "    else:\n",
    "        return 2 * S[N-1] + 1\n",
    "    \n",
    "L = [1] * (n+1)\n",
    "S = [1] * (n+1)\n",
    "for i in range(1, n+1):\n",
    "    L[i] = 2 * L[i-1] + 3\n",
    "    S[i] = 2 * S[i-1] + 1\n",
    "    \n",
    "\n",
    "ans = rec(n, x, L, S)\n",
    "print(ans)\n"
   ]
  },
  {
   "cell_type": "code",
   "execution_count": null,
   "metadata": {},
   "outputs": [],
   "source": []
  }
 ],
 "metadata": {
  "kernelspec": {
   "display_name": "Python 3",
   "language": "python",
   "name": "python3"
  },
  "language_info": {
   "codemirror_mode": {
    "name": "ipython",
    "version": 3
   },
   "file_extension": ".py",
   "mimetype": "text/x-python",
   "name": "python",
   "nbconvert_exporter": "python",
   "pygments_lexer": "ipython3",
   "version": "3.8.3"
  }
 },
 "nbformat": 4,
 "nbformat_minor": 4
}
