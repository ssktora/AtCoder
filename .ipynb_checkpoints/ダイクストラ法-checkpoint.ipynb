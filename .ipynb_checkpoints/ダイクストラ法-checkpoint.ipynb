{
 "cells": [
  {
   "cell_type": "markdown",
   "metadata": {},
   "source": [
    "https://atcoder.jp/contests/abc340/tasks/abc340_d"
   ]
  },
  {
   "cell_type": "code",
   "execution_count": null,
   "metadata": {},
   "outputs": [],
   "source": [
    "import heapq\n",
    "\n",
    "N=int(input())\n",
    "INF=10**30\n",
    "dist=[INF]*N\n",
    "G=[[] for _ in range(N)]\n",
    "next=[]\n",
    "\n",
    "def dijkstra():\n",
    "    dist[0]=0\n",
    "    heapq.heappush(next,(0,0))\n",
    "    while next:\n",
    "        c,u=heapq.heappop(next)\n",
    "        if dist[u]<c: continue\n",
    "            for v,cost in G[u]:\n",
    "                if dist[v]>dist[u]+cost:\n",
    "                    dist[v]=dist[u]+cost\n",
    "                    heapq.heappush(next,(dist[v],v))\n",
    "\n",
    "for i in range(N-1):\n",
    "    a,b,x=map(int, input().split())\n",
    "    G[i].append((i+1,a))\n",
    "    G[i].append((x-1,b))\n",
    "\n",
    "dijkstra()\n",
    "\n",
    "print(dist[-1])"
   ]
  }
 ],
 "metadata": {
  "kernelspec": {
   "display_name": "Python 3",
   "language": "python",
   "name": "python3"
  },
  "language_info": {
   "codemirror_mode": {
    "name": "ipython",
    "version": 3
   },
   "file_extension": ".py",
   "mimetype": "text/x-python",
   "name": "python",
   "nbconvert_exporter": "python",
   "pygments_lexer": "ipython3",
   "version": "3.8.3"
  }
 },
 "nbformat": 4,
 "nbformat_minor": 4
}
