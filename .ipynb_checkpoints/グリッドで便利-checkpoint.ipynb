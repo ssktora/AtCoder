{
 "cells": [
  {
   "cell_type": "code",
   "execution_count": 1,
   "metadata": {},
   "outputs": [],
   "source": [
    "Vec = [(1, 0), (-1, 0), (0, 1), (0, -1)]\n",
    "def clamp(v, lo, hi):\n",
    "    if v < lo:\n",
    "        return lo\n",
    "    if hi < v:\n",
    "        return hi\n",
    "    else:\n",
    "        return v\n",
    "\n",
    "\n",
    "def moved_pos(position, di, dj):\n",
    "    nex_i, nex_j = clamp(i + di, 0, N - 1), clamp(j + dj, 0, N - 1)\n",
    "    if S[nex_i][nex_j] == '#':\n",
    "        return position\n",
    "    else:\n",
    "        return pos(nex_i, nex_j)\n"
   ]
  },
  {
   "cell_type": "code",
   "execution_count": 2,
   "metadata": {},
   "outputs": [],
   "source": [
    "def is_valid_move(x, y, grid):\n",
    "    # グリッドの範囲を超えていないか、壁や障害物がないかを確認\n",
    "    return 0 <= x < len(grid) and 0 <= y < len(grid[0]) and grid[x][y] != '壁'\n",
    "\n",
    "def find_next_positions(current_x, current_y, grid):\n",
    "    directions = [(0, 1), (0, -1), (1, 0), (-1, 0)]  # 北、南、東、西\n",
    "\n",
    "    next_positions = []\n",
    "\n",
    "    for dx, dy in directions:\n",
    "        new_x, new_y = current_x + dx, current_y + dy\n",
    "\n",
    "        if is_valid_move(new_x, new_y, grid):\n",
    "            next_positions.append((new_x, new_y))\n",
    "        else:\n",
    "            next_positions.append((current_x, current_y))  # 壁や障害物がある場合は現在の位置を追加\n",
    "\n",
    "    return next_positions"
   ]
  },
  {
   "cell_type": "code",
   "execution_count": null,
   "metadata": {},
   "outputs": [],
   "source": []
  }
 ],
 "metadata": {
  "kernelspec": {
   "display_name": "Python 3",
   "language": "python",
   "name": "python3"
  },
  "language_info": {
   "codemirror_mode": {
    "name": "ipython",
    "version": 3
   },
   "file_extension": ".py",
   "mimetype": "text/x-python",
   "name": "python",
   "nbconvert_exporter": "python",
   "pygments_lexer": "ipython3",
   "version": "3.8.3"
  }
 },
 "nbformat": 4,
 "nbformat_minor": 4
}
