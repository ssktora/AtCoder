{
 "cells": [
  {
   "cell_type": "code",
   "execution_count": 3,
   "metadata": {},
   "outputs": [
    {
     "name": "stdout",
     "output_type": "stream",
     "text": [
      "ASSA\n",
      "Counter({'A': 2, 'S': 2})\n"
     ]
    }
   ],
   "source": [
    "from collections import Counter\n",
    "S = list(input())\n",
    "count = Counter(S)\n",
    "frag = True\n",
    "for v in count.values():\n",
    "    if v != 2:\n",
    "        frag = False\n",
    "        print(\"No\")\n",
    "        break\n",
    "if frag:\n",
    "    print(\"Yes\")"
   ]
  },
  {
   "cell_type": "code",
   "execution_count": null,
   "metadata": {},
   "outputs": [],
   "source": [
    "n = int(input())\n",
    "p_list = list(map(int, input().split()))\n",
    "ans = 0\n",
    "for i in range(1,n-1):\n",
    "    if p_list[i-1] < p_list[i] < p_list[i+1]:\n",
    "        ans += 1\n",
    "    elif p_list[i+1] < p_list[i] < p_list[i-1]:\n",
    "        ans += 1\n",
    "print(ans)"
   ]
  },
  {
   "cell_type": "code",
   "execution_count": 6,
   "metadata": {},
   "outputs": [
    {
     "name": "stdout",
     "output_type": "stream",
     "text": [
      "6\n",
      "9 1 4 4 6 7\n",
      "[1, 4, 4, 6, 7, 9]\n"
     ]
    }
   ],
   "source": [
    "n = int(input())\n",
    "D = list(map(int, input().split()))\n",
    "D = sorted(D)\n",
    "i = n // 2\n",
    "ans = D[i] - D[i-1]\n",
    "print(ans)"
   ]
  },
  {
   "cell_type": "code",
   "execution_count": null,
   "metadata": {},
   "outputs": [],
   "source": [
    "N, K = map(int, input().split())\n",
    "for i in range(K):\n",
    "    if i == 0:\n",
    "        print((N-K)+1)\n",
    "    else:\n",
    "        ans = 1\n",
    "        for d in range(1,N+1):\n",
    "            ans *= d\n",
    "        \n",
    "    \n",
    "    "
   ]
  },
  {
   "cell_type": "code",
   "execution_count": 21,
   "metadata": {},
   "outputs": [
    {
     "name": "stdout",
     "output_type": "stream",
     "text": [
      "5 3\n",
      "3\n",
      "6\n",
      "1\n"
     ]
    }
   ],
   "source": [
    "n, k = map(int, input().split())\n",
    "\n",
    "# c = [[0 for _ in range(4005)] for _ in range(4005)]\n",
    "# for i in range(4000):\n",
    "#     for j in range(4000):\n",
    "#         c[i+1][j] += c[i][j]\n",
    "#         c[i+1][j+1] += c[i][j]\n",
    "\n",
    "\n",
    "# パスカルの三角形を初期化\n",
    "pascal_triangle = [[0] * (k + 1) for _ in range(n + 1)]\n",
    "\n",
    "# 初期条件を設定\n",
    "for i in range(n + 1):\n",
    "    pascal_triangle[i][0] = 1\n",
    "for j in range(k + 1):\n",
    "    pascal_triangle[j][j] = 1\n",
    "\n",
    "# 動的計画法を使用して三角形を構築\n",
    "for i in range(1, n + 1):\n",
    "    for j in range(1, min(i, k) + 1):\n",
    "        pascal_triangle[i][j] = pascal_triangle[i - 1][j - 1] + pascal_triangle[i - 1][j]\n",
    "    \n",
    "def comb(n, k):\n",
    "    if k < 0 or k > n:\n",
    "        return 0\n",
    "    if k == 0 or k == n:\n",
    "        return 1\n",
    "    \n",
    "    return pascal_triangle[n][k]\n",
    "\n",
    "def f2(n,k):\n",
    "    return comb(n+k-1, k-1)\n",
    "\n",
    "def f(n,k):\n",
    "    if n < k:\n",
    "        return 0\n",
    "    if n == 0 and k == 0:\n",
    "        return 1\n",
    "    if k < 1:\n",
    "        return 0\n",
    "    return f2(n-k, k)\n",
    "\n",
    "for i in range(1,k+1):\n",
    "    blue = f(k,i)\n",
    "    red = 0\n",
    "    red += f(n-k, i-1)\n",
    "    red += f(n-k, i)\n",
    "    red += f(n-k, i)\n",
    "    red += f(n-k, i+1)\n",
    "    ans = blue*red % (10**9+7)\n",
    "    print(ans)"
   ]
  },
  {
   "cell_type": "code",
   "execution_count": 9,
   "metadata": {},
   "outputs": [
    {
     "name": "stdout",
     "output_type": "stream",
     "text": [
      "[1998, 3990006, 327341989]\n"
     ]
    }
   ],
   "source": [
    "MOD = 10**9 + 7\n",
    "\n",
    "def comb(n, k, mod=MOD):\n",
    "    if k < 0 or k > n:\n",
    "        return 0\n",
    "    num = 1\n",
    "    den = 1\n",
    "    for i in range(k):\n",
    "        num = num * (n - i) % mod\n",
    "        den = den * (i + 1) % mod\n",
    "    return num * pow(den, mod - 2, mod) % mod\n",
    "\n",
    "def main(N, K):\n",
    "    results = []\n",
    "    for i in range(1, K + 1):\n",
    "        ways = comb(K - 1, i - 1) * comb(N - K + 1, i) % MOD\n",
    "        results.append(ways)\n",
    "    return results\n",
    "\n",
    "# NとKの値を適宜設定\n",
    "N = 2000  # 例\n",
    "K = 3  # 例\n",
    "print(main(N, K))"
   ]
  },
  {
   "cell_type": "code",
   "execution_count": null,
   "metadata": {},
   "outputs": [],
   "source": []
  }
 ],
 "metadata": {
  "kernelspec": {
   "display_name": "Python 3",
   "language": "python",
   "name": "python3"
  },
  "language_info": {
   "codemirror_mode": {
    "name": "ipython",
    "version": 3
   },
   "file_extension": ".py",
   "mimetype": "text/x-python",
   "name": "python",
   "nbconvert_exporter": "python",
   "pygments_lexer": "ipython3",
   "version": "3.8.3"
  }
 },
 "nbformat": 4,
 "nbformat_minor": 4
}
