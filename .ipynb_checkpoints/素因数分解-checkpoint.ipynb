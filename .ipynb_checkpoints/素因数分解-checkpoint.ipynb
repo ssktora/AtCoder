{
 "cells": [
  {
   "cell_type": "code",
   "execution_count": null,
   "metadata": {},
   "outputs": [],
   "source": [
    "def factorization(n):\n",
    "    now_num = n\n",
    "    prime_cnt_list = []\n",
    "    for i in range(2, n + 1):\n",
    "        if i * i > now_num:\n",
    "            break\n",
    "        if now_num % i:\n",
    "            continue\n",
    "        cnt = 0\n",
    "        while not now_num % i:\n",
    "            now_num //= i\n",
    "            cnt += 1\n",
    "        prime_cnt_list.append((i, cnt))\n",
    "    if now_num != 1:\n",
    "        prime_cnt_list.append((now_num, 1))\n",
    "    return prime_cnt_list"
   ]
  }
 ],
 "metadata": {
  "kernelspec": {
   "display_name": "Python 3",
   "language": "python",
   "name": "python3"
  },
  "language_info": {
   "codemirror_mode": {
    "name": "ipython",
    "version": 3
   },
   "file_extension": ".py",
   "mimetype": "text/x-python",
   "name": "python",
   "nbconvert_exporter": "python",
   "pygments_lexer": "ipython3",
   "version": "3.8.3"
  }
 },
 "nbformat": 4,
 "nbformat_minor": 4
}
